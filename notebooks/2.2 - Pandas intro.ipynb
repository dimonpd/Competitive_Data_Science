{
 "cells": [
  {
   "cell_type": "markdown",
   "id": "ac3c8e34-cca3-446f-af19-432534c31366",
   "metadata": {},
   "source": [
    "# <center> 🐼 [Введение в Pandas](https://stepik.org/lesson/681964/)</center>\n",
    "\n",
    "Этот ноутбук поможет разобраться вам в основных моментах предварительной обработки данных в Pandas, познакомиться с полезными функциями и трюками. \n",
    "\n",
    "### Оглавление ноутбука\n",
    "<img src=\"../images/pandas.jpg\" align=\"right\" width=\"528\" height=\"528\" />\n",
    "<br>\n",
    "\n",
    "<p><font size=\"3\" face=\"Arial\" font-size=\"large\">\n",
    "<ul type=\"square\"><li><a href=\"#1\">📑 Структуры данных в Pandas</a></li><li><a href=\"#2\">🔍 Разведочный анализ данных</a><ul><li><a href=\"#3\">Загрузка и первичное знакомство</a></li><li><a href=\"#4\">Предварительный осмотр</a></li><li><a href=\"#5\">Работа с числовыми данными</a></li></ul></li><li><a href=\"#6\">📤 Извлечение необходимой информации</a><ul><li><a href=\"#7\">Сортировка</a></li><li><a href=\"#8\">Методы фильтрации</a></li><li><a href=\"#9\">Работа с пропусками</a></li><li><a href=\"#10\">Индексация данных</a></li><li><a href=\"#11\">Функции</a></li></ul></li>\n",
    "</ul></font></p>"
   ]
  },
  {
   "cell_type": "markdown",
   "id": "02bf8a93",
   "metadata": {
    "tags": []
   },
   "source": [
    "# <center>📑 Cтруктуры данных в Pandas. </center>\n",
    "\n",
    "<p id=\"1\"></p>\n",
    "\n",
    "`Series` — это структура, используемая для работы с последовательностью одномерных данных, а `DataFrame` — более сложная и подходит для нескольких измерений. `Series` – одномерный массив с метками, способный хранить любой тип данных.\n",
    "\n",
    "<img src=\"https://sun9-43.userapi.com/impg/0k7fzcgju-6hY10XmQoaJkfxOxr0-SvgA3NHQg/N0Hb-T_fXio.jpg?size=1280x720&quality=96&sign=6ac22e0ff168023b0dff780c1bfa5e36&type=album\"></img>"
   ]
  },
  {
   "cell_type": "code",
   "id": "a534db11-4b91-497c-9073-2ac811984f3a",
   "metadata": {
    "ExecuteTime": {
     "end_time": "2024-09-02T12:21:43.032640Z",
     "start_time": "2024-09-02T12:21:43.030282Z"
    }
   },
   "source": [
    "import pandas as pd # pandas для работы с табличными данными\n",
    "import numpy as np  # numpy для математических действий"
   ],
   "outputs": [],
   "execution_count": 32
  },
  {
   "cell_type": "markdown",
   "id": "5589c9c4-303d-4863-b97d-d3aa766c8a7c",
   "metadata": {},
   "source": [
    "### Создать`Series`  можно так:"
   ]
  },
  {
   "cell_type": "markdown",
   "id": "12c99126-bc18-46b1-8614-db2484c1ddcc",
   "metadata": {},
   "source": [
    "`s = pd.Series(data, index=index, name='something')`"
   ]
  },
  {
   "cell_type": "markdown",
   "id": "b4e5995b-aac7-408a-a8ab-22d12abd7ce6",
   "metadata": {},
   "source": [
    "Метки именуются `index`, данные `data` могут быть любыми, `name` является именем `Series`."
   ]
  },
  {
   "cell_type": "code",
   "id": "fcb402b7",
   "metadata": {
    "ExecuteTime": {
     "end_time": "2024-09-02T12:21:43.102996Z",
     "start_time": "2024-09-02T12:21:43.099159Z"
    }
   },
   "source": [
    "data = ['cat', 'cat', 'snake', 'dog', 'dog', 'cat', 'snake', 'cat', 'dog', 'dog']\n",
    "labels = ['a', 'b', 'c', 'd', 'e', 'f', 'g', 'h', 'i', 'j']\n",
    "s = pd.Series(data, index=labels, name='animals')\n",
    "s"
   ],
   "outputs": [
    {
     "data": {
      "text/plain": [
       "a      cat\n",
       "b      cat\n",
       "c    snake\n",
       "d      dog\n",
       "e      dog\n",
       "f      cat\n",
       "g    snake\n",
       "h      cat\n",
       "i      dog\n",
       "j      dog\n",
       "Name: animals, dtype: object"
      ]
     },
     "execution_count": 33,
     "metadata": {},
     "output_type": "execute_result"
    }
   ],
   "execution_count": 33
  },
  {
   "cell_type": "markdown",
   "id": "3d3b8d6d",
   "metadata": {},
   "source": [
    "### Создать `DataFrame` проще из словаря, а в качестве значений строк использовать список"
   ]
  },
  {
   "cell_type": "code",
   "id": "7f0df007",
   "metadata": {
    "ExecuteTime": {
     "end_time": "2024-09-02T12:21:43.172521Z",
     "start_time": "2024-09-02T12:21:43.166846Z"
    }
   },
   "source": [
    "data = {'animal': ['cat', 'cat', 'snake', 'dog', 'dog', 'cat', 'snake', 'cat', 'dog', 'dog'],\n",
    "         'age': [2.5, 3, 0.5, np.nan, 5, 2, 4.5, np.nan, 7, 3],\n",
    "         'visits': [1, 3, 2, 3, 2, 3, 1, 1, 2, 1],\n",
    "         'priority': ['yes', 'yes', 'no', 'yes', 'no', 'no', 'no', 'yes', 'no', 'no']}\n",
    "\n",
    "labels = ['a', 'b', 'c', 'd', 'e', 'f', 'g', 'h', 'i', 'j']\n",
    "\n",
    "df = pd.DataFrame(data, index=labels)\n",
    "df"
   ],
   "outputs": [
    {
     "data": {
      "text/plain": [
       "  animal  age  visits priority\n",
       "a    cat  2.5       1      yes\n",
       "b    cat  3.0       3      yes\n",
       "c  snake  0.5       2       no\n",
       "d    dog  NaN       3      yes\n",
       "e    dog  5.0       2       no\n",
       "f    cat  2.0       3       no\n",
       "g  snake  4.5       1       no\n",
       "h    cat  NaN       1      yes\n",
       "i    dog  7.0       2       no\n",
       "j    dog  3.0       1       no"
      ],
      "text/html": [
       "<div>\n",
       "<style scoped>\n",
       "    .dataframe tbody tr th:only-of-type {\n",
       "        vertical-align: middle;\n",
       "    }\n",
       "\n",
       "    .dataframe tbody tr th {\n",
       "        vertical-align: top;\n",
       "    }\n",
       "\n",
       "    .dataframe thead th {\n",
       "        text-align: right;\n",
       "    }\n",
       "</style>\n",
       "<table border=\"1\" class=\"dataframe\">\n",
       "  <thead>\n",
       "    <tr style=\"text-align: right;\">\n",
       "      <th></th>\n",
       "      <th>animal</th>\n",
       "      <th>age</th>\n",
       "      <th>visits</th>\n",
       "      <th>priority</th>\n",
       "    </tr>\n",
       "  </thead>\n",
       "  <tbody>\n",
       "    <tr>\n",
       "      <th>a</th>\n",
       "      <td>cat</td>\n",
       "      <td>2.5</td>\n",
       "      <td>1</td>\n",
       "      <td>yes</td>\n",
       "    </tr>\n",
       "    <tr>\n",
       "      <th>b</th>\n",
       "      <td>cat</td>\n",
       "      <td>3.0</td>\n",
       "      <td>3</td>\n",
       "      <td>yes</td>\n",
       "    </tr>\n",
       "    <tr>\n",
       "      <th>c</th>\n",
       "      <td>snake</td>\n",
       "      <td>0.5</td>\n",
       "      <td>2</td>\n",
       "      <td>no</td>\n",
       "    </tr>\n",
       "    <tr>\n",
       "      <th>d</th>\n",
       "      <td>dog</td>\n",
       "      <td>NaN</td>\n",
       "      <td>3</td>\n",
       "      <td>yes</td>\n",
       "    </tr>\n",
       "    <tr>\n",
       "      <th>e</th>\n",
       "      <td>dog</td>\n",
       "      <td>5.0</td>\n",
       "      <td>2</td>\n",
       "      <td>no</td>\n",
       "    </tr>\n",
       "    <tr>\n",
       "      <th>f</th>\n",
       "      <td>cat</td>\n",
       "      <td>2.0</td>\n",
       "      <td>3</td>\n",
       "      <td>no</td>\n",
       "    </tr>\n",
       "    <tr>\n",
       "      <th>g</th>\n",
       "      <td>snake</td>\n",
       "      <td>4.5</td>\n",
       "      <td>1</td>\n",
       "      <td>no</td>\n",
       "    </tr>\n",
       "    <tr>\n",
       "      <th>h</th>\n",
       "      <td>cat</td>\n",
       "      <td>NaN</td>\n",
       "      <td>1</td>\n",
       "      <td>yes</td>\n",
       "    </tr>\n",
       "    <tr>\n",
       "      <th>i</th>\n",
       "      <td>dog</td>\n",
       "      <td>7.0</td>\n",
       "      <td>2</td>\n",
       "      <td>no</td>\n",
       "    </tr>\n",
       "    <tr>\n",
       "      <th>j</th>\n",
       "      <td>dog</td>\n",
       "      <td>3.0</td>\n",
       "      <td>1</td>\n",
       "      <td>no</td>\n",
       "    </tr>\n",
       "  </tbody>\n",
       "</table>\n",
       "</div>"
      ]
     },
     "execution_count": 34,
     "metadata": {},
     "output_type": "execute_result"
    }
   ],
   "execution_count": 34
  },
  {
   "cell_type": "markdown",
   "id": "f4d81e0d",
   "metadata": {},
   "source": [
    "### А теперь сделаем открытие! Столбцы в `DataFrame` являются `Series`!"
   ]
  },
  {
   "cell_type": "code",
   "id": "c1b89dfb",
   "metadata": {
    "ExecuteTime": {
     "end_time": "2024-09-02T12:21:43.354057Z",
     "start_time": "2024-09-02T12:21:43.351156Z"
    }
   },
   "source": [
    "s = df.age\n",
    "s"
   ],
   "outputs": [
    {
     "data": {
      "text/plain": [
       "a    2.5\n",
       "b    3.0\n",
       "c    0.5\n",
       "d    NaN\n",
       "e    5.0\n",
       "f    2.0\n",
       "g    4.5\n",
       "h    NaN\n",
       "i    7.0\n",
       "j    3.0\n",
       "Name: age, dtype: float64"
      ]
     },
     "execution_count": 35,
     "metadata": {},
     "output_type": "execute_result"
    }
   ],
   "execution_count": 35
  },
  {
   "cell_type": "markdown",
   "id": "4cf94ac9",
   "metadata": {},
   "source": [
    "Обращение по индексу `s[0]`"
   ]
  },
  {
   "cell_type": "code",
   "id": "ed09e183",
   "metadata": {
    "ExecuteTime": {
     "end_time": "2024-09-02T12:21:43.746391Z",
     "start_time": "2024-09-02T12:21:43.743152Z"
    }
   },
   "source": [
    "s[0]"
   ],
   "outputs": [
    {
     "name": "stderr",
     "output_type": "stream",
     "text": [
      "C:\\Users\\Dimon\\AppData\\Local\\Temp\\ipykernel_15240\\2186746824.py:1: FutureWarning: Series.__getitem__ treating keys as positions is deprecated. In a future version, integer keys will always be treated as labels (consistent with DataFrame behavior). To access a value by position, use `ser.iloc[pos]`\n",
      "  s[0]\n"
     ]
    },
    {
     "data": {
      "text/plain": [
       "2.5"
      ]
     },
     "execution_count": 36,
     "metadata": {},
     "output_type": "execute_result"
    }
   ],
   "execution_count": 36
  },
  {
   "cell_type": "markdown",
   "id": "e1765424",
   "metadata": {},
   "source": [
    "Элементы по определенным индексам `s[[4, 3, 1]]`"
   ]
  },
  {
   "cell_type": "code",
   "id": "2b0e0142",
   "metadata": {
    "ExecuteTime": {
     "end_time": "2024-09-02T12:21:44.354451Z",
     "start_time": "2024-09-02T12:21:44.350780Z"
    }
   },
   "source": [
    "s[[4, 3, 1]]"
   ],
   "outputs": [
    {
     "name": "stderr",
     "output_type": "stream",
     "text": [
      "C:\\Users\\Dimon\\AppData\\Local\\Temp\\ipykernel_15240\\2138125964.py:1: FutureWarning: Series.__getitem__ treating keys as positions is deprecated. In a future version, integer keys will always be treated as labels (consistent with DataFrame behavior). To access a value by position, use `ser.iloc[pos]`\n",
      "  s[[4, 3, 1]]\n"
     ]
    },
    {
     "data": {
      "text/plain": [
       "e    5.0\n",
       "d    NaN\n",
       "b    3.0\n",
       "Name: age, dtype: float64"
      ]
     },
     "execution_count": 37,
     "metadata": {},
     "output_type": "execute_result"
    }
   ],
   "execution_count": 37
  },
  {
   "cell_type": "markdown",
   "id": "b6d188cb",
   "metadata": {},
   "source": [
    "Срезы `s[:3]`\n",
    "\n"
   ]
  },
  {
   "cell_type": "code",
   "id": "d8db3e0d",
   "metadata": {
    "ExecuteTime": {
     "end_time": "2024-09-02T12:21:44.572910Z",
     "start_time": "2024-09-02T12:21:44.569397Z"
    }
   },
   "source": [
    "s[:3]"
   ],
   "outputs": [
    {
     "data": {
      "text/plain": [
       "a    2.5\n",
       "b    3.0\n",
       "c    0.5\n",
       "Name: age, dtype: float64"
      ]
     },
     "execution_count": 38,
     "metadata": {},
     "output_type": "execute_result"
    }
   ],
   "execution_count": 38
  },
  {
   "cell_type": "markdown",
   "id": "21e543bb",
   "metadata": {},
   "source": [
    "Идеология словаря при обращении к элементам датафрейма"
   ]
  },
  {
   "cell_type": "code",
   "id": "0f466d4e",
   "metadata": {
    "ExecuteTime": {
     "end_time": "2024-09-02T12:21:44.697957Z",
     "start_time": "2024-09-02T12:21:44.694510Z"
    }
   },
   "source": [
    "s['a']"
   ],
   "outputs": [
    {
     "data": {
      "text/plain": [
       "2.5"
      ]
     },
     "execution_count": 39,
     "metadata": {},
     "output_type": "execute_result"
    }
   ],
   "execution_count": 39
  },
  {
   "cell_type": "code",
   "id": "80948de6",
   "metadata": {
    "scrolled": true,
    "ExecuteTime": {
     "end_time": "2024-09-02T12:21:45.030864Z",
     "start_time": "2024-09-02T12:21:45.027554Z"
    }
   },
   "source": [
    "'e' in s"
   ],
   "outputs": [
    {
     "data": {
      "text/plain": [
       "True"
      ]
     },
     "execution_count": 40,
     "metadata": {},
     "output_type": "execute_result"
    }
   ],
   "execution_count": 40
  },
  {
   "cell_type": "code",
   "id": "16bd7103",
   "metadata": {
    "ExecuteTime": {
     "end_time": "2024-09-02T12:21:45.396800Z",
     "start_time": "2024-09-02T12:21:45.393795Z"
    }
   },
   "source": [
    "'t' in s"
   ],
   "outputs": [
    {
     "data": {
      "text/plain": [
       "False"
      ]
     },
     "execution_count": 41,
     "metadata": {},
     "output_type": "execute_result"
    }
   ],
   "execution_count": 41
  },
  {
   "cell_type": "markdown",
   "id": "fe181658",
   "metadata": {},
   "source": [
    "__Арифметические операции к `Series`__\n",
    "\n"
   ]
  },
  {
   "cell_type": "code",
   "id": "cc0be9fe",
   "metadata": {
    "ExecuteTime": {
     "end_time": "2024-09-02T12:21:45.523476Z",
     "start_time": "2024-09-02T12:21:45.519518Z"
    }
   },
   "source": [
    "s + s"
   ],
   "outputs": [
    {
     "data": {
      "text/plain": [
       "a     5.0\n",
       "b     6.0\n",
       "c     1.0\n",
       "d     NaN\n",
       "e    10.0\n",
       "f     4.0\n",
       "g     9.0\n",
       "h     NaN\n",
       "i    14.0\n",
       "j     6.0\n",
       "Name: age, dtype: float64"
      ]
     },
     "execution_count": 42,
     "metadata": {},
     "output_type": "execute_result"
    }
   ],
   "execution_count": 42
  },
  {
   "cell_type": "markdown",
   "id": "17e131cb",
   "metadata": {},
   "source": [
    "__Логические операции к `Series`.__ Например, выбрать все значения, больше заданного\n",
    "\n"
   ]
  },
  {
   "cell_type": "code",
   "id": "f5de1b1d",
   "metadata": {
    "ExecuteTime": {
     "end_time": "2024-09-02T12:21:45.652328Z",
     "start_time": "2024-09-02T12:21:45.648968Z"
    }
   },
   "source": [
    "s[s > 3]"
   ],
   "outputs": [
    {
     "data": {
      "text/plain": [
       "e    5.0\n",
       "g    4.5\n",
       "i    7.0\n",
       "Name: age, dtype: float64"
      ]
     },
     "execution_count": 43,
     "metadata": {},
     "output_type": "execute_result"
    }
   ],
   "execution_count": 43
  },
  {
   "cell_type": "markdown",
   "id": "23172a65",
   "metadata": {},
   "source": [
    "Функции из модуля `numpy` применяются поэлементно. Например, экспонента `np.exp(s)`\n",
    "\n",
    "Количество строк можно узнать так `len(s)`"
   ]
  },
  {
   "cell_type": "markdown",
   "id": "e3800563",
   "metadata": {},
   "source": [
    "##   Редактирование таблиц. Создание и удаление столбцов. "
   ]
  },
  {
   "cell_type": "markdown",
   "id": "d69e364e",
   "metadata": {},
   "source": [
    "<div class=\"alert alert-info\">\n",
    "\n",
    "К столбцам `DataFrame` применимы любые математические операции. Надо толькo понимать, как работает векторизация.\n",
    "\n",
    "Так, мы можем присвоить всему столбцу `'visits'` значение 3 и оно автоматически появится в каждой строке:"
   ]
  },
  {
   "cell_type": "code",
   "id": "aa28d7c6",
   "metadata": {
    "ExecuteTime": {
     "end_time": "2024-09-02T12:21:45.773306Z",
     "start_time": "2024-09-02T12:21:45.767970Z"
    }
   },
   "source": [
    "df['visits'] = 3\n",
    "df"
   ],
   "outputs": [
    {
     "data": {
      "text/plain": [
       "  animal  age  visits priority\n",
       "a    cat  2.5       3      yes\n",
       "b    cat  3.0       3      yes\n",
       "c  snake  0.5       3       no\n",
       "d    dog  NaN       3      yes\n",
       "e    dog  5.0       3       no\n",
       "f    cat  2.0       3       no\n",
       "g  snake  4.5       3       no\n",
       "h    cat  NaN       3      yes\n",
       "i    dog  7.0       3       no\n",
       "j    dog  3.0       3       no"
      ],
      "text/html": [
       "<div>\n",
       "<style scoped>\n",
       "    .dataframe tbody tr th:only-of-type {\n",
       "        vertical-align: middle;\n",
       "    }\n",
       "\n",
       "    .dataframe tbody tr th {\n",
       "        vertical-align: top;\n",
       "    }\n",
       "\n",
       "    .dataframe thead th {\n",
       "        text-align: right;\n",
       "    }\n",
       "</style>\n",
       "<table border=\"1\" class=\"dataframe\">\n",
       "  <thead>\n",
       "    <tr style=\"text-align: right;\">\n",
       "      <th></th>\n",
       "      <th>animal</th>\n",
       "      <th>age</th>\n",
       "      <th>visits</th>\n",
       "      <th>priority</th>\n",
       "    </tr>\n",
       "  </thead>\n",
       "  <tbody>\n",
       "    <tr>\n",
       "      <th>a</th>\n",
       "      <td>cat</td>\n",
       "      <td>2.5</td>\n",
       "      <td>3</td>\n",
       "      <td>yes</td>\n",
       "    </tr>\n",
       "    <tr>\n",
       "      <th>b</th>\n",
       "      <td>cat</td>\n",
       "      <td>3.0</td>\n",
       "      <td>3</td>\n",
       "      <td>yes</td>\n",
       "    </tr>\n",
       "    <tr>\n",
       "      <th>c</th>\n",
       "      <td>snake</td>\n",
       "      <td>0.5</td>\n",
       "      <td>3</td>\n",
       "      <td>no</td>\n",
       "    </tr>\n",
       "    <tr>\n",
       "      <th>d</th>\n",
       "      <td>dog</td>\n",
       "      <td>NaN</td>\n",
       "      <td>3</td>\n",
       "      <td>yes</td>\n",
       "    </tr>\n",
       "    <tr>\n",
       "      <th>e</th>\n",
       "      <td>dog</td>\n",
       "      <td>5.0</td>\n",
       "      <td>3</td>\n",
       "      <td>no</td>\n",
       "    </tr>\n",
       "    <tr>\n",
       "      <th>f</th>\n",
       "      <td>cat</td>\n",
       "      <td>2.0</td>\n",
       "      <td>3</td>\n",
       "      <td>no</td>\n",
       "    </tr>\n",
       "    <tr>\n",
       "      <th>g</th>\n",
       "      <td>snake</td>\n",
       "      <td>4.5</td>\n",
       "      <td>3</td>\n",
       "      <td>no</td>\n",
       "    </tr>\n",
       "    <tr>\n",
       "      <th>h</th>\n",
       "      <td>cat</td>\n",
       "      <td>NaN</td>\n",
       "      <td>3</td>\n",
       "      <td>yes</td>\n",
       "    </tr>\n",
       "    <tr>\n",
       "      <th>i</th>\n",
       "      <td>dog</td>\n",
       "      <td>7.0</td>\n",
       "      <td>3</td>\n",
       "      <td>no</td>\n",
       "    </tr>\n",
       "    <tr>\n",
       "      <th>j</th>\n",
       "      <td>dog</td>\n",
       "      <td>3.0</td>\n",
       "      <td>3</td>\n",
       "      <td>no</td>\n",
       "    </tr>\n",
       "  </tbody>\n",
       "</table>\n",
       "</div>"
      ]
     },
     "execution_count": 44,
     "metadata": {},
     "output_type": "execute_result"
    }
   ],
   "execution_count": 44
  },
  {
   "cell_type": "markdown",
   "id": "8e704f47",
   "metadata": {},
   "source": [
    "Надо увеличить возраст на год?  Просто увеличиваем столбец `'age'` на единицу. Даже не верится, что все так просто! \n",
    "\n"
   ]
  },
  {
   "cell_type": "code",
   "id": "91a89e68",
   "metadata": {
    "ExecuteTime": {
     "end_time": "2024-09-02T12:21:46.086412Z",
     "start_time": "2024-09-02T12:21:46.081465Z"
    }
   },
   "source": [
    "df.age = df.age + 1\n",
    "df"
   ],
   "outputs": [
    {
     "data": {
      "text/plain": [
       "  animal  age  visits priority\n",
       "a    cat  3.5       3      yes\n",
       "b    cat  4.0       3      yes\n",
       "c  snake  1.5       3       no\n",
       "d    dog  NaN       3      yes\n",
       "e    dog  6.0       3       no\n",
       "f    cat  3.0       3       no\n",
       "g  snake  5.5       3       no\n",
       "h    cat  NaN       3      yes\n",
       "i    dog  8.0       3       no\n",
       "j    dog  4.0       3       no"
      ],
      "text/html": [
       "<div>\n",
       "<style scoped>\n",
       "    .dataframe tbody tr th:only-of-type {\n",
       "        vertical-align: middle;\n",
       "    }\n",
       "\n",
       "    .dataframe tbody tr th {\n",
       "        vertical-align: top;\n",
       "    }\n",
       "\n",
       "    .dataframe thead th {\n",
       "        text-align: right;\n",
       "    }\n",
       "</style>\n",
       "<table border=\"1\" class=\"dataframe\">\n",
       "  <thead>\n",
       "    <tr style=\"text-align: right;\">\n",
       "      <th></th>\n",
       "      <th>animal</th>\n",
       "      <th>age</th>\n",
       "      <th>visits</th>\n",
       "      <th>priority</th>\n",
       "    </tr>\n",
       "  </thead>\n",
       "  <tbody>\n",
       "    <tr>\n",
       "      <th>a</th>\n",
       "      <td>cat</td>\n",
       "      <td>3.5</td>\n",
       "      <td>3</td>\n",
       "      <td>yes</td>\n",
       "    </tr>\n",
       "    <tr>\n",
       "      <th>b</th>\n",
       "      <td>cat</td>\n",
       "      <td>4.0</td>\n",
       "      <td>3</td>\n",
       "      <td>yes</td>\n",
       "    </tr>\n",
       "    <tr>\n",
       "      <th>c</th>\n",
       "      <td>snake</td>\n",
       "      <td>1.5</td>\n",
       "      <td>3</td>\n",
       "      <td>no</td>\n",
       "    </tr>\n",
       "    <tr>\n",
       "      <th>d</th>\n",
       "      <td>dog</td>\n",
       "      <td>NaN</td>\n",
       "      <td>3</td>\n",
       "      <td>yes</td>\n",
       "    </tr>\n",
       "    <tr>\n",
       "      <th>e</th>\n",
       "      <td>dog</td>\n",
       "      <td>6.0</td>\n",
       "      <td>3</td>\n",
       "      <td>no</td>\n",
       "    </tr>\n",
       "    <tr>\n",
       "      <th>f</th>\n",
       "      <td>cat</td>\n",
       "      <td>3.0</td>\n",
       "      <td>3</td>\n",
       "      <td>no</td>\n",
       "    </tr>\n",
       "    <tr>\n",
       "      <th>g</th>\n",
       "      <td>snake</td>\n",
       "      <td>5.5</td>\n",
       "      <td>3</td>\n",
       "      <td>no</td>\n",
       "    </tr>\n",
       "    <tr>\n",
       "      <th>h</th>\n",
       "      <td>cat</td>\n",
       "      <td>NaN</td>\n",
       "      <td>3</td>\n",
       "      <td>yes</td>\n",
       "    </tr>\n",
       "    <tr>\n",
       "      <th>i</th>\n",
       "      <td>dog</td>\n",
       "      <td>8.0</td>\n",
       "      <td>3</td>\n",
       "      <td>no</td>\n",
       "    </tr>\n",
       "    <tr>\n",
       "      <th>j</th>\n",
       "      <td>dog</td>\n",
       "      <td>4.0</td>\n",
       "      <td>3</td>\n",
       "      <td>no</td>\n",
       "    </tr>\n",
       "  </tbody>\n",
       "</table>\n",
       "</div>"
      ]
     },
     "execution_count": 45,
     "metadata": {},
     "output_type": "execute_result"
    }
   ],
   "execution_count": 45
  },
  {
   "cell_type": "markdown",
   "id": "eb221d3f",
   "metadata": {},
   "source": [
    "Можем даже создать новый столбец, используя другие столбцы `'age'` и `'visits'`. Казалось бы, всего одна строчка, но применяется для всего столбца! Векторизация это секретная магия `pandas` =)\n",
    "\n",
    "Аналогично, можно  вычесть, умножить, разделить и сложить два численных столбца друг с другом."
   ]
  },
  {
   "cell_type": "code",
   "id": "1d45194a",
   "metadata": {
    "ExecuteTime": {
     "end_time": "2024-09-02T12:21:46.298040Z",
     "start_time": "2024-09-02T12:21:46.291865Z"
    }
   },
   "source": [
    "df['age_visits_sum'] = df.age + df.visits\n",
    "df"
   ],
   "outputs": [
    {
     "data": {
      "text/plain": [
       "  animal  age  visits priority  age_visits_sum\n",
       "a    cat  3.5       3      yes             6.5\n",
       "b    cat  4.0       3      yes             7.0\n",
       "c  snake  1.5       3       no             4.5\n",
       "d    dog  NaN       3      yes             NaN\n",
       "e    dog  6.0       3       no             9.0\n",
       "f    cat  3.0       3       no             6.0\n",
       "g  snake  5.5       3       no             8.5\n",
       "h    cat  NaN       3      yes             NaN\n",
       "i    dog  8.0       3       no            11.0\n",
       "j    dog  4.0       3       no             7.0"
      ],
      "text/html": [
       "<div>\n",
       "<style scoped>\n",
       "    .dataframe tbody tr th:only-of-type {\n",
       "        vertical-align: middle;\n",
       "    }\n",
       "\n",
       "    .dataframe tbody tr th {\n",
       "        vertical-align: top;\n",
       "    }\n",
       "\n",
       "    .dataframe thead th {\n",
       "        text-align: right;\n",
       "    }\n",
       "</style>\n",
       "<table border=\"1\" class=\"dataframe\">\n",
       "  <thead>\n",
       "    <tr style=\"text-align: right;\">\n",
       "      <th></th>\n",
       "      <th>animal</th>\n",
       "      <th>age</th>\n",
       "      <th>visits</th>\n",
       "      <th>priority</th>\n",
       "      <th>age_visits_sum</th>\n",
       "    </tr>\n",
       "  </thead>\n",
       "  <tbody>\n",
       "    <tr>\n",
       "      <th>a</th>\n",
       "      <td>cat</td>\n",
       "      <td>3.5</td>\n",
       "      <td>3</td>\n",
       "      <td>yes</td>\n",
       "      <td>6.5</td>\n",
       "    </tr>\n",
       "    <tr>\n",
       "      <th>b</th>\n",
       "      <td>cat</td>\n",
       "      <td>4.0</td>\n",
       "      <td>3</td>\n",
       "      <td>yes</td>\n",
       "      <td>7.0</td>\n",
       "    </tr>\n",
       "    <tr>\n",
       "      <th>c</th>\n",
       "      <td>snake</td>\n",
       "      <td>1.5</td>\n",
       "      <td>3</td>\n",
       "      <td>no</td>\n",
       "      <td>4.5</td>\n",
       "    </tr>\n",
       "    <tr>\n",
       "      <th>d</th>\n",
       "      <td>dog</td>\n",
       "      <td>NaN</td>\n",
       "      <td>3</td>\n",
       "      <td>yes</td>\n",
       "      <td>NaN</td>\n",
       "    </tr>\n",
       "    <tr>\n",
       "      <th>e</th>\n",
       "      <td>dog</td>\n",
       "      <td>6.0</td>\n",
       "      <td>3</td>\n",
       "      <td>no</td>\n",
       "      <td>9.0</td>\n",
       "    </tr>\n",
       "    <tr>\n",
       "      <th>f</th>\n",
       "      <td>cat</td>\n",
       "      <td>3.0</td>\n",
       "      <td>3</td>\n",
       "      <td>no</td>\n",
       "      <td>6.0</td>\n",
       "    </tr>\n",
       "    <tr>\n",
       "      <th>g</th>\n",
       "      <td>snake</td>\n",
       "      <td>5.5</td>\n",
       "      <td>3</td>\n",
       "      <td>no</td>\n",
       "      <td>8.5</td>\n",
       "    </tr>\n",
       "    <tr>\n",
       "      <th>h</th>\n",
       "      <td>cat</td>\n",
       "      <td>NaN</td>\n",
       "      <td>3</td>\n",
       "      <td>yes</td>\n",
       "      <td>NaN</td>\n",
       "    </tr>\n",
       "    <tr>\n",
       "      <th>i</th>\n",
       "      <td>dog</td>\n",
       "      <td>8.0</td>\n",
       "      <td>3</td>\n",
       "      <td>no</td>\n",
       "      <td>11.0</td>\n",
       "    </tr>\n",
       "    <tr>\n",
       "      <th>j</th>\n",
       "      <td>dog</td>\n",
       "      <td>4.0</td>\n",
       "      <td>3</td>\n",
       "      <td>no</td>\n",
       "      <td>7.0</td>\n",
       "    </tr>\n",
       "  </tbody>\n",
       "</table>\n",
       "</div>"
      ]
     },
     "execution_count": 46,
     "metadata": {},
     "output_type": "execute_result"
    }
   ],
   "execution_count": 46
  },
  {
   "cell_type": "markdown",
   "id": "cbe0c778-0a3c-4688-a732-fde559646ae7",
   "metadata": {},
   "source": [
    "<div class=\"alert alert-info\">\n",
    "    \n",
    "<b>Важное замечание:</b>\n",
    "При создании новой колонки рекомендуется писать её название без пробелов (хотя с ними тоже можно) - как в примере выше: `age_visits_sum`.\n",
    "Тогда можно будет обращаться к ней не только как ключу словаря, но и как к параметру датафрейма через точку.<br>\n",
    "**`df.age_visits_sum`**"
   ]
  },
  {
   "cell_type": "code",
   "id": "459efc59-2e32-4294-92f5-bd49ab117b85",
   "metadata": {
    "ExecuteTime": {
     "end_time": "2024-09-02T12:21:46.616166Z",
     "start_time": "2024-09-02T12:21:46.612087Z"
    }
   },
   "source": [
    "# Например\n",
    "df.age_visits_sum.value_counts()"
   ],
   "outputs": [
    {
     "data": {
      "text/plain": [
       "age_visits_sum\n",
       "7.0     2\n",
       "6.5     1\n",
       "4.5     1\n",
       "9.0     1\n",
       "6.0     1\n",
       "8.5     1\n",
       "11.0    1\n",
       "Name: count, dtype: int64"
      ]
     },
     "execution_count": 47,
     "metadata": {},
     "output_type": "execute_result"
    }
   ],
   "execution_count": 47
  },
  {
   "cell_type": "markdown",
   "id": "a5a04b0c",
   "metadata": {},
   "source": [
    "Также можем и удалить столбец, не забываем про `inplace=True`."
   ]
  },
  {
   "cell_type": "code",
   "id": "cc499acc",
   "metadata": {
    "ExecuteTime": {
     "end_time": "2024-09-02T12:21:46.830150Z",
     "start_time": "2024-09-02T12:21:46.824387Z"
    }
   },
   "source": [
    "df.drop('age_visits_sum', axis=1, inplace=True)\n",
    "df"
   ],
   "outputs": [
    {
     "data": {
      "text/plain": [
       "  animal  age  visits priority\n",
       "a    cat  3.5       3      yes\n",
       "b    cat  4.0       3      yes\n",
       "c  snake  1.5       3       no\n",
       "d    dog  NaN       3      yes\n",
       "e    dog  6.0       3       no\n",
       "f    cat  3.0       3       no\n",
       "g  snake  5.5       3       no\n",
       "h    cat  NaN       3      yes\n",
       "i    dog  8.0       3       no\n",
       "j    dog  4.0       3       no"
      ],
      "text/html": [
       "<div>\n",
       "<style scoped>\n",
       "    .dataframe tbody tr th:only-of-type {\n",
       "        vertical-align: middle;\n",
       "    }\n",
       "\n",
       "    .dataframe tbody tr th {\n",
       "        vertical-align: top;\n",
       "    }\n",
       "\n",
       "    .dataframe thead th {\n",
       "        text-align: right;\n",
       "    }\n",
       "</style>\n",
       "<table border=\"1\" class=\"dataframe\">\n",
       "  <thead>\n",
       "    <tr style=\"text-align: right;\">\n",
       "      <th></th>\n",
       "      <th>animal</th>\n",
       "      <th>age</th>\n",
       "      <th>visits</th>\n",
       "      <th>priority</th>\n",
       "    </tr>\n",
       "  </thead>\n",
       "  <tbody>\n",
       "    <tr>\n",
       "      <th>a</th>\n",
       "      <td>cat</td>\n",
       "      <td>3.5</td>\n",
       "      <td>3</td>\n",
       "      <td>yes</td>\n",
       "    </tr>\n",
       "    <tr>\n",
       "      <th>b</th>\n",
       "      <td>cat</td>\n",
       "      <td>4.0</td>\n",
       "      <td>3</td>\n",
       "      <td>yes</td>\n",
       "    </tr>\n",
       "    <tr>\n",
       "      <th>c</th>\n",
       "      <td>snake</td>\n",
       "      <td>1.5</td>\n",
       "      <td>3</td>\n",
       "      <td>no</td>\n",
       "    </tr>\n",
       "    <tr>\n",
       "      <th>d</th>\n",
       "      <td>dog</td>\n",
       "      <td>NaN</td>\n",
       "      <td>3</td>\n",
       "      <td>yes</td>\n",
       "    </tr>\n",
       "    <tr>\n",
       "      <th>e</th>\n",
       "      <td>dog</td>\n",
       "      <td>6.0</td>\n",
       "      <td>3</td>\n",
       "      <td>no</td>\n",
       "    </tr>\n",
       "    <tr>\n",
       "      <th>f</th>\n",
       "      <td>cat</td>\n",
       "      <td>3.0</td>\n",
       "      <td>3</td>\n",
       "      <td>no</td>\n",
       "    </tr>\n",
       "    <tr>\n",
       "      <th>g</th>\n",
       "      <td>snake</td>\n",
       "      <td>5.5</td>\n",
       "      <td>3</td>\n",
       "      <td>no</td>\n",
       "    </tr>\n",
       "    <tr>\n",
       "      <th>h</th>\n",
       "      <td>cat</td>\n",
       "      <td>NaN</td>\n",
       "      <td>3</td>\n",
       "      <td>yes</td>\n",
       "    </tr>\n",
       "    <tr>\n",
       "      <th>i</th>\n",
       "      <td>dog</td>\n",
       "      <td>8.0</td>\n",
       "      <td>3</td>\n",
       "      <td>no</td>\n",
       "    </tr>\n",
       "    <tr>\n",
       "      <th>j</th>\n",
       "      <td>dog</td>\n",
       "      <td>4.0</td>\n",
       "      <td>3</td>\n",
       "      <td>no</td>\n",
       "    </tr>\n",
       "  </tbody>\n",
       "</table>\n",
       "</div>"
      ]
     },
     "execution_count": 48,
     "metadata": {},
     "output_type": "execute_result"
    }
   ],
   "execution_count": 48
  },
  {
   "cell_type": "markdown",
   "id": "bf57ebb4",
   "metadata": {},
   "source": [
    "<div class=\"alert alert-info\">\n",
    "<b>Полезная информация</b>\n",
    "\n",
    "\n",
    "- __Удаление столбцов или строк__ `df.drop(name, axis=0, inplace=True)`  - Тут `name` это индекс строки или название колонки. Параметр `axis=0` означает, что удаляется строка, для удаления колонок (столбцов) нужно писать вместо индекса имена колонок списком и ставить `axis=1`.\n",
    "\n",
    "    \n",
    "- __Удаление дубликатов строк__ `df.drop_duplicates()` и не забываем про параметр `inplace=True`. Если надо удалить дубли по конкретному столбцу, то передаем в параметр `subset` название или список названий.\n",
    "\n",
    "    \n",
    "    \n",
    "- __Вставка в заданное место столбца__ `df.insert(loc, column, value)`.  Тут `loc` (куда), `column` (название), `value` (что вставлям). По умолчанию столбцы вставляются в конец.\n",
    "\n",
    "    \n",
    "    \n",
    "- __Переименовать столбец__ можно так `df.rename(columns = {'old_name':'new_name'}, inplace=True)`</div>\n"
   ]
  },
  {
   "cell_type": "markdown",
   "id": "8de7aba6",
   "metadata": {},
   "source": [
    "# <center> 🔍 Разведочный анализ данных (EDA) </center>\n",
    "\n",
    "<p id=\"2\"></p>\n",
    "\n",
    "В этой части непосредственно познакомимся с загрузкой данных, первичным осмотром и анализом."
   ]
  },
  {
   "cell_type": "markdown",
   "id": "3d6a770c",
   "metadata": {},
   "source": [
    " <img src=\"https://sun9-46.userapi.com/impg/4yA0_8N5ksJzftOvHsi_niXDlu4Ocy-HyjVj0w/YBBKjZhZsjc.jpg?size=1600x666&quality=96&sign=a6b10953218cb38c8e3042879b20935b&type=album\"></img>"
   ]
  },
  {
   "cell_type": "markdown",
   "id": "edff70a9",
   "metadata": {},
   "source": [
    "## Загрузка и первичное знакомство"
   ]
  },
  {
   "cell_type": "markdown",
   "id": "94b891a5",
   "metadata": {},
   "source": [
    "<p id=\"3\"></p>\n",
    "<div class=\"alert alert-info\">\n",
    "\n",
    "**[pd.read_csv()](https://pandas.pydata.org/docs/reference/api/pandas.read_csv.html)** - cчитывает данные в `DataFrame` из файла `csv` (файл с разделителями). У метода очень много параметров с которыми нужно ознакомиться самостоятельно."
   ]
  },
  {
   "cell_type": "code",
   "id": "91351e00-639f-4d85-b8a3-31ce178931e8",
   "metadata": {
    "ExecuteTime": {
     "end_time": "2024-09-02T12:25:31.362445Z",
     "start_time": "2024-09-02T12:25:30.579222Z"
    }
   },
   "source": [
    "path = '../data/rides_info.csv'\n",
    "rides_info = pd.read_csv(path)\n",
    "rides_info.head(10)"
   ],
   "outputs": [
    {
     "data": {
      "text/plain": [
       "      user_id      car_id ride_id   ride_date  rating  ride_duration  \\\n",
       "0  o52317055h  A-1049127W     b1v  2020-01-01    4.95             21   \n",
       "1  H41298704y  A-1049127W     T1U  2020-01-01    6.91              8   \n",
       "2  v88009926E  A-1049127W     g1p  2020-01-02    6.01             20   \n",
       "3  t14229455i  A-1049127W     S1c  2020-01-02    0.26             19   \n",
       "4  W17067612E  A-1049127W     X1b  2020-01-03    1.21             56   \n",
       "5  I45176130J  A-1049127W     j1v  2020-01-03    7.52             67   \n",
       "6  W11562554A  A-1049127W     A1g  2020-01-04    5.78             30   \n",
       "7  o13713369s  A-1049127W     B1n  2020-01-04    7.35             29   \n",
       "8  y62286141d  A-1049127W     h1a  2020-01-05    0.12             64   \n",
       "9  V28486769l  A-1049127W     p1e  2020-01-05    3.32             43   \n",
       "\n",
       "   ride_cost  speed_avg   speed_max  stop_times     distance  refueling  \\\n",
       "0        268         36  113.548538           0   514.246920          0   \n",
       "1         59         36   93.000000           1   197.520662          0   \n",
       "2        315         61   81.959675           0  1276.328206          0   \n",
       "3        205         32  128.000000           0   535.680831          0   \n",
       "4        554         38   90.000000           1  1729.143367          0   \n",
       "5       1068         28   36.000000           2   363.209144          0   \n",
       "6        324         48   61.000000           0  1314.257355          0   \n",
       "7        401         57   65.845512           0  1753.888420          0   \n",
       "8        893         38  114.000000           1  2022.125012          0   \n",
       "9        424         31   51.298365           1  1334.567248          0   \n",
       "\n",
       "   user_ride_quality  deviation_normal  \n",
       "0           1.115260             2.909  \n",
       "1           1.650465             4.133  \n",
       "2           2.599112             2.461  \n",
       "3           3.216255             0.909  \n",
       "4           2.716550            -1.822  \n",
       "5           0.496265            -3.442  \n",
       "6           1.464346            -6.004  \n",
       "7           0.497193            -6.474  \n",
       "8          -0.155147            -5.123  \n",
       "9          -3.757628            -2.079  "
      ],
      "text/html": [
       "<div>\n",
       "<style scoped>\n",
       "    .dataframe tbody tr th:only-of-type {\n",
       "        vertical-align: middle;\n",
       "    }\n",
       "\n",
       "    .dataframe tbody tr th {\n",
       "        vertical-align: top;\n",
       "    }\n",
       "\n",
       "    .dataframe thead th {\n",
       "        text-align: right;\n",
       "    }\n",
       "</style>\n",
       "<table border=\"1\" class=\"dataframe\">\n",
       "  <thead>\n",
       "    <tr style=\"text-align: right;\">\n",
       "      <th></th>\n",
       "      <th>user_id</th>\n",
       "      <th>car_id</th>\n",
       "      <th>ride_id</th>\n",
       "      <th>ride_date</th>\n",
       "      <th>rating</th>\n",
       "      <th>ride_duration</th>\n",
       "      <th>ride_cost</th>\n",
       "      <th>speed_avg</th>\n",
       "      <th>speed_max</th>\n",
       "      <th>stop_times</th>\n",
       "      <th>distance</th>\n",
       "      <th>refueling</th>\n",
       "      <th>user_ride_quality</th>\n",
       "      <th>deviation_normal</th>\n",
       "    </tr>\n",
       "  </thead>\n",
       "  <tbody>\n",
       "    <tr>\n",
       "      <th>0</th>\n",
       "      <td>o52317055h</td>\n",
       "      <td>A-1049127W</td>\n",
       "      <td>b1v</td>\n",
       "      <td>2020-01-01</td>\n",
       "      <td>4.95</td>\n",
       "      <td>21</td>\n",
       "      <td>268</td>\n",
       "      <td>36</td>\n",
       "      <td>113.548538</td>\n",
       "      <td>0</td>\n",
       "      <td>514.246920</td>\n",
       "      <td>0</td>\n",
       "      <td>1.115260</td>\n",
       "      <td>2.909</td>\n",
       "    </tr>\n",
       "    <tr>\n",
       "      <th>1</th>\n",
       "      <td>H41298704y</td>\n",
       "      <td>A-1049127W</td>\n",
       "      <td>T1U</td>\n",
       "      <td>2020-01-01</td>\n",
       "      <td>6.91</td>\n",
       "      <td>8</td>\n",
       "      <td>59</td>\n",
       "      <td>36</td>\n",
       "      <td>93.000000</td>\n",
       "      <td>1</td>\n",
       "      <td>197.520662</td>\n",
       "      <td>0</td>\n",
       "      <td>1.650465</td>\n",
       "      <td>4.133</td>\n",
       "    </tr>\n",
       "    <tr>\n",
       "      <th>2</th>\n",
       "      <td>v88009926E</td>\n",
       "      <td>A-1049127W</td>\n",
       "      <td>g1p</td>\n",
       "      <td>2020-01-02</td>\n",
       "      <td>6.01</td>\n",
       "      <td>20</td>\n",
       "      <td>315</td>\n",
       "      <td>61</td>\n",
       "      <td>81.959675</td>\n",
       "      <td>0</td>\n",
       "      <td>1276.328206</td>\n",
       "      <td>0</td>\n",
       "      <td>2.599112</td>\n",
       "      <td>2.461</td>\n",
       "    </tr>\n",
       "    <tr>\n",
       "      <th>3</th>\n",
       "      <td>t14229455i</td>\n",
       "      <td>A-1049127W</td>\n",
       "      <td>S1c</td>\n",
       "      <td>2020-01-02</td>\n",
       "      <td>0.26</td>\n",
       "      <td>19</td>\n",
       "      <td>205</td>\n",
       "      <td>32</td>\n",
       "      <td>128.000000</td>\n",
       "      <td>0</td>\n",
       "      <td>535.680831</td>\n",
       "      <td>0</td>\n",
       "      <td>3.216255</td>\n",
       "      <td>0.909</td>\n",
       "    </tr>\n",
       "    <tr>\n",
       "      <th>4</th>\n",
       "      <td>W17067612E</td>\n",
       "      <td>A-1049127W</td>\n",
       "      <td>X1b</td>\n",
       "      <td>2020-01-03</td>\n",
       "      <td>1.21</td>\n",
       "      <td>56</td>\n",
       "      <td>554</td>\n",
       "      <td>38</td>\n",
       "      <td>90.000000</td>\n",
       "      <td>1</td>\n",
       "      <td>1729.143367</td>\n",
       "      <td>0</td>\n",
       "      <td>2.716550</td>\n",
       "      <td>-1.822</td>\n",
       "    </tr>\n",
       "    <tr>\n",
       "      <th>5</th>\n",
       "      <td>I45176130J</td>\n",
       "      <td>A-1049127W</td>\n",
       "      <td>j1v</td>\n",
       "      <td>2020-01-03</td>\n",
       "      <td>7.52</td>\n",
       "      <td>67</td>\n",
       "      <td>1068</td>\n",
       "      <td>28</td>\n",
       "      <td>36.000000</td>\n",
       "      <td>2</td>\n",
       "      <td>363.209144</td>\n",
       "      <td>0</td>\n",
       "      <td>0.496265</td>\n",
       "      <td>-3.442</td>\n",
       "    </tr>\n",
       "    <tr>\n",
       "      <th>6</th>\n",
       "      <td>W11562554A</td>\n",
       "      <td>A-1049127W</td>\n",
       "      <td>A1g</td>\n",
       "      <td>2020-01-04</td>\n",
       "      <td>5.78</td>\n",
       "      <td>30</td>\n",
       "      <td>324</td>\n",
       "      <td>48</td>\n",
       "      <td>61.000000</td>\n",
       "      <td>0</td>\n",
       "      <td>1314.257355</td>\n",
       "      <td>0</td>\n",
       "      <td>1.464346</td>\n",
       "      <td>-6.004</td>\n",
       "    </tr>\n",
       "    <tr>\n",
       "      <th>7</th>\n",
       "      <td>o13713369s</td>\n",
       "      <td>A-1049127W</td>\n",
       "      <td>B1n</td>\n",
       "      <td>2020-01-04</td>\n",
       "      <td>7.35</td>\n",
       "      <td>29</td>\n",
       "      <td>401</td>\n",
       "      <td>57</td>\n",
       "      <td>65.845512</td>\n",
       "      <td>0</td>\n",
       "      <td>1753.888420</td>\n",
       "      <td>0</td>\n",
       "      <td>0.497193</td>\n",
       "      <td>-6.474</td>\n",
       "    </tr>\n",
       "    <tr>\n",
       "      <th>8</th>\n",
       "      <td>y62286141d</td>\n",
       "      <td>A-1049127W</td>\n",
       "      <td>h1a</td>\n",
       "      <td>2020-01-05</td>\n",
       "      <td>0.12</td>\n",
       "      <td>64</td>\n",
       "      <td>893</td>\n",
       "      <td>38</td>\n",
       "      <td>114.000000</td>\n",
       "      <td>1</td>\n",
       "      <td>2022.125012</td>\n",
       "      <td>0</td>\n",
       "      <td>-0.155147</td>\n",
       "      <td>-5.123</td>\n",
       "    </tr>\n",
       "    <tr>\n",
       "      <th>9</th>\n",
       "      <td>V28486769l</td>\n",
       "      <td>A-1049127W</td>\n",
       "      <td>p1e</td>\n",
       "      <td>2020-01-05</td>\n",
       "      <td>3.32</td>\n",
       "      <td>43</td>\n",
       "      <td>424</td>\n",
       "      <td>31</td>\n",
       "      <td>51.298365</td>\n",
       "      <td>1</td>\n",
       "      <td>1334.567248</td>\n",
       "      <td>0</td>\n",
       "      <td>-3.757628</td>\n",
       "      <td>-2.079</td>\n",
       "    </tr>\n",
       "  </tbody>\n",
       "</table>\n",
       "</div>"
      ]
     },
     "execution_count": 51,
     "metadata": {},
     "output_type": "execute_result"
    }
   ],
   "execution_count": 51
  },
  {
   "cell_type": "markdown",
   "id": "e6ca8ca8",
   "metadata": {},
   "source": [
    "<div class=\"alert alert-info\"><b>Полезная информация</b>\n",
    "\n",
    "- Если при чтении файла вы видите столцы с названием типа `Unnamed: 0` , то это сохраненный индекс при записи файла. Можно загрузить индексы из этого столбца, не создавая их по умолчанию с нуля, с помощью параметра  `index_col=0`, указав номер столбца который нужно использовать для индексов. \n",
    "\n",
    "\n",
    "- Полезные методы вывода строк: `df.head(n)` / `df.sample(n)` / `df.tail(n)` - возвращают первые, случайные или последние `n` строк датафрейма. Структура `DataFrame` А что это? `DataFrame` – это двумерная структура данных со столбцами потенциально разных типов.\n",
    "\n",
    "    \n",
    "- Подсчет числа встречаемости каждого значения:  `df.value_counts()` - функция используется для получения уникальных значений и числа их встречаемости в виде `Series` . По умолчанию отсортирован по убыванию встречаемости `(ascending=False)`. Можно изменить сортировку через `ascending=True`. Также числовые столбцы можно разбивать на бины через параметр `bins`.  \n",
    "\n",
    "</div>"
   ]
  },
  {
   "cell_type": "markdown",
   "id": "8b16a4ac",
   "metadata": {},
   "source": [
    "## Предварительный осмотр данных"
   ]
  },
  {
   "cell_type": "markdown",
   "id": "24422457-e0c6-4e30-baec-402657d12363",
   "metadata": {},
   "source": [
    "<p id=\"4\"></p>\n",
    "\n",
    "**[df.sample()](https://pandas.pydata.org/pandas-docs/stable/reference/api/pandas.DataFrame.sample.html)** - возвращает случайную выборку строк датафрейма. Параметр `n` - количество выводимых строк."
   ]
  },
  {
   "cell_type": "code",
   "execution_count": 19,
   "id": "e563a948",
   "metadata": {},
   "outputs": [
    {
     "data": {
      "text/html": [
       "<div>\n",
       "<style scoped>\n",
       "    .dataframe tbody tr th:only-of-type {\n",
       "        vertical-align: middle;\n",
       "    }\n",
       "\n",
       "    .dataframe tbody tr th {\n",
       "        vertical-align: top;\n",
       "    }\n",
       "\n",
       "    .dataframe thead th {\n",
       "        text-align: right;\n",
       "    }\n",
       "</style>\n",
       "<table border=\"1\" class=\"dataframe\">\n",
       "  <thead>\n",
       "    <tr style=\"text-align: right;\">\n",
       "      <th></th>\n",
       "      <th>user_id</th>\n",
       "      <th>car_id</th>\n",
       "      <th>ride_id</th>\n",
       "      <th>ride_date</th>\n",
       "      <th>rating</th>\n",
       "      <th>ride_duration</th>\n",
       "      <th>ride_cost</th>\n",
       "      <th>speed_avg</th>\n",
       "      <th>speed_max</th>\n",
       "      <th>stop_times</th>\n",
       "      <th>distance</th>\n",
       "      <th>refueling</th>\n",
       "      <th>user_ride_quality</th>\n",
       "      <th>deviation_normal</th>\n",
       "    </tr>\n",
       "  </thead>\n",
       "  <tbody>\n",
       "    <tr>\n",
       "      <th>28838</th>\n",
       "      <td>R15052655H</td>\n",
       "      <td>v19902021b</td>\n",
       "      <td>D1P</td>\n",
       "      <td>2020-03-26</td>\n",
       "      <td>5.95</td>\n",
       "      <td>31</td>\n",
       "      <td>429</td>\n",
       "      <td>39</td>\n",
       "      <td>52.000000</td>\n",
       "      <td>0</td>\n",
       "      <td>1163.491517</td>\n",
       "      <td>0</td>\n",
       "      <td>-20.587437</td>\n",
       "      <td>9.63</td>\n",
       "    </tr>\n",
       "    <tr>\n",
       "      <th>4631</th>\n",
       "      <td>o27779528m</td>\n",
       "      <td>z66753488b</td>\n",
       "      <td>R1f</td>\n",
       "      <td>2020-03-15</td>\n",
       "      <td>0.16</td>\n",
       "      <td>44</td>\n",
       "      <td>390</td>\n",
       "      <td>43</td>\n",
       "      <td>113.858009</td>\n",
       "      <td>0</td>\n",
       "      <td>1217.705293</td>\n",
       "      <td>0</td>\n",
       "      <td>16.092770</td>\n",
       "      <td>-7.14</td>\n",
       "    </tr>\n",
       "    <tr>\n",
       "      <th>27715</th>\n",
       "      <td>S14549477S</td>\n",
       "      <td>B17481721b</td>\n",
       "      <td>v1C</td>\n",
       "      <td>2020-01-13</td>\n",
       "      <td>10.00</td>\n",
       "      <td>12</td>\n",
       "      <td>103</td>\n",
       "      <td>70</td>\n",
       "      <td>141.098430</td>\n",
       "      <td>1</td>\n",
       "      <td>418.828329</td>\n",
       "      <td>0</td>\n",
       "      <td>-2.502619</td>\n",
       "      <td>-0.00</td>\n",
       "    </tr>\n",
       "    <tr>\n",
       "      <th>27428</th>\n",
       "      <td>I16296910x</td>\n",
       "      <td>w21596750f</td>\n",
       "      <td>U1r</td>\n",
       "      <td>2020-01-16</td>\n",
       "      <td>5.23</td>\n",
       "      <td>30</td>\n",
       "      <td>355</td>\n",
       "      <td>43</td>\n",
       "      <td>69.000000</td>\n",
       "      <td>2</td>\n",
       "      <td>472.587676</td>\n",
       "      <td>0</td>\n",
       "      <td>-5.645688</td>\n",
       "      <td>-3.20</td>\n",
       "    </tr>\n",
       "    <tr>\n",
       "      <th>13903</th>\n",
       "      <td>u78765599H</td>\n",
       "      <td>D13047328g</td>\n",
       "      <td>x1x</td>\n",
       "      <td>2020-03-16</td>\n",
       "      <td>6.37</td>\n",
       "      <td>32</td>\n",
       "      <td>505</td>\n",
       "      <td>33</td>\n",
       "      <td>68.000000</td>\n",
       "      <td>1</td>\n",
       "      <td>786.260582</td>\n",
       "      <td>0</td>\n",
       "      <td>-10.370201</td>\n",
       "      <td>-10.20</td>\n",
       "    </tr>\n",
       "  </tbody>\n",
       "</table>\n",
       "</div>"
      ],
      "text/plain": [
       "          user_id      car_id ride_id   ride_date  rating  ride_duration  \\\n",
       "28838  R15052655H  v19902021b     D1P  2020-03-26    5.95             31   \n",
       "4631   o27779528m  z66753488b     R1f  2020-03-15    0.16             44   \n",
       "27715  S14549477S  B17481721b     v1C  2020-01-13   10.00             12   \n",
       "27428  I16296910x  w21596750f     U1r  2020-01-16    5.23             30   \n",
       "13903  u78765599H  D13047328g     x1x  2020-03-16    6.37             32   \n",
       "\n",
       "       ride_cost  speed_avg   speed_max  stop_times     distance  refueling  \\\n",
       "28838        429         39   52.000000           0  1163.491517          0   \n",
       "4631         390         43  113.858009           0  1217.705293          0   \n",
       "27715        103         70  141.098430           1   418.828329          0   \n",
       "27428        355         43   69.000000           2   472.587676          0   \n",
       "13903        505         33   68.000000           1   786.260582          0   \n",
       "\n",
       "       user_ride_quality  deviation_normal  \n",
       "28838         -20.587437              9.63  \n",
       "4631           16.092770             -7.14  \n",
       "27715          -2.502619             -0.00  \n",
       "27428          -5.645688             -3.20  \n",
       "13903         -10.370201            -10.20  "
      ]
     },
     "execution_count": 19,
     "metadata": {},
     "output_type": "execute_result"
    }
   ],
   "source": [
    "rides_info.sample(5)"
   ]
  },
  {
   "cell_type": "markdown",
   "id": "050584f7",
   "metadata": {},
   "source": [
    "**[df.head()](https://pandas.pydata.org/pandas-docs/stable/reference/api/pandas.DataFrame.head.html)** - возвращает первые строки датафрейма. По умолчанию выводит 5 строк, но можно изменить параметр `n` и вывести больше или меньше.  "
   ]
  },
  {
   "cell_type": "markdown",
   "id": "d931c3f4",
   "metadata": {},
   "source": [
    "Часто используют метод `head()`, но лучше первый раз смотреть на датафрейм через `sample()`.\n",
    "Так вы имеете возможность смотреть на разные выборки и это может быть полезно, чтобы увидеть какие-нибудь баги."
   ]
  },
  {
   "cell_type": "code",
   "execution_count": 20,
   "id": "cee69133",
   "metadata": {},
   "outputs": [
    {
     "data": {
      "text/html": [
       "<div>\n",
       "<style scoped>\n",
       "    .dataframe tbody tr th:only-of-type {\n",
       "        vertical-align: middle;\n",
       "    }\n",
       "\n",
       "    .dataframe tbody tr th {\n",
       "        vertical-align: top;\n",
       "    }\n",
       "\n",
       "    .dataframe thead th {\n",
       "        text-align: right;\n",
       "    }\n",
       "</style>\n",
       "<table border=\"1\" class=\"dataframe\">\n",
       "  <thead>\n",
       "    <tr style=\"text-align: right;\">\n",
       "      <th></th>\n",
       "      <th>user_id</th>\n",
       "      <th>car_id</th>\n",
       "      <th>ride_id</th>\n",
       "      <th>ride_date</th>\n",
       "      <th>rating</th>\n",
       "      <th>ride_duration</th>\n",
       "      <th>ride_cost</th>\n",
       "      <th>speed_avg</th>\n",
       "      <th>speed_max</th>\n",
       "      <th>stop_times</th>\n",
       "      <th>distance</th>\n",
       "      <th>refueling</th>\n",
       "      <th>user_ride_quality</th>\n",
       "      <th>deviation_normal</th>\n",
       "    </tr>\n",
       "  </thead>\n",
       "  <tbody>\n",
       "    <tr>\n",
       "      <th>0</th>\n",
       "      <td>q53527020Q</td>\n",
       "      <td>g55775125g</td>\n",
       "      <td>i1O</td>\n",
       "      <td>2020-01-16</td>\n",
       "      <td>3.42</td>\n",
       "      <td>33</td>\n",
       "      <td>324</td>\n",
       "      <td>75</td>\n",
       "      <td>100.298135</td>\n",
       "      <td>0</td>\n",
       "      <td>2.412860e+03</td>\n",
       "      <td>0</td>\n",
       "      <td>-3.828166</td>\n",
       "      <td>-12.577</td>\n",
       "    </tr>\n",
       "    <tr>\n",
       "      <th>1</th>\n",
       "      <td>X72952203K</td>\n",
       "      <td>Y-6420899e</td>\n",
       "      <td>Z1i</td>\n",
       "      <td>2020-01-19</td>\n",
       "      <td>4.00</td>\n",
       "      <td>65</td>\n",
       "      <td>839</td>\n",
       "      <td>51</td>\n",
       "      <td>78.000000</td>\n",
       "      <td>0</td>\n",
       "      <td>2.553284e+03</td>\n",
       "      <td>0</td>\n",
       "      <td>-0.166199</td>\n",
       "      <td>-5.850</td>\n",
       "    </tr>\n",
       "    <tr>\n",
       "      <th>2</th>\n",
       "      <td>g40994147T</td>\n",
       "      <td>z77468044J</td>\n",
       "      <td>x1M</td>\n",
       "      <td>2020-01-21</td>\n",
       "      <td>6.18</td>\n",
       "      <td>46</td>\n",
       "      <td>363</td>\n",
       "      <td>47</td>\n",
       "      <td>73.000000</td>\n",
       "      <td>2</td>\n",
       "      <td>2.079931e+02</td>\n",
       "      <td>0</td>\n",
       "      <td>-6.904072</td>\n",
       "      <td>0.000</td>\n",
       "    </tr>\n",
       "    <tr>\n",
       "      <th>3</th>\n",
       "      <td>E18650750E</td>\n",
       "      <td>W50413234I</td>\n",
       "      <td>W1Y</td>\n",
       "      <td>2020-03-17</td>\n",
       "      <td>1.43</td>\n",
       "      <td>80</td>\n",
       "      <td>955</td>\n",
       "      <td>34</td>\n",
       "      <td>116.000000</td>\n",
       "      <td>2</td>\n",
       "      <td>1.758479e+03</td>\n",
       "      <td>0</td>\n",
       "      <td>3.132158</td>\n",
       "      <td>18.966</td>\n",
       "    </tr>\n",
       "    <tr>\n",
       "      <th>4</th>\n",
       "      <td>D18083254C</td>\n",
       "      <td>e-4559210H</td>\n",
       "      <td>U1f</td>\n",
       "      <td>2020-03-21</td>\n",
       "      <td>3.45</td>\n",
       "      <td>142292</td>\n",
       "      <td>2276667</td>\n",
       "      <td>52</td>\n",
       "      <td>64.000000</td>\n",
       "      <td>1</td>\n",
       "      <td>7.541414e+06</td>\n",
       "      <td>0</td>\n",
       "      <td>-29.248641</td>\n",
       "      <td>-8.126</td>\n",
       "    </tr>\n",
       "  </tbody>\n",
       "</table>\n",
       "</div>"
      ],
      "text/plain": [
       "      user_id      car_id ride_id   ride_date  rating  ride_duration  \\\n",
       "0  q53527020Q  g55775125g     i1O  2020-01-16    3.42             33   \n",
       "1  X72952203K  Y-6420899e     Z1i  2020-01-19    4.00             65   \n",
       "2  g40994147T  z77468044J     x1M  2020-01-21    6.18             46   \n",
       "3  E18650750E  W50413234I     W1Y  2020-03-17    1.43             80   \n",
       "4  D18083254C  e-4559210H     U1f  2020-03-21    3.45         142292   \n",
       "\n",
       "   ride_cost  speed_avg   speed_max  stop_times      distance  refueling  \\\n",
       "0        324         75  100.298135           0  2.412860e+03          0   \n",
       "1        839         51   78.000000           0  2.553284e+03          0   \n",
       "2        363         47   73.000000           2  2.079931e+02          0   \n",
       "3        955         34  116.000000           2  1.758479e+03          0   \n",
       "4    2276667         52   64.000000           1  7.541414e+06          0   \n",
       "\n",
       "   user_ride_quality  deviation_normal  \n",
       "0          -3.828166           -12.577  \n",
       "1          -0.166199            -5.850  \n",
       "2          -6.904072             0.000  \n",
       "3           3.132158            18.966  \n",
       "4         -29.248641            -8.126  "
      ]
     },
     "execution_count": 20,
     "metadata": {},
     "output_type": "execute_result"
    }
   ],
   "source": [
    "rides_info.head()"
   ]
  },
  {
   "cell_type": "markdown",
   "id": "d47d3a5f",
   "metadata": {},
   "source": [
    "<div class=\"alert alert-info\">\n",
    "    <b>Выводы</b>\n",
    "    <ul>\n",
    "    <li>в целом данные загрузились</li>\n",
    "    <li>названия столбцов из первой строки загружены</li>\n",
    "    <li>индексы первого столбца выглядят адекватно</li>\n",
    "    <li>наличие индексов, которые нужно удалить, не обнаружено</li>\n",
    "    <li>по случайным пяти строкам наличие каких-либо ошибок не обнаружено</li></ul>\n",
    "</div>"
   ]
  },
  {
   "cell_type": "markdown",
   "id": "1d7526f2",
   "metadata": {},
   "source": [
    "<div class=\"alert alert-info\">\n",
    "\n",
    "**[df.info()](https://pandas.pydata.org/pandas-docs/stable/reference/api/pandas.DataFrame.info.html)*** - Выводит краткую сводку-информацию по датафрейму.\n",
    "\n",
    "В нашем случае датафрейм небольшой, но он может быть большим. Мы разберем методы библиотеки `Pandas` на этом небольшом примере, которые вы по аналогии сможете самостоятельно применить к другим датасетам."
   ]
  },
  {
   "cell_type": "code",
   "execution_count": 21,
   "id": "6fe8420c",
   "metadata": {},
   "outputs": [
    {
     "name": "stdout",
     "output_type": "stream",
     "text": [
      "<class 'pandas.core.frame.DataFrame'>\n",
      "RangeIndex: 50000 entries, 0 to 49999\n",
      "Data columns (total 14 columns):\n",
      " #   Column             Non-Null Count  Dtype  \n",
      "---  ------             --------------  -----  \n",
      " 0   user_id            50000 non-null  object \n",
      " 1   car_id             50000 non-null  object \n",
      " 2   ride_id            50000 non-null  object \n",
      " 3   ride_date          50000 non-null  object \n",
      " 4   rating             50000 non-null  float64\n",
      " 5   ride_duration      50000 non-null  int64  \n",
      " 6   ride_cost          50000 non-null  int64  \n",
      " 7   speed_avg          50000 non-null  int64  \n",
      " 8   speed_max          49747 non-null  float64\n",
      " 9   stop_times         50000 non-null  int64  \n",
      " 10  distance           50000 non-null  float64\n",
      " 11  refueling          50000 non-null  int64  \n",
      " 12  user_ride_quality  49841 non-null  float64\n",
      " 13  deviation_normal   50000 non-null  float64\n",
      "dtypes: float64(5), int64(5), object(4)\n",
      "memory usage: 5.3+ MB\n"
     ]
    }
   ],
   "source": [
    "rides_info.info()"
   ]
  },
  {
   "cell_type": "markdown",
   "id": "725ae19c",
   "metadata": {},
   "source": [
    "<div class=\"alert alert-info\"><b>Выводы</b>\n",
    "\n",
    "* в датафрейме всего 14 столбцов\n",
    "* четыре столбца имеют тип `object`\n",
    "* пять столбцов имеют тип `float64`\n",
    "* пять столбцов имеют тип `int64`\n",
    "* всего в датафрейме 50000 строк\n",
    "* в столбцах `speed_max` и `user_ride_quality` есть пропуски (nan)\n",
    "* объем занимаемый датафреймом `5.3+ MB` (эта информация может быть полезна, чтобы заранее представить какие операции с датафреймом вы сможете выполнять с учетом доступной вам оперативной памяти)\n"
   ]
  },
  {
   "cell_type": "markdown",
   "id": "f61c7e59",
   "metadata": {},
   "source": [
    "<div class=\"alert alert-info\"><b>Выводы</b>\n",
    "\n",
    "**[df.columns](https://pandas.pydata.org/docs/reference/api/pandas.DataFrame.columns.html)*** - Выводит метки столбцов датафрейма.  "
   ]
  },
  {
   "cell_type": "markdown",
   "id": "a83d4c84",
   "metadata": {},
   "source": [
    "<div class=\"alert alert-info\"><b>Выводы:</b>\n",
    "    \n",
    "Иногда количество столбцов очень большое, так что при выводе они все не помещаются в стандартный вывод через `df.info()`. Тогда можно воспользоваться атрибутом для просмотра индексов названий столбцов."
   ]
  },
  {
   "cell_type": "code",
   "execution_count": 22,
   "id": "6dcdae96",
   "metadata": {},
   "outputs": [
    {
     "data": {
      "text/plain": [
       "Index(['user_id', 'car_id', 'ride_id', 'ride_date', 'rating', 'ride_duration',\n",
       "       'ride_cost', 'speed_avg', 'speed_max', 'stop_times', 'distance',\n",
       "       'refueling', 'user_ride_quality', 'deviation_normal'],\n",
       "      dtype='object')"
      ]
     },
     "execution_count": 22,
     "metadata": {},
     "output_type": "execute_result"
    }
   ],
   "source": [
    "rides_info.columns"
   ]
  },
  {
   "cell_type": "markdown",
   "id": "7c26faf9",
   "metadata": {},
   "source": [
    "Гораздо нагляднее и удобнее работать со списком названий столбцов"
   ]
  },
  {
   "cell_type": "code",
   "execution_count": 23,
   "id": "8b85701f",
   "metadata": {},
   "outputs": [
    {
     "data": {
      "text/plain": [
       "(['user_id',\n",
       "  'car_id',\n",
       "  'ride_id',\n",
       "  'ride_date',\n",
       "  'rating',\n",
       "  'ride_duration',\n",
       "  'ride_cost',\n",
       "  'speed_avg',\n",
       "  'speed_max',\n",
       "  'stop_times',\n",
       "  'distance',\n",
       "  'refueling',\n",
       "  'user_ride_quality',\n",
       "  'deviation_normal'],\n",
       " 14)"
      ]
     },
     "execution_count": 23,
     "metadata": {},
     "output_type": "execute_result"
    }
   ],
   "source": [
    "column_names = list(rides_info.columns)\n",
    "column_names, len(column_names)"
   ]
  },
  {
   "cell_type": "markdown",
   "id": "d210bb5e",
   "metadata": {},
   "source": [
    "<div class=\"alert alert-info\"><b>Выводы</b>\n",
    "<ul><li>14 столбцов</li>\n",
    "<li>все названия столбцов в нижнем регистре и не содержат спецсимволов (значит их не нужно переименовывать, чтобы обращаться к ним через точку)</li></ul></div>\n"
   ]
  },
  {
   "cell_type": "markdown",
   "id": "37676a92",
   "metadata": {},
   "source": [
    "## Работа с числовыми данными"
   ]
  },
  {
   "cell_type": "markdown",
   "id": "5b74d5ca",
   "metadata": {},
   "source": [
    "<div class=\"alert alert-info\">\n",
    "<p id=\"5\"></p>\n",
    "\n",
    "**[df.describe()](https://pandas.pydata.org/pandas-docs/stable/reference/api/pandas.DataFrame.describe.html)*** - Выводит описательные статистики по числовым столбцам датафрейма. Описательные статистики включают в себя\n",
    "- `count` - количество не пустых значений\n",
    "- `mean` - среднее арифметическое\n",
    "- `std` - стандартное отклонение\n",
    "- `min`, `max` - минимум и максимум\n",
    "- 25%, 50%, 75% - соотвествующие квартили  \n",
    "\n",
    "\n",
    "__!!!Bнимание!!!__ из статистик автоматически исключаются `NaN` значения, если они есть.  "
   ]
  },
  {
   "cell_type": "markdown",
   "id": "fd1ed886",
   "metadata": {},
   "source": [
    "Выведем такое описание таблицы, округлив значения до второго знака после запятой:"
   ]
  },
  {
   "cell_type": "code",
   "execution_count": 24,
   "id": "3f499289",
   "metadata": {},
   "outputs": [
    {
     "data": {
      "text/html": [
       "<div>\n",
       "<style scoped>\n",
       "    .dataframe tbody tr th:only-of-type {\n",
       "        vertical-align: middle;\n",
       "    }\n",
       "\n",
       "    .dataframe tbody tr th {\n",
       "        vertical-align: top;\n",
       "    }\n",
       "\n",
       "    .dataframe thead th {\n",
       "        text-align: right;\n",
       "    }\n",
       "</style>\n",
       "<table border=\"1\" class=\"dataframe\">\n",
       "  <thead>\n",
       "    <tr style=\"text-align: right;\">\n",
       "      <th></th>\n",
       "      <th>rating</th>\n",
       "      <th>ride_duration</th>\n",
       "      <th>ride_cost</th>\n",
       "      <th>speed_avg</th>\n",
       "      <th>speed_max</th>\n",
       "      <th>stop_times</th>\n",
       "      <th>distance</th>\n",
       "      <th>refueling</th>\n",
       "      <th>user_ride_quality</th>\n",
       "      <th>deviation_normal</th>\n",
       "    </tr>\n",
       "  </thead>\n",
       "  <tbody>\n",
       "    <tr>\n",
       "      <th>count</th>\n",
       "      <td>50000.00</td>\n",
       "      <td>50000.00</td>\n",
       "      <td>50000.00</td>\n",
       "      <td>50000.00</td>\n",
       "      <td>49747.00</td>\n",
       "      <td>50000.00</td>\n",
       "      <td>50000.00</td>\n",
       "      <td>50000.0</td>\n",
       "      <td>49841.00</td>\n",
       "      <td>50000.00</td>\n",
       "    </tr>\n",
       "    <tr>\n",
       "      <th>mean</th>\n",
       "      <td>4.49</td>\n",
       "      <td>9304.08</td>\n",
       "      <td>117999.44</td>\n",
       "      <td>47.10</td>\n",
       "      <td>77.48</td>\n",
       "      <td>1.34</td>\n",
       "      <td>444872.13</td>\n",
       "      <td>0.0</td>\n",
       "      <td>-0.19</td>\n",
       "      <td>-1.20</td>\n",
       "    </tr>\n",
       "    <tr>\n",
       "      <th>std</th>\n",
       "      <td>2.13</td>\n",
       "      <td>35947.59</td>\n",
       "      <td>504330.21</td>\n",
       "      <td>12.65</td>\n",
       "      <td>24.28</td>\n",
       "      <td>2.35</td>\n",
       "      <td>1782500.58</td>\n",
       "      <td>0.0</td>\n",
       "      <td>11.79</td>\n",
       "      <td>19.40</td>\n",
       "    </tr>\n",
       "    <tr>\n",
       "      <th>min</th>\n",
       "      <td>0.00</td>\n",
       "      <td>2.00</td>\n",
       "      <td>9.00</td>\n",
       "      <td>25.00</td>\n",
       "      <td>30.00</td>\n",
       "      <td>0.00</td>\n",
       "      <td>3.04</td>\n",
       "      <td>0.0</td>\n",
       "      <td>-59.52</td>\n",
       "      <td>-110.76</td>\n",
       "    </tr>\n",
       "    <tr>\n",
       "      <th>25%</th>\n",
       "      <td>3.14</td>\n",
       "      <td>27.00</td>\n",
       "      <td>297.00</td>\n",
       "      <td>38.00</td>\n",
       "      <td>62.00</td>\n",
       "      <td>0.00</td>\n",
       "      <td>784.16</td>\n",
       "      <td>0.0</td>\n",
       "      <td>-6.94</td>\n",
       "      <td>-9.01</td>\n",
       "    </tr>\n",
       "    <tr>\n",
       "      <th>50%</th>\n",
       "      <td>4.49</td>\n",
       "      <td>44.00</td>\n",
       "      <td>506.00</td>\n",
       "      <td>46.00</td>\n",
       "      <td>72.00</td>\n",
       "      <td>1.00</td>\n",
       "      <td>1456.72</td>\n",
       "      <td>0.0</td>\n",
       "      <td>0.16</td>\n",
       "      <td>0.00</td>\n",
       "    </tr>\n",
       "    <tr>\n",
       "      <th>75%</th>\n",
       "      <td>5.86</td>\n",
       "      <td>69.00</td>\n",
       "      <td>895.00</td>\n",
       "      <td>52.00</td>\n",
       "      <td>86.00</td>\n",
       "      <td>2.00</td>\n",
       "      <td>2265.27</td>\n",
       "      <td>0.0</td>\n",
       "      <td>6.69</td>\n",
       "      <td>6.98</td>\n",
       "    </tr>\n",
       "    <tr>\n",
       "      <th>max</th>\n",
       "      <td>10.00</td>\n",
       "      <td>222356.00</td>\n",
       "      <td>10889545.00</td>\n",
       "      <td>100.00</td>\n",
       "      <td>202.46</td>\n",
       "      <td>21.00</td>\n",
       "      <td>18333880.69</td>\n",
       "      <td>1.0</td>\n",
       "      <td>56.53</td>\n",
       "      <td>99.92</td>\n",
       "    </tr>\n",
       "  </tbody>\n",
       "</table>\n",
       "</div>"
      ],
      "text/plain": [
       "         rating  ride_duration    ride_cost  speed_avg  speed_max  stop_times  \\\n",
       "count  50000.00       50000.00     50000.00   50000.00   49747.00    50000.00   \n",
       "mean       4.49        9304.08    117999.44      47.10      77.48        1.34   \n",
       "std        2.13       35947.59    504330.21      12.65      24.28        2.35   \n",
       "min        0.00           2.00         9.00      25.00      30.00        0.00   \n",
       "25%        3.14          27.00       297.00      38.00      62.00        0.00   \n",
       "50%        4.49          44.00       506.00      46.00      72.00        1.00   \n",
       "75%        5.86          69.00       895.00      52.00      86.00        2.00   \n",
       "max       10.00      222356.00  10889545.00     100.00     202.46       21.00   \n",
       "\n",
       "          distance  refueling  user_ride_quality  deviation_normal  \n",
       "count     50000.00    50000.0           49841.00          50000.00  \n",
       "mean     444872.13        0.0              -0.19             -1.20  \n",
       "std     1782500.58        0.0              11.79             19.40  \n",
       "min           3.04        0.0             -59.52           -110.76  \n",
       "25%         784.16        0.0              -6.94             -9.01  \n",
       "50%        1456.72        0.0               0.16              0.00  \n",
       "75%        2265.27        0.0               6.69              6.98  \n",
       "max    18333880.69        1.0              56.53             99.92  "
      ]
     },
     "execution_count": 24,
     "metadata": {},
     "output_type": "execute_result"
    }
   ],
   "source": [
    "rides_info.describe().round(2)"
   ]
  },
  {
   "cell_type": "markdown",
   "id": "246bf960",
   "metadata": {},
   "source": [
    "<div class=\"alert alert-info\">\n",
    "    <b>Выводы</b>\n",
    "    \n",
    "- описание столбцов датафрейма (`speed_avg` - средняя скорость по маршруту такси, `rating` - рейтинг, полученный водителем за поездку, `ride_duration` - продолжительность поездки, `ride_cost` - стоимость поездки, `stop_times` - количество остановок)\n",
    "- средняя скорость движения по маршруту по всем поездкам около `47`, а максимальная средняя скорость `100`. Вероятно, этот столбец имеет размерность км/час\n",
    "- как минимум в половине случаев во время поездки была одна остановка\n",
    "- максимальный рейтинг около `10`, минимум `0`. Более половины всех рейтингов с оценками `от 3 до 5`. Вероятно, размерность этого столбца - баллы\n",
    "- сделать однозначные выводы о размерностях продолжительности и стоимости поездок нельзя, вероятно, они были модифицированы и для этого требуется дополнительный анализ и визуализация данных\n",
    "</div>"
   ]
  },
  {
   "cell_type": "markdown",
   "id": "8395cf9d-6283-43be-8992-5488da38fcad",
   "metadata": {},
   "source": [
    "`describe()` также можно использовать и для категориальных столбцов, добавив параметр `include='object'`"
   ]
  },
  {
   "cell_type": "code",
   "id": "b072219e-5d0d-42ce-9678-070a6f6a18d2",
   "metadata": {
    "ExecuteTime": {
     "end_time": "2024-09-02T12:32:21.859928Z",
     "start_time": "2024-09-02T12:32:21.698880Z"
    }
   },
   "source": [
    "rides_info.describe(include='object')"
   ],
   "outputs": [
    {
     "data": {
      "text/plain": [
       "           user_id      car_id ride_id   ride_date\n",
       "count       739500      739500  739500      739500\n",
       "unique       15153        4250    2704          93\n",
       "top     n50223955s  A-1049127W     k1y  2020-01-01\n",
       "freq           153         174     330        8039"
      ],
      "text/html": [
       "<div>\n",
       "<style scoped>\n",
       "    .dataframe tbody tr th:only-of-type {\n",
       "        vertical-align: middle;\n",
       "    }\n",
       "\n",
       "    .dataframe tbody tr th {\n",
       "        vertical-align: top;\n",
       "    }\n",
       "\n",
       "    .dataframe thead th {\n",
       "        text-align: right;\n",
       "    }\n",
       "</style>\n",
       "<table border=\"1\" class=\"dataframe\">\n",
       "  <thead>\n",
       "    <tr style=\"text-align: right;\">\n",
       "      <th></th>\n",
       "      <th>user_id</th>\n",
       "      <th>car_id</th>\n",
       "      <th>ride_id</th>\n",
       "      <th>ride_date</th>\n",
       "    </tr>\n",
       "  </thead>\n",
       "  <tbody>\n",
       "    <tr>\n",
       "      <th>count</th>\n",
       "      <td>739500</td>\n",
       "      <td>739500</td>\n",
       "      <td>739500</td>\n",
       "      <td>739500</td>\n",
       "    </tr>\n",
       "    <tr>\n",
       "      <th>unique</th>\n",
       "      <td>15153</td>\n",
       "      <td>4250</td>\n",
       "      <td>2704</td>\n",
       "      <td>93</td>\n",
       "    </tr>\n",
       "    <tr>\n",
       "      <th>top</th>\n",
       "      <td>n50223955s</td>\n",
       "      <td>A-1049127W</td>\n",
       "      <td>k1y</td>\n",
       "      <td>2020-01-01</td>\n",
       "    </tr>\n",
       "    <tr>\n",
       "      <th>freq</th>\n",
       "      <td>153</td>\n",
       "      <td>174</td>\n",
       "      <td>330</td>\n",
       "      <td>8039</td>\n",
       "    </tr>\n",
       "  </tbody>\n",
       "</table>\n",
       "</div>"
      ]
     },
     "execution_count": 52,
     "metadata": {},
     "output_type": "execute_result"
    }
   ],
   "execution_count": 52
  },
  {
   "cell_type": "markdown",
   "id": "40431402",
   "metadata": {},
   "source": [
    "**[df.value_counts()](https://pandas.pydata.org/docs/reference/api/pandas.Series.value_counts.html)** - функция используется для получения уникальных значений и числа их встречаемости в виде `Series`. По умолчанию отсортирован по убыванию встречаемости (`ascending=False`). Можно изменить сортировку через `ascending=True`. Также числовые столбцы можно разбивать на бины через параметр `bins`."
   ]
  },
  {
   "metadata": {},
   "cell_type": "code",
   "outputs": [],
   "execution_count": null,
   "source": "",
   "id": "1e7f35c73e503cfb"
  },
  {
   "metadata": {
    "ExecuteTime": {
     "end_time": "2024-09-02T12:39:19.758119Z",
     "start_time": "2024-09-02T12:39:19.730671Z"
    }
   },
   "cell_type": "code",
   "source": "rides_info.ride_id.value_counts()",
   "id": "b8c0df68488b57ae",
   "outputs": [
    {
     "data": {
      "text/plain": [
       "ride_id\n",
       "k1y    330\n",
       "V1C    329\n",
       "l1j    326\n",
       "Z1j    325\n",
       "O1e    324\n",
       "      ... \n",
       "c1Q    225\n",
       "x1a    225\n",
       "y1B    224\n",
       "s1E    223\n",
       "Q1W    220\n",
       "Name: count, Length: 2704, dtype: int64"
      ]
     },
     "execution_count": 59,
     "metadata": {},
     "output_type": "execute_result"
    }
   ],
   "execution_count": 59
  },
  {
   "cell_type": "code",
   "id": "27397dce",
   "metadata": {
    "ExecuteTime": {
     "end_time": "2024-09-02T12:38:45.559958Z",
     "start_time": "2024-09-02T12:38:45.532027Z"
    }
   },
   "source": "rides_info.ride_id.value_counts()[:5]",
   "outputs": [
    {
     "data": {
      "text/plain": [
       "ride_id\n",
       "k1y    330\n",
       "V1C    329\n",
       "l1j    326\n",
       "Z1j    325\n",
       "O1e    324\n",
       "Name: count, dtype: int64"
      ]
     },
     "execution_count": 58,
     "metadata": {},
     "output_type": "execute_result"
    }
   ],
   "execution_count": 58
  },
  {
   "cell_type": "markdown",
   "id": "7de3e830",
   "metadata": {},
   "source": [
    "Вывод: самый часто встречающийся код маршрута `H1v` и `E1y`, имеют по 34 поездки"
   ]
  },
  {
   "cell_type": "markdown",
   "id": "dd963186",
   "metadata": {},
   "source": [
    "Посмотрим как распределяется кол-во поездок по рейтингу поездок разбивая его на бины:"
   ]
  },
  {
   "cell_type": "code",
   "execution_count": 27,
   "id": "6cb9d876",
   "metadata": {},
   "outputs": [
    {
     "data": {
      "text/plain": [
       "rating\n",
       "(2.5, 5.0]       21730\n",
       "(5.0, 7.5]       15101\n",
       "(-0.011, 2.5]     8761\n",
       "(7.5, 10.0]       4408\n",
       "Name: count, dtype: int64"
      ]
     },
     "execution_count": 27,
     "metadata": {},
     "output_type": "execute_result"
    }
   ],
   "source": [
    "rides_info.rating.value_counts(bins=4)"
   ]
  },
  {
   "cell_type": "markdown",
   "id": "121fa599",
   "metadata": {},
   "source": [
    "Вывод: 26% (8761+4408 делить на 50000) поездок с рейтингом ниже 2.5 и выше 7.5\n",
    "\n"
   ]
  },
  {
   "cell_type": "markdown",
   "id": "4d99a1af",
   "metadata": {},
   "source": [
    "**[.duplicated()](https://pandas.pydata.org/docs/reference/api/pandas.DataFrame.duplicated.html)** - метод, который позволит нам выявить дублирование в данных. Возвращает булевы значения, обозначающие повторяющиеся строки. При этом можно не учитывать некоторые определенные столбцы."
   ]
  },
  {
   "cell_type": "code",
   "id": "a084fe8c",
   "metadata": {
    "ExecuteTime": {
     "end_time": "2024-09-02T12:33:35.970280Z",
     "start_time": "2024-09-02T12:33:35.966193Z"
    }
   },
   "source": [
    "df = pd.DataFrame({\n",
    "    'brand': ['Yum Yum', 'Yum Yum', 'Indomie', 'Indomie', 'Indomie'],\n",
    "    'style': ['cup', 'cup', 'cup', 'pack', 'pack'],\n",
    "    'rating': [4, 4, 3.5, 15, 5]\n",
    "})\n",
    "df.duplicated()"
   ],
   "outputs": [
    {
     "data": {
      "text/plain": [
       "0    False\n",
       "1     True\n",
       "2    False\n",
       "3    False\n",
       "4    False\n",
       "dtype: bool"
      ]
     },
     "execution_count": 56,
     "metadata": {},
     "output_type": "execute_result"
    }
   ],
   "execution_count": 56
  },
  {
   "cell_type": "markdown",
   "id": "a219ca28",
   "metadata": {},
   "source": [
    "Также можно использовать на определенном столбце/столбцах."
   ]
  },
  {
   "cell_type": "code",
   "execution_count": 29,
   "id": "0a709fe0",
   "metadata": {},
   "outputs": [
    {
     "data": {
      "text/plain": [
       "0    False\n",
       "1     True\n",
       "2    False\n",
       "3     True\n",
       "4     True\n",
       "dtype: bool"
      ]
     },
     "execution_count": 29,
     "metadata": {},
     "output_type": "execute_result"
    }
   ],
   "source": [
    "df.duplicated(subset=['brand'])"
   ]
  },
  {
   "cell_type": "markdown",
   "id": "d82a826b",
   "metadata": {},
   "source": [
    "# <center> 📤 Извлечение необходимой информации </center>\n",
    "\n",
    "<p id=\"6\">Перейдем к самому интересному - непосредственно к анализу полученных данных, познакомимся с методами сортировки, фильтрации и разными функциями.</p>\n",
    "\n",
    "<img src=\"https://sun9-41.userapi.com/impg/io095r0KS1Fq4NTHYReNuRTf6DBM1pihDZMPqQ/Xki0IFcFAK8.jpg?size=2536x1150&quality=96&sign=db8f9c09f39dd1417032d06830270d44&type=album\"></img>"
   ]
  },
  {
   "cell_type": "markdown",
   "id": "29772545",
   "metadata": {},
   "source": [
    "## Сортировка `DataFrame`\n",
    "\n",
    "<div class=\"alert alert-info\">\n",
    "<p id=\"7\">\n",
    "    \n",
    "`DataFrame` можно сортировать. Посмотрим как это можно делать.</p>\n"
   ]
  },
  {
   "cell_type": "code",
   "id": "79877b02",
   "metadata": {
    "ExecuteTime": {
     "end_time": "2024-09-02T12:40:00.828650Z",
     "start_time": "2024-09-02T12:40:00.821796Z"
    }
   },
   "source": [
    "data = {'animal': ['cat', 'cat', 'snake', 'dog', 'dog', 'cat', 'snake', 'cat', 'dog', 'dog'],\n",
    "         'age': [2.5, 3, 0.5, np.nan, 5, 2, 4.5, np.nan, 7, 3],\n",
    "         'visits': [1, 3, 2, 3, 2, 3, 1, 1, 2, 1],\n",
    "         'priority': ['yes', 'yes', 'no', 'yes', 'no', 'no', 'no', 'yes', 'no', 'no']}\n",
    "\n",
    "labels = ['a', 'b', 'c', 'd', 'e', 'f', 'g', 'h', 'i', 'j']\n",
    "\n",
    "df = pd.DataFrame(data, index=labels)\n",
    "df"
   ],
   "outputs": [
    {
     "data": {
      "text/plain": [
       "  animal  age  visits priority\n",
       "a    cat  2.5       1      yes\n",
       "b    cat  3.0       3      yes\n",
       "c  snake  0.5       2       no\n",
       "d    dog  NaN       3      yes\n",
       "e    dog  5.0       2       no\n",
       "f    cat  2.0       3       no\n",
       "g  snake  4.5       1       no\n",
       "h    cat  NaN       1      yes\n",
       "i    dog  7.0       2       no\n",
       "j    dog  3.0       1       no"
      ],
      "text/html": [
       "<div>\n",
       "<style scoped>\n",
       "    .dataframe tbody tr th:only-of-type {\n",
       "        vertical-align: middle;\n",
       "    }\n",
       "\n",
       "    .dataframe tbody tr th {\n",
       "        vertical-align: top;\n",
       "    }\n",
       "\n",
       "    .dataframe thead th {\n",
       "        text-align: right;\n",
       "    }\n",
       "</style>\n",
       "<table border=\"1\" class=\"dataframe\">\n",
       "  <thead>\n",
       "    <tr style=\"text-align: right;\">\n",
       "      <th></th>\n",
       "      <th>animal</th>\n",
       "      <th>age</th>\n",
       "      <th>visits</th>\n",
       "      <th>priority</th>\n",
       "    </tr>\n",
       "  </thead>\n",
       "  <tbody>\n",
       "    <tr>\n",
       "      <th>a</th>\n",
       "      <td>cat</td>\n",
       "      <td>2.5</td>\n",
       "      <td>1</td>\n",
       "      <td>yes</td>\n",
       "    </tr>\n",
       "    <tr>\n",
       "      <th>b</th>\n",
       "      <td>cat</td>\n",
       "      <td>3.0</td>\n",
       "      <td>3</td>\n",
       "      <td>yes</td>\n",
       "    </tr>\n",
       "    <tr>\n",
       "      <th>c</th>\n",
       "      <td>snake</td>\n",
       "      <td>0.5</td>\n",
       "      <td>2</td>\n",
       "      <td>no</td>\n",
       "    </tr>\n",
       "    <tr>\n",
       "      <th>d</th>\n",
       "      <td>dog</td>\n",
       "      <td>NaN</td>\n",
       "      <td>3</td>\n",
       "      <td>yes</td>\n",
       "    </tr>\n",
       "    <tr>\n",
       "      <th>e</th>\n",
       "      <td>dog</td>\n",
       "      <td>5.0</td>\n",
       "      <td>2</td>\n",
       "      <td>no</td>\n",
       "    </tr>\n",
       "    <tr>\n",
       "      <th>f</th>\n",
       "      <td>cat</td>\n",
       "      <td>2.0</td>\n",
       "      <td>3</td>\n",
       "      <td>no</td>\n",
       "    </tr>\n",
       "    <tr>\n",
       "      <th>g</th>\n",
       "      <td>snake</td>\n",
       "      <td>4.5</td>\n",
       "      <td>1</td>\n",
       "      <td>no</td>\n",
       "    </tr>\n",
       "    <tr>\n",
       "      <th>h</th>\n",
       "      <td>cat</td>\n",
       "      <td>NaN</td>\n",
       "      <td>1</td>\n",
       "      <td>yes</td>\n",
       "    </tr>\n",
       "    <tr>\n",
       "      <th>i</th>\n",
       "      <td>dog</td>\n",
       "      <td>7.0</td>\n",
       "      <td>2</td>\n",
       "      <td>no</td>\n",
       "    </tr>\n",
       "    <tr>\n",
       "      <th>j</th>\n",
       "      <td>dog</td>\n",
       "      <td>3.0</td>\n",
       "      <td>1</td>\n",
       "      <td>no</td>\n",
       "    </tr>\n",
       "  </tbody>\n",
       "</table>\n",
       "</div>"
      ]
     },
     "execution_count": 60,
     "metadata": {},
     "output_type": "execute_result"
    }
   ],
   "execution_count": 60
  },
  {
   "cell_type": "markdown",
   "id": "b96ad178",
   "metadata": {},
   "source": [
    "__По значениям__"
   ]
  },
  {
   "cell_type": "code",
   "execution_count": 31,
   "id": "70e738d8",
   "metadata": {},
   "outputs": [
    {
     "data": {
      "text/html": [
       "<div>\n",
       "<style scoped>\n",
       "    .dataframe tbody tr th:only-of-type {\n",
       "        vertical-align: middle;\n",
       "    }\n",
       "\n",
       "    .dataframe tbody tr th {\n",
       "        vertical-align: top;\n",
       "    }\n",
       "\n",
       "    .dataframe thead th {\n",
       "        text-align: right;\n",
       "    }\n",
       "</style>\n",
       "<table border=\"1\" class=\"dataframe\">\n",
       "  <thead>\n",
       "    <tr style=\"text-align: right;\">\n",
       "      <th></th>\n",
       "      <th>animal</th>\n",
       "      <th>age</th>\n",
       "      <th>visits</th>\n",
       "      <th>priority</th>\n",
       "    </tr>\n",
       "  </thead>\n",
       "  <tbody>\n",
       "    <tr>\n",
       "      <th>c</th>\n",
       "      <td>snake</td>\n",
       "      <td>0.5</td>\n",
       "      <td>2</td>\n",
       "      <td>no</td>\n",
       "    </tr>\n",
       "    <tr>\n",
       "      <th>f</th>\n",
       "      <td>cat</td>\n",
       "      <td>2.0</td>\n",
       "      <td>3</td>\n",
       "      <td>no</td>\n",
       "    </tr>\n",
       "    <tr>\n",
       "      <th>a</th>\n",
       "      <td>cat</td>\n",
       "      <td>2.5</td>\n",
       "      <td>1</td>\n",
       "      <td>yes</td>\n",
       "    </tr>\n",
       "    <tr>\n",
       "      <th>b</th>\n",
       "      <td>cat</td>\n",
       "      <td>3.0</td>\n",
       "      <td>3</td>\n",
       "      <td>yes</td>\n",
       "    </tr>\n",
       "    <tr>\n",
       "      <th>j</th>\n",
       "      <td>dog</td>\n",
       "      <td>3.0</td>\n",
       "      <td>1</td>\n",
       "      <td>no</td>\n",
       "    </tr>\n",
       "    <tr>\n",
       "      <th>g</th>\n",
       "      <td>snake</td>\n",
       "      <td>4.5</td>\n",
       "      <td>1</td>\n",
       "      <td>no</td>\n",
       "    </tr>\n",
       "    <tr>\n",
       "      <th>e</th>\n",
       "      <td>dog</td>\n",
       "      <td>5.0</td>\n",
       "      <td>2</td>\n",
       "      <td>no</td>\n",
       "    </tr>\n",
       "    <tr>\n",
       "      <th>i</th>\n",
       "      <td>dog</td>\n",
       "      <td>7.0</td>\n",
       "      <td>2</td>\n",
       "      <td>no</td>\n",
       "    </tr>\n",
       "    <tr>\n",
       "      <th>d</th>\n",
       "      <td>dog</td>\n",
       "      <td>NaN</td>\n",
       "      <td>3</td>\n",
       "      <td>yes</td>\n",
       "    </tr>\n",
       "    <tr>\n",
       "      <th>h</th>\n",
       "      <td>cat</td>\n",
       "      <td>NaN</td>\n",
       "      <td>1</td>\n",
       "      <td>yes</td>\n",
       "    </tr>\n",
       "  </tbody>\n",
       "</table>\n",
       "</div>"
      ],
      "text/plain": [
       "  animal  age  visits priority\n",
       "c  snake  0.5       2       no\n",
       "f    cat  2.0       3       no\n",
       "a    cat  2.5       1      yes\n",
       "b    cat  3.0       3      yes\n",
       "j    dog  3.0       1       no\n",
       "g  snake  4.5       1       no\n",
       "e    dog  5.0       2       no\n",
       "i    dog  7.0       2       no\n",
       "d    dog  NaN       3      yes\n",
       "h    cat  NaN       1      yes"
      ]
     },
     "execution_count": 31,
     "metadata": {},
     "output_type": "execute_result"
    }
   ],
   "source": [
    "df.sort_values(by='age') "
   ]
  },
  {
   "cell_type": "markdown",
   "id": "b03744f1",
   "metadata": {},
   "source": [
    "__По индексу__"
   ]
  },
  {
   "cell_type": "code",
   "execution_count": 32,
   "id": "0f7492b3",
   "metadata": {},
   "outputs": [
    {
     "data": {
      "text/html": [
       "<div>\n",
       "<style scoped>\n",
       "    .dataframe tbody tr th:only-of-type {\n",
       "        vertical-align: middle;\n",
       "    }\n",
       "\n",
       "    .dataframe tbody tr th {\n",
       "        vertical-align: top;\n",
       "    }\n",
       "\n",
       "    .dataframe thead th {\n",
       "        text-align: right;\n",
       "    }\n",
       "</style>\n",
       "<table border=\"1\" class=\"dataframe\">\n",
       "  <thead>\n",
       "    <tr style=\"text-align: right;\">\n",
       "      <th></th>\n",
       "      <th>visits</th>\n",
       "      <th>priority</th>\n",
       "      <th>animal</th>\n",
       "      <th>age</th>\n",
       "    </tr>\n",
       "  </thead>\n",
       "  <tbody>\n",
       "    <tr>\n",
       "      <th>a</th>\n",
       "      <td>1</td>\n",
       "      <td>yes</td>\n",
       "      <td>cat</td>\n",
       "      <td>2.5</td>\n",
       "    </tr>\n",
       "    <tr>\n",
       "      <th>b</th>\n",
       "      <td>3</td>\n",
       "      <td>yes</td>\n",
       "      <td>cat</td>\n",
       "      <td>3.0</td>\n",
       "    </tr>\n",
       "    <tr>\n",
       "      <th>c</th>\n",
       "      <td>2</td>\n",
       "      <td>no</td>\n",
       "      <td>snake</td>\n",
       "      <td>0.5</td>\n",
       "    </tr>\n",
       "    <tr>\n",
       "      <th>d</th>\n",
       "      <td>3</td>\n",
       "      <td>yes</td>\n",
       "      <td>dog</td>\n",
       "      <td>NaN</td>\n",
       "    </tr>\n",
       "    <tr>\n",
       "      <th>e</th>\n",
       "      <td>2</td>\n",
       "      <td>no</td>\n",
       "      <td>dog</td>\n",
       "      <td>5.0</td>\n",
       "    </tr>\n",
       "    <tr>\n",
       "      <th>f</th>\n",
       "      <td>3</td>\n",
       "      <td>no</td>\n",
       "      <td>cat</td>\n",
       "      <td>2.0</td>\n",
       "    </tr>\n",
       "    <tr>\n",
       "      <th>g</th>\n",
       "      <td>1</td>\n",
       "      <td>no</td>\n",
       "      <td>snake</td>\n",
       "      <td>4.5</td>\n",
       "    </tr>\n",
       "    <tr>\n",
       "      <th>h</th>\n",
       "      <td>1</td>\n",
       "      <td>yes</td>\n",
       "      <td>cat</td>\n",
       "      <td>NaN</td>\n",
       "    </tr>\n",
       "    <tr>\n",
       "      <th>i</th>\n",
       "      <td>2</td>\n",
       "      <td>no</td>\n",
       "      <td>dog</td>\n",
       "      <td>7.0</td>\n",
       "    </tr>\n",
       "    <tr>\n",
       "      <th>j</th>\n",
       "      <td>1</td>\n",
       "      <td>no</td>\n",
       "      <td>dog</td>\n",
       "      <td>3.0</td>\n",
       "    </tr>\n",
       "  </tbody>\n",
       "</table>\n",
       "</div>"
      ],
      "text/plain": [
       "   visits priority animal  age\n",
       "a       1      yes    cat  2.5\n",
       "b       3      yes    cat  3.0\n",
       "c       2       no  snake  0.5\n",
       "d       3      yes    dog  NaN\n",
       "e       2       no    dog  5.0\n",
       "f       3       no    cat  2.0\n",
       "g       1       no  snake  4.5\n",
       "h       1      yes    cat  NaN\n",
       "i       2       no    dog  7.0\n",
       "j       1       no    dog  3.0"
      ]
     },
     "execution_count": 32,
     "metadata": {},
     "output_type": "execute_result"
    }
   ],
   "source": [
    "df.sort_index(axis=1, ascending=False)"
   ]
  },
  {
   "cell_type": "markdown",
   "id": "88bcd79f",
   "metadata": {},
   "source": [
    "<div class=\"alert alert-info\">\n",
    "    \n",
    "Параметр `ascending=True` по умолчанию, соответственно сортируется по возрастанию. Если нужно сортировать по нескольким столбцам, то передается список столбов и список булевых переменных в `ascending`. Параметр `inplace=False` по умолчанию.\n",
    "\n"
   ]
  },
  {
   "cell_type": "markdown",
   "id": "cf894156",
   "metadata": {},
   "source": [
    "## Фильтрация данных\n",
    "\n",
    "<p id=\"8\">Логические выражения используются для получения подтаблицы с заданными условиями по столбцам.</p>\n",
    "\n",
    "Рассмотрим примеры.\n",
    "\n"
   ]
  },
  {
   "cell_type": "code",
   "id": "9c81367a",
   "metadata": {
    "ExecuteTime": {
     "end_time": "2024-09-02T12:21:47.346455Z",
     "start_time": "2024-09-02T12:17:35.502158Z"
    }
   },
   "source": [
    "df.loc[df.visits > 2]"
   ],
   "outputs": [
    {
     "data": {
      "text/plain": [
       "  animal  age  visits priority\n",
       "b    cat  3.0       3      yes\n",
       "d    dog  NaN       3      yes\n",
       "f    cat  2.0       3       no"
      ],
      "text/html": [
       "<div>\n",
       "<style scoped>\n",
       "    .dataframe tbody tr th:only-of-type {\n",
       "        vertical-align: middle;\n",
       "    }\n",
       "\n",
       "    .dataframe tbody tr th {\n",
       "        vertical-align: top;\n",
       "    }\n",
       "\n",
       "    .dataframe thead th {\n",
       "        text-align: right;\n",
       "    }\n",
       "</style>\n",
       "<table border=\"1\" class=\"dataframe\">\n",
       "  <thead>\n",
       "    <tr style=\"text-align: right;\">\n",
       "      <th></th>\n",
       "      <th>animal</th>\n",
       "      <th>age</th>\n",
       "      <th>visits</th>\n",
       "      <th>priority</th>\n",
       "    </tr>\n",
       "  </thead>\n",
       "  <tbody>\n",
       "    <tr>\n",
       "      <th>b</th>\n",
       "      <td>cat</td>\n",
       "      <td>3.0</td>\n",
       "      <td>3</td>\n",
       "      <td>yes</td>\n",
       "    </tr>\n",
       "    <tr>\n",
       "      <th>d</th>\n",
       "      <td>dog</td>\n",
       "      <td>NaN</td>\n",
       "      <td>3</td>\n",
       "      <td>yes</td>\n",
       "    </tr>\n",
       "    <tr>\n",
       "      <th>f</th>\n",
       "      <td>cat</td>\n",
       "      <td>2.0</td>\n",
       "      <td>3</td>\n",
       "      <td>no</td>\n",
       "    </tr>\n",
       "  </tbody>\n",
       "</table>\n",
       "</div>"
      ]
     },
     "execution_count": 5,
     "metadata": {},
     "output_type": "execute_result"
    }
   ],
   "execution_count": 5
  },
  {
   "cell_type": "markdown",
   "id": "fa75755a",
   "metadata": {},
   "source": [
    "Если условий больше одного, то условия фильтрации записываются в круглых скобках!\n",
    "\n",
    "- __'И'__ обозначается как __&__\n",
    "- __'ИЛИ'__  обозначается как __|__"
   ]
  },
  {
   "cell_type": "code",
   "id": "70e8ecb4",
   "metadata": {
    "ExecuteTime": {
     "end_time": "2024-09-02T12:21:47.347455400Z",
     "start_time": "2024-09-02T12:18:27.429981Z"
    }
   },
   "source": [
    "df.loc[(df.visits > 2) & (df.priority == 'yes')]"
   ],
   "outputs": [
    {
     "data": {
      "text/plain": [
       "  animal  age  visits priority\n",
       "b    cat  3.0       3      yes\n",
       "d    dog  NaN       3      yes"
      ],
      "text/html": [
       "<div>\n",
       "<style scoped>\n",
       "    .dataframe tbody tr th:only-of-type {\n",
       "        vertical-align: middle;\n",
       "    }\n",
       "\n",
       "    .dataframe tbody tr th {\n",
       "        vertical-align: top;\n",
       "    }\n",
       "\n",
       "    .dataframe thead th {\n",
       "        text-align: right;\n",
       "    }\n",
       "</style>\n",
       "<table border=\"1\" class=\"dataframe\">\n",
       "  <thead>\n",
       "    <tr style=\"text-align: right;\">\n",
       "      <th></th>\n",
       "      <th>animal</th>\n",
       "      <th>age</th>\n",
       "      <th>visits</th>\n",
       "      <th>priority</th>\n",
       "    </tr>\n",
       "  </thead>\n",
       "  <tbody>\n",
       "    <tr>\n",
       "      <th>b</th>\n",
       "      <td>cat</td>\n",
       "      <td>3.0</td>\n",
       "      <td>3</td>\n",
       "      <td>yes</td>\n",
       "    </tr>\n",
       "    <tr>\n",
       "      <th>d</th>\n",
       "      <td>dog</td>\n",
       "      <td>NaN</td>\n",
       "      <td>3</td>\n",
       "      <td>yes</td>\n",
       "    </tr>\n",
       "  </tbody>\n",
       "</table>\n",
       "</div>"
      ]
     },
     "execution_count": 6,
     "metadata": {},
     "output_type": "execute_result"
    }
   ],
   "execution_count": 6
  },
  {
   "cell_type": "code",
   "id": "8f56876c",
   "metadata": {
    "ExecuteTime": {
     "end_time": "2024-09-02T12:21:47.347455400Z",
     "start_time": "2024-09-02T12:19:04.005787Z"
    }
   },
   "source": [
    "df.loc[(df.visits > 2) | (df.age > 5)]"
   ],
   "outputs": [
    {
     "data": {
      "text/plain": [
       "  animal  age  visits priority\n",
       "b    cat  3.0       3      yes\n",
       "d    dog  NaN       3      yes\n",
       "f    cat  2.0       3       no\n",
       "i    dog  7.0       2       no"
      ],
      "text/html": [
       "<div>\n",
       "<style scoped>\n",
       "    .dataframe tbody tr th:only-of-type {\n",
       "        vertical-align: middle;\n",
       "    }\n",
       "\n",
       "    .dataframe tbody tr th {\n",
       "        vertical-align: top;\n",
       "    }\n",
       "\n",
       "    .dataframe thead th {\n",
       "        text-align: right;\n",
       "    }\n",
       "</style>\n",
       "<table border=\"1\" class=\"dataframe\">\n",
       "  <thead>\n",
       "    <tr style=\"text-align: right;\">\n",
       "      <th></th>\n",
       "      <th>animal</th>\n",
       "      <th>age</th>\n",
       "      <th>visits</th>\n",
       "      <th>priority</th>\n",
       "    </tr>\n",
       "  </thead>\n",
       "  <tbody>\n",
       "    <tr>\n",
       "      <th>b</th>\n",
       "      <td>cat</td>\n",
       "      <td>3.0</td>\n",
       "      <td>3</td>\n",
       "      <td>yes</td>\n",
       "    </tr>\n",
       "    <tr>\n",
       "      <th>d</th>\n",
       "      <td>dog</td>\n",
       "      <td>NaN</td>\n",
       "      <td>3</td>\n",
       "      <td>yes</td>\n",
       "    </tr>\n",
       "    <tr>\n",
       "      <th>f</th>\n",
       "      <td>cat</td>\n",
       "      <td>2.0</td>\n",
       "      <td>3</td>\n",
       "      <td>no</td>\n",
       "    </tr>\n",
       "    <tr>\n",
       "      <th>i</th>\n",
       "      <td>dog</td>\n",
       "      <td>7.0</td>\n",
       "      <td>2</td>\n",
       "      <td>no</td>\n",
       "    </tr>\n",
       "  </tbody>\n",
       "</table>\n",
       "</div>"
      ]
     },
     "execution_count": 8,
     "metadata": {},
     "output_type": "execute_result"
    }
   ],
   "execution_count": 8
  },
  {
   "cell_type": "markdown",
   "id": "b294a9b1",
   "metadata": {},
   "source": [
    "Чтобы нам вывести часть датафрейма с дешевыми ценами (цены поездки ниже 500), попробуем просто записать это условие и вывести часть датафрейма, которая соответствует этому условию "
   ]
  },
  {
   "cell_type": "code",
   "id": "01f16ebd",
   "metadata": {
    "ExecuteTime": {
     "end_time": "2024-09-02T12:41:05.090662Z",
     "start_time": "2024-09-02T12:41:05.059430Z"
    }
   },
   "source": [
    "rule_cheap = rides_info.ride_cost < 500\n",
    "rides_info[rule_cheap].head().round(2)"
   ],
   "outputs": [
    {
     "data": {
      "text/plain": [
       "      user_id      car_id ride_id   ride_date  rating  ride_duration  \\\n",
       "0  o52317055h  A-1049127W     b1v  2020-01-01    4.95             21   \n",
       "1  H41298704y  A-1049127W     T1U  2020-01-01    6.91              8   \n",
       "2  v88009926E  A-1049127W     g1p  2020-01-02    6.01             20   \n",
       "3  t14229455i  A-1049127W     S1c  2020-01-02    0.26             19   \n",
       "6  W11562554A  A-1049127W     A1g  2020-01-04    5.78             30   \n",
       "\n",
       "   ride_cost  speed_avg  speed_max  stop_times  distance  refueling  \\\n",
       "0        268         36     113.55           0    514.25          0   \n",
       "1         59         36      93.00           1    197.52          0   \n",
       "2        315         61      81.96           0   1276.33          0   \n",
       "3        205         32     128.00           0    535.68          0   \n",
       "6        324         48      61.00           0   1314.26          0   \n",
       "\n",
       "   user_ride_quality  deviation_normal  \n",
       "0               1.12              2.91  \n",
       "1               1.65              4.13  \n",
       "2               2.60              2.46  \n",
       "3               3.22              0.91  \n",
       "6               1.46             -6.00  "
      ],
      "text/html": [
       "<div>\n",
       "<style scoped>\n",
       "    .dataframe tbody tr th:only-of-type {\n",
       "        vertical-align: middle;\n",
       "    }\n",
       "\n",
       "    .dataframe tbody tr th {\n",
       "        vertical-align: top;\n",
       "    }\n",
       "\n",
       "    .dataframe thead th {\n",
       "        text-align: right;\n",
       "    }\n",
       "</style>\n",
       "<table border=\"1\" class=\"dataframe\">\n",
       "  <thead>\n",
       "    <tr style=\"text-align: right;\">\n",
       "      <th></th>\n",
       "      <th>user_id</th>\n",
       "      <th>car_id</th>\n",
       "      <th>ride_id</th>\n",
       "      <th>ride_date</th>\n",
       "      <th>rating</th>\n",
       "      <th>ride_duration</th>\n",
       "      <th>ride_cost</th>\n",
       "      <th>speed_avg</th>\n",
       "      <th>speed_max</th>\n",
       "      <th>stop_times</th>\n",
       "      <th>distance</th>\n",
       "      <th>refueling</th>\n",
       "      <th>user_ride_quality</th>\n",
       "      <th>deviation_normal</th>\n",
       "    </tr>\n",
       "  </thead>\n",
       "  <tbody>\n",
       "    <tr>\n",
       "      <th>0</th>\n",
       "      <td>o52317055h</td>\n",
       "      <td>A-1049127W</td>\n",
       "      <td>b1v</td>\n",
       "      <td>2020-01-01</td>\n",
       "      <td>4.95</td>\n",
       "      <td>21</td>\n",
       "      <td>268</td>\n",
       "      <td>36</td>\n",
       "      <td>113.55</td>\n",
       "      <td>0</td>\n",
       "      <td>514.25</td>\n",
       "      <td>0</td>\n",
       "      <td>1.12</td>\n",
       "      <td>2.91</td>\n",
       "    </tr>\n",
       "    <tr>\n",
       "      <th>1</th>\n",
       "      <td>H41298704y</td>\n",
       "      <td>A-1049127W</td>\n",
       "      <td>T1U</td>\n",
       "      <td>2020-01-01</td>\n",
       "      <td>6.91</td>\n",
       "      <td>8</td>\n",
       "      <td>59</td>\n",
       "      <td>36</td>\n",
       "      <td>93.00</td>\n",
       "      <td>1</td>\n",
       "      <td>197.52</td>\n",
       "      <td>0</td>\n",
       "      <td>1.65</td>\n",
       "      <td>4.13</td>\n",
       "    </tr>\n",
       "    <tr>\n",
       "      <th>2</th>\n",
       "      <td>v88009926E</td>\n",
       "      <td>A-1049127W</td>\n",
       "      <td>g1p</td>\n",
       "      <td>2020-01-02</td>\n",
       "      <td>6.01</td>\n",
       "      <td>20</td>\n",
       "      <td>315</td>\n",
       "      <td>61</td>\n",
       "      <td>81.96</td>\n",
       "      <td>0</td>\n",
       "      <td>1276.33</td>\n",
       "      <td>0</td>\n",
       "      <td>2.60</td>\n",
       "      <td>2.46</td>\n",
       "    </tr>\n",
       "    <tr>\n",
       "      <th>3</th>\n",
       "      <td>t14229455i</td>\n",
       "      <td>A-1049127W</td>\n",
       "      <td>S1c</td>\n",
       "      <td>2020-01-02</td>\n",
       "      <td>0.26</td>\n",
       "      <td>19</td>\n",
       "      <td>205</td>\n",
       "      <td>32</td>\n",
       "      <td>128.00</td>\n",
       "      <td>0</td>\n",
       "      <td>535.68</td>\n",
       "      <td>0</td>\n",
       "      <td>3.22</td>\n",
       "      <td>0.91</td>\n",
       "    </tr>\n",
       "    <tr>\n",
       "      <th>6</th>\n",
       "      <td>W11562554A</td>\n",
       "      <td>A-1049127W</td>\n",
       "      <td>A1g</td>\n",
       "      <td>2020-01-04</td>\n",
       "      <td>5.78</td>\n",
       "      <td>30</td>\n",
       "      <td>324</td>\n",
       "      <td>48</td>\n",
       "      <td>61.00</td>\n",
       "      <td>0</td>\n",
       "      <td>1314.26</td>\n",
       "      <td>0</td>\n",
       "      <td>1.46</td>\n",
       "      <td>-6.00</td>\n",
       "    </tr>\n",
       "  </tbody>\n",
       "</table>\n",
       "</div>"
      ]
     },
     "execution_count": 61,
     "metadata": {},
     "output_type": "execute_result"
    }
   ],
   "execution_count": 61
  },
  {
   "cell_type": "markdown",
   "id": "a42fee2f",
   "metadata": {},
   "source": [
    "### Булева маска\n",
    "\n",
    "Также один из самых простых способов отфильтровать нужные строки - это добавить булевую маску. Пусть маска строится по условию, что стоимость поездки больше некоторого значения.\n",
    "\n",
    "- Создаем булеву маску  `[True, False, True, ...]`\n",
    "- Выводим первые 5 значений строк, подходящих под условие"
   ]
  },
  {
   "cell_type": "code",
   "id": "d3d8cd95",
   "metadata": {
    "ExecuteTime": {
     "end_time": "2024-09-02T12:41:29.432893Z",
     "start_time": "2024-09-02T12:41:29.410171Z"
    }
   },
   "source": [
    "rule_cheap = rides_info['ride_cost'] < 426  \n",
    "rides_info[rule_cheap].head()   "
   ],
   "outputs": [
    {
     "data": {
      "text/plain": [
       "      user_id      car_id ride_id   ride_date  rating  ride_duration  \\\n",
       "0  o52317055h  A-1049127W     b1v  2020-01-01    4.95             21   \n",
       "1  H41298704y  A-1049127W     T1U  2020-01-01    6.91              8   \n",
       "2  v88009926E  A-1049127W     g1p  2020-01-02    6.01             20   \n",
       "3  t14229455i  A-1049127W     S1c  2020-01-02    0.26             19   \n",
       "6  W11562554A  A-1049127W     A1g  2020-01-04    5.78             30   \n",
       "\n",
       "   ride_cost  speed_avg   speed_max  stop_times     distance  refueling  \\\n",
       "0        268         36  113.548538           0   514.246920          0   \n",
       "1         59         36   93.000000           1   197.520662          0   \n",
       "2        315         61   81.959675           0  1276.328206          0   \n",
       "3        205         32  128.000000           0   535.680831          0   \n",
       "6        324         48   61.000000           0  1314.257355          0   \n",
       "\n",
       "   user_ride_quality  deviation_normal  \n",
       "0           1.115260             2.909  \n",
       "1           1.650465             4.133  \n",
       "2           2.599112             2.461  \n",
       "3           3.216255             0.909  \n",
       "6           1.464346            -6.004  "
      ],
      "text/html": [
       "<div>\n",
       "<style scoped>\n",
       "    .dataframe tbody tr th:only-of-type {\n",
       "        vertical-align: middle;\n",
       "    }\n",
       "\n",
       "    .dataframe tbody tr th {\n",
       "        vertical-align: top;\n",
       "    }\n",
       "\n",
       "    .dataframe thead th {\n",
       "        text-align: right;\n",
       "    }\n",
       "</style>\n",
       "<table border=\"1\" class=\"dataframe\">\n",
       "  <thead>\n",
       "    <tr style=\"text-align: right;\">\n",
       "      <th></th>\n",
       "      <th>user_id</th>\n",
       "      <th>car_id</th>\n",
       "      <th>ride_id</th>\n",
       "      <th>ride_date</th>\n",
       "      <th>rating</th>\n",
       "      <th>ride_duration</th>\n",
       "      <th>ride_cost</th>\n",
       "      <th>speed_avg</th>\n",
       "      <th>speed_max</th>\n",
       "      <th>stop_times</th>\n",
       "      <th>distance</th>\n",
       "      <th>refueling</th>\n",
       "      <th>user_ride_quality</th>\n",
       "      <th>deviation_normal</th>\n",
       "    </tr>\n",
       "  </thead>\n",
       "  <tbody>\n",
       "    <tr>\n",
       "      <th>0</th>\n",
       "      <td>o52317055h</td>\n",
       "      <td>A-1049127W</td>\n",
       "      <td>b1v</td>\n",
       "      <td>2020-01-01</td>\n",
       "      <td>4.95</td>\n",
       "      <td>21</td>\n",
       "      <td>268</td>\n",
       "      <td>36</td>\n",
       "      <td>113.548538</td>\n",
       "      <td>0</td>\n",
       "      <td>514.246920</td>\n",
       "      <td>0</td>\n",
       "      <td>1.115260</td>\n",
       "      <td>2.909</td>\n",
       "    </tr>\n",
       "    <tr>\n",
       "      <th>1</th>\n",
       "      <td>H41298704y</td>\n",
       "      <td>A-1049127W</td>\n",
       "      <td>T1U</td>\n",
       "      <td>2020-01-01</td>\n",
       "      <td>6.91</td>\n",
       "      <td>8</td>\n",
       "      <td>59</td>\n",
       "      <td>36</td>\n",
       "      <td>93.000000</td>\n",
       "      <td>1</td>\n",
       "      <td>197.520662</td>\n",
       "      <td>0</td>\n",
       "      <td>1.650465</td>\n",
       "      <td>4.133</td>\n",
       "    </tr>\n",
       "    <tr>\n",
       "      <th>2</th>\n",
       "      <td>v88009926E</td>\n",
       "      <td>A-1049127W</td>\n",
       "      <td>g1p</td>\n",
       "      <td>2020-01-02</td>\n",
       "      <td>6.01</td>\n",
       "      <td>20</td>\n",
       "      <td>315</td>\n",
       "      <td>61</td>\n",
       "      <td>81.959675</td>\n",
       "      <td>0</td>\n",
       "      <td>1276.328206</td>\n",
       "      <td>0</td>\n",
       "      <td>2.599112</td>\n",
       "      <td>2.461</td>\n",
       "    </tr>\n",
       "    <tr>\n",
       "      <th>3</th>\n",
       "      <td>t14229455i</td>\n",
       "      <td>A-1049127W</td>\n",
       "      <td>S1c</td>\n",
       "      <td>2020-01-02</td>\n",
       "      <td>0.26</td>\n",
       "      <td>19</td>\n",
       "      <td>205</td>\n",
       "      <td>32</td>\n",
       "      <td>128.000000</td>\n",
       "      <td>0</td>\n",
       "      <td>535.680831</td>\n",
       "      <td>0</td>\n",
       "      <td>3.216255</td>\n",
       "      <td>0.909</td>\n",
       "    </tr>\n",
       "    <tr>\n",
       "      <th>6</th>\n",
       "      <td>W11562554A</td>\n",
       "      <td>A-1049127W</td>\n",
       "      <td>A1g</td>\n",
       "      <td>2020-01-04</td>\n",
       "      <td>5.78</td>\n",
       "      <td>30</td>\n",
       "      <td>324</td>\n",
       "      <td>48</td>\n",
       "      <td>61.000000</td>\n",
       "      <td>0</td>\n",
       "      <td>1314.257355</td>\n",
       "      <td>0</td>\n",
       "      <td>1.464346</td>\n",
       "      <td>-6.004</td>\n",
       "    </tr>\n",
       "  </tbody>\n",
       "</table>\n",
       "</div>"
      ]
     },
     "execution_count": 62,
     "metadata": {},
     "output_type": "execute_result"
    }
   ],
   "execution_count": 62
  },
  {
   "cell_type": "markdown",
   "id": "bc5bbec9",
   "metadata": {},
   "source": [
    "Если мы хотим добавить новый столбец `cheap_price` - характеристика дешевой цены поездки: если цена в первом 25% квартиле (то есть меньше 426) то это будет дешевая цена, поставим значение `Yes`, иначе `Nan`."
   ]
  },
  {
   "cell_type": "code",
   "id": "815270ca",
   "metadata": {
    "ExecuteTime": {
     "end_time": "2024-09-02T12:42:02.919417Z",
     "start_time": "2024-09-02T12:42:02.884533Z"
    }
   },
   "source": [
    "rule_cheap = rides_info.ride_cost < 426\n",
    "rides_info.loc[rule_cheap, 'cheap_price'] = 'Yes'\n",
    "rides_info.head().round(2)"
   ],
   "outputs": [
    {
     "data": {
      "text/plain": [
       "      user_id      car_id ride_id   ride_date  rating  ride_duration  \\\n",
       "0  o52317055h  A-1049127W     b1v  2020-01-01    4.95             21   \n",
       "1  H41298704y  A-1049127W     T1U  2020-01-01    6.91              8   \n",
       "2  v88009926E  A-1049127W     g1p  2020-01-02    6.01             20   \n",
       "3  t14229455i  A-1049127W     S1c  2020-01-02    0.26             19   \n",
       "4  W17067612E  A-1049127W     X1b  2020-01-03    1.21             56   \n",
       "\n",
       "   ride_cost  speed_avg  speed_max  stop_times  distance  refueling  \\\n",
       "0        268         36     113.55           0    514.25          0   \n",
       "1         59         36      93.00           1    197.52          0   \n",
       "2        315         61      81.96           0   1276.33          0   \n",
       "3        205         32     128.00           0    535.68          0   \n",
       "4        554         38      90.00           1   1729.14          0   \n",
       "\n",
       "   user_ride_quality  deviation_normal cheap_price  \n",
       "0               1.12              2.91         Yes  \n",
       "1               1.65              4.13         Yes  \n",
       "2               2.60              2.46         Yes  \n",
       "3               3.22              0.91         Yes  \n",
       "4               2.72             -1.82         NaN  "
      ],
      "text/html": [
       "<div>\n",
       "<style scoped>\n",
       "    .dataframe tbody tr th:only-of-type {\n",
       "        vertical-align: middle;\n",
       "    }\n",
       "\n",
       "    .dataframe tbody tr th {\n",
       "        vertical-align: top;\n",
       "    }\n",
       "\n",
       "    .dataframe thead th {\n",
       "        text-align: right;\n",
       "    }\n",
       "</style>\n",
       "<table border=\"1\" class=\"dataframe\">\n",
       "  <thead>\n",
       "    <tr style=\"text-align: right;\">\n",
       "      <th></th>\n",
       "      <th>user_id</th>\n",
       "      <th>car_id</th>\n",
       "      <th>ride_id</th>\n",
       "      <th>ride_date</th>\n",
       "      <th>rating</th>\n",
       "      <th>ride_duration</th>\n",
       "      <th>ride_cost</th>\n",
       "      <th>speed_avg</th>\n",
       "      <th>speed_max</th>\n",
       "      <th>stop_times</th>\n",
       "      <th>distance</th>\n",
       "      <th>refueling</th>\n",
       "      <th>user_ride_quality</th>\n",
       "      <th>deviation_normal</th>\n",
       "      <th>cheap_price</th>\n",
       "    </tr>\n",
       "  </thead>\n",
       "  <tbody>\n",
       "    <tr>\n",
       "      <th>0</th>\n",
       "      <td>o52317055h</td>\n",
       "      <td>A-1049127W</td>\n",
       "      <td>b1v</td>\n",
       "      <td>2020-01-01</td>\n",
       "      <td>4.95</td>\n",
       "      <td>21</td>\n",
       "      <td>268</td>\n",
       "      <td>36</td>\n",
       "      <td>113.55</td>\n",
       "      <td>0</td>\n",
       "      <td>514.25</td>\n",
       "      <td>0</td>\n",
       "      <td>1.12</td>\n",
       "      <td>2.91</td>\n",
       "      <td>Yes</td>\n",
       "    </tr>\n",
       "    <tr>\n",
       "      <th>1</th>\n",
       "      <td>H41298704y</td>\n",
       "      <td>A-1049127W</td>\n",
       "      <td>T1U</td>\n",
       "      <td>2020-01-01</td>\n",
       "      <td>6.91</td>\n",
       "      <td>8</td>\n",
       "      <td>59</td>\n",
       "      <td>36</td>\n",
       "      <td>93.00</td>\n",
       "      <td>1</td>\n",
       "      <td>197.52</td>\n",
       "      <td>0</td>\n",
       "      <td>1.65</td>\n",
       "      <td>4.13</td>\n",
       "      <td>Yes</td>\n",
       "    </tr>\n",
       "    <tr>\n",
       "      <th>2</th>\n",
       "      <td>v88009926E</td>\n",
       "      <td>A-1049127W</td>\n",
       "      <td>g1p</td>\n",
       "      <td>2020-01-02</td>\n",
       "      <td>6.01</td>\n",
       "      <td>20</td>\n",
       "      <td>315</td>\n",
       "      <td>61</td>\n",
       "      <td>81.96</td>\n",
       "      <td>0</td>\n",
       "      <td>1276.33</td>\n",
       "      <td>0</td>\n",
       "      <td>2.60</td>\n",
       "      <td>2.46</td>\n",
       "      <td>Yes</td>\n",
       "    </tr>\n",
       "    <tr>\n",
       "      <th>3</th>\n",
       "      <td>t14229455i</td>\n",
       "      <td>A-1049127W</td>\n",
       "      <td>S1c</td>\n",
       "      <td>2020-01-02</td>\n",
       "      <td>0.26</td>\n",
       "      <td>19</td>\n",
       "      <td>205</td>\n",
       "      <td>32</td>\n",
       "      <td>128.00</td>\n",
       "      <td>0</td>\n",
       "      <td>535.68</td>\n",
       "      <td>0</td>\n",
       "      <td>3.22</td>\n",
       "      <td>0.91</td>\n",
       "      <td>Yes</td>\n",
       "    </tr>\n",
       "    <tr>\n",
       "      <th>4</th>\n",
       "      <td>W17067612E</td>\n",
       "      <td>A-1049127W</td>\n",
       "      <td>X1b</td>\n",
       "      <td>2020-01-03</td>\n",
       "      <td>1.21</td>\n",
       "      <td>56</td>\n",
       "      <td>554</td>\n",
       "      <td>38</td>\n",
       "      <td>90.00</td>\n",
       "      <td>1</td>\n",
       "      <td>1729.14</td>\n",
       "      <td>0</td>\n",
       "      <td>2.72</td>\n",
       "      <td>-1.82</td>\n",
       "      <td>NaN</td>\n",
       "    </tr>\n",
       "  </tbody>\n",
       "</table>\n",
       "</div>"
      ]
     },
     "execution_count": 63,
     "metadata": {},
     "output_type": "execute_result"
    }
   ],
   "execution_count": 63
  },
  {
   "cell_type": "markdown",
   "id": "9682dfda",
   "metadata": {},
   "source": [
    "### Методы `.filter()` и `.query()`\n"
   ]
  },
  {
   "cell_type": "markdown",
   "id": "337e88cc",
   "metadata": {},
   "source": [
    "Выбор строк или столбцов\n",
    "\n"
   ]
  },
  {
   "cell_type": "code",
   "execution_count": 39,
   "id": "873ef63e",
   "metadata": {},
   "outputs": [
    {
     "data": {
      "text/html": [
       "<div>\n",
       "<style scoped>\n",
       "    .dataframe tbody tr th:only-of-type {\n",
       "        vertical-align: middle;\n",
       "    }\n",
       "\n",
       "    .dataframe tbody tr th {\n",
       "        vertical-align: top;\n",
       "    }\n",
       "\n",
       "    .dataframe thead th {\n",
       "        text-align: right;\n",
       "    }\n",
       "</style>\n",
       "<table border=\"1\" class=\"dataframe\">\n",
       "  <thead>\n",
       "    <tr style=\"text-align: right;\">\n",
       "      <th></th>\n",
       "      <th>animal</th>\n",
       "      <th>age</th>\n",
       "      <th>visits</th>\n",
       "      <th>priority</th>\n",
       "    </tr>\n",
       "  </thead>\n",
       "  <tbody>\n",
       "    <tr>\n",
       "      <th>a</th>\n",
       "      <td>cat</td>\n",
       "      <td>2.5</td>\n",
       "      <td>1</td>\n",
       "      <td>yes</td>\n",
       "    </tr>\n",
       "    <tr>\n",
       "      <th>j</th>\n",
       "      <td>dog</td>\n",
       "      <td>3.0</td>\n",
       "      <td>1</td>\n",
       "      <td>no</td>\n",
       "    </tr>\n",
       "  </tbody>\n",
       "</table>\n",
       "</div>"
      ],
      "text/plain": [
       "  animal  age  visits priority\n",
       "a    cat  2.5       1      yes\n",
       "j    dog  3.0       1       no"
      ]
     },
     "execution_count": 39,
     "metadata": {},
     "output_type": "execute_result"
    }
   ],
   "source": [
    "df.filter(items=['a', 'j'], axis=0)"
   ]
  },
  {
   "cell_type": "markdown",
   "id": "0e7f5d12",
   "metadata": {},
   "source": [
    "<div class=\"alert alert-info\">\n",
    "\n",
    "__Пояснение__\n",
    "\n",
    "Этот метод также имеет параметр `like`. Он отбирает строки / столбцы, в названии которых есть подстрока, присвоенная ему. Параметры `items` и `like` взаимоисключающие.\n",
    "\n"
   ]
  },
  {
   "cell_type": "code",
   "execution_count": 40,
   "id": "7b1f0780",
   "metadata": {},
   "outputs": [
    {
     "data": {
      "text/html": [
       "<div>\n",
       "<style scoped>\n",
       "    .dataframe tbody tr th:only-of-type {\n",
       "        vertical-align: middle;\n",
       "    }\n",
       "\n",
       "    .dataframe tbody tr th {\n",
       "        vertical-align: top;\n",
       "    }\n",
       "\n",
       "    .dataframe thead th {\n",
       "        text-align: right;\n",
       "    }\n",
       "</style>\n",
       "<table border=\"1\" class=\"dataframe\">\n",
       "  <thead>\n",
       "    <tr style=\"text-align: right;\">\n",
       "      <th></th>\n",
       "      <th>animal</th>\n",
       "      <th>age</th>\n",
       "    </tr>\n",
       "  </thead>\n",
       "  <tbody>\n",
       "    <tr>\n",
       "      <th>a</th>\n",
       "      <td>cat</td>\n",
       "      <td>2.5</td>\n",
       "    </tr>\n",
       "    <tr>\n",
       "      <th>b</th>\n",
       "      <td>cat</td>\n",
       "      <td>3.0</td>\n",
       "    </tr>\n",
       "    <tr>\n",
       "      <th>c</th>\n",
       "      <td>snake</td>\n",
       "      <td>0.5</td>\n",
       "    </tr>\n",
       "    <tr>\n",
       "      <th>d</th>\n",
       "      <td>dog</td>\n",
       "      <td>NaN</td>\n",
       "    </tr>\n",
       "    <tr>\n",
       "      <th>e</th>\n",
       "      <td>dog</td>\n",
       "      <td>5.0</td>\n",
       "    </tr>\n",
       "    <tr>\n",
       "      <th>f</th>\n",
       "      <td>cat</td>\n",
       "      <td>2.0</td>\n",
       "    </tr>\n",
       "    <tr>\n",
       "      <th>g</th>\n",
       "      <td>snake</td>\n",
       "      <td>4.5</td>\n",
       "    </tr>\n",
       "    <tr>\n",
       "      <th>h</th>\n",
       "      <td>cat</td>\n",
       "      <td>NaN</td>\n",
       "    </tr>\n",
       "    <tr>\n",
       "      <th>i</th>\n",
       "      <td>dog</td>\n",
       "      <td>7.0</td>\n",
       "    </tr>\n",
       "    <tr>\n",
       "      <th>j</th>\n",
       "      <td>dog</td>\n",
       "      <td>3.0</td>\n",
       "    </tr>\n",
       "  </tbody>\n",
       "</table>\n",
       "</div>"
      ],
      "text/plain": [
       "  animal  age\n",
       "a    cat  2.5\n",
       "b    cat  3.0\n",
       "c  snake  0.5\n",
       "d    dog  NaN\n",
       "e    dog  5.0\n",
       "f    cat  2.0\n",
       "g  snake  4.5\n",
       "h    cat  NaN\n",
       "i    dog  7.0\n",
       "j    dog  3.0"
      ]
     },
     "execution_count": 40,
     "metadata": {},
     "output_type": "execute_result"
    }
   ],
   "source": [
    "df.filter(like='a', axis=1)"
   ]
  },
  {
   "cell_type": "markdown",
   "id": "e33a97e4",
   "metadata": {},
   "source": [
    "__Фильтрация__ альтернативным способом\n",
    "\n"
   ]
  },
  {
   "cell_type": "code",
   "id": "44ed9da0",
   "metadata": {
    "ExecuteTime": {
     "end_time": "2024-09-02T12:44:06.179065Z",
     "start_time": "2024-09-02T12:44:06.172554Z"
    }
   },
   "source": [
    "df.query('age > visits')"
   ],
   "outputs": [
    {
     "data": {
      "text/plain": [
       "  animal  age  visits priority\n",
       "a    cat  2.5       1      yes\n",
       "e    dog  5.0       2       no\n",
       "g  snake  4.5       1       no\n",
       "i    dog  7.0       2       no\n",
       "j    dog  3.0       1       no"
      ],
      "text/html": [
       "<div>\n",
       "<style scoped>\n",
       "    .dataframe tbody tr th:only-of-type {\n",
       "        vertical-align: middle;\n",
       "    }\n",
       "\n",
       "    .dataframe tbody tr th {\n",
       "        vertical-align: top;\n",
       "    }\n",
       "\n",
       "    .dataframe thead th {\n",
       "        text-align: right;\n",
       "    }\n",
       "</style>\n",
       "<table border=\"1\" class=\"dataframe\">\n",
       "  <thead>\n",
       "    <tr style=\"text-align: right;\">\n",
       "      <th></th>\n",
       "      <th>animal</th>\n",
       "      <th>age</th>\n",
       "      <th>visits</th>\n",
       "      <th>priority</th>\n",
       "    </tr>\n",
       "  </thead>\n",
       "  <tbody>\n",
       "    <tr>\n",
       "      <th>a</th>\n",
       "      <td>cat</td>\n",
       "      <td>2.5</td>\n",
       "      <td>1</td>\n",
       "      <td>yes</td>\n",
       "    </tr>\n",
       "    <tr>\n",
       "      <th>e</th>\n",
       "      <td>dog</td>\n",
       "      <td>5.0</td>\n",
       "      <td>2</td>\n",
       "      <td>no</td>\n",
       "    </tr>\n",
       "    <tr>\n",
       "      <th>g</th>\n",
       "      <td>snake</td>\n",
       "      <td>4.5</td>\n",
       "      <td>1</td>\n",
       "      <td>no</td>\n",
       "    </tr>\n",
       "    <tr>\n",
       "      <th>i</th>\n",
       "      <td>dog</td>\n",
       "      <td>7.0</td>\n",
       "      <td>2</td>\n",
       "      <td>no</td>\n",
       "    </tr>\n",
       "    <tr>\n",
       "      <th>j</th>\n",
       "      <td>dog</td>\n",
       "      <td>3.0</td>\n",
       "      <td>1</td>\n",
       "      <td>no</td>\n",
       "    </tr>\n",
       "  </tbody>\n",
       "</table>\n",
       "</div>"
      ]
     },
     "execution_count": 64,
     "metadata": {},
     "output_type": "execute_result"
    }
   ],
   "execution_count": 64
  },
  {
   "cell_type": "markdown",
   "id": "7d6c139a",
   "metadata": {},
   "source": [
    "<div class=\"alert alert-info\">\n",
    "\n",
    "__Пояснение__\n",
    "\n",
    "Если в запросе необходимо использовать переменную, например, `mean_age` то перед ней пишем `@`\n",
    "\n",
    "`df.query('age > @mean_age')`\n",
    "\n",
    "Можно использовать сложные запросы с __'И'__ обозначается как `&`, __'ИЛИ'__  обозначается как `|`.\n",
    "\n",
    "`df.query('age > @mean_age | animal == 'cat')`\n",
    "\n",
    "\n"
   ]
  },
  {
   "cell_type": "markdown",
   "id": "7230dd0f",
   "metadata": {},
   "source": [
    "### Метод [`concat()`](https://pandas.pydata.org/docs/reference/api/pandas.concat.html) позволяет объединять объекты pandas вдоль определенной оси."
   ]
  },
  {
   "cell_type": "code",
   "id": "021e440b",
   "metadata": {
    "ExecuteTime": {
     "end_time": "2024-09-02T12:45:05.360908Z",
     "start_time": "2024-09-02T12:45:05.356876Z"
    }
   },
   "source": [
    "s1 = pd.Series(['a', 'b'])\n",
    "s2 = pd.Series(['c', 'd'])\n",
    "pd.concat([s1, s2])"
   ],
   "outputs": [
    {
     "data": {
      "text/plain": [
       "0    a\n",
       "1    b\n",
       "0    c\n",
       "1    d\n",
       "dtype: object"
      ]
     },
     "execution_count": 65,
     "metadata": {},
     "output_type": "execute_result"
    }
   ],
   "execution_count": 65
  },
  {
   "cell_type": "markdown",
   "id": "c4c81cab",
   "metadata": {},
   "source": [
    "Также есть возможность задавать индексы и лэйблы."
   ]
  },
  {
   "cell_type": "code",
   "id": "2a016815",
   "metadata": {
    "ExecuteTime": {
     "end_time": "2024-09-02T12:58:32.832674Z",
     "start_time": "2024-09-02T12:58:32.828534Z"
    }
   },
   "source": [
    "pd.concat([s1, s2], keys=['s1', 's2'],\n",
    "          names=['Series name', 'Row ID'])"
   ],
   "outputs": [
    {
     "data": {
      "text/plain": [
       "Series name  Row ID\n",
       "s1           0         a\n",
       "             1         b\n",
       "s2           0         c\n",
       "             1         d\n",
       "dtype: object"
      ]
     },
     "execution_count": 69,
     "metadata": {},
     "output_type": "execute_result"
    }
   ],
   "execution_count": 69
  },
  {
   "cell_type": "markdown",
   "id": "4def573f",
   "metadata": {},
   "source": [
    "Пример соединения `DataFrame`."
   ]
  },
  {
   "cell_type": "code",
   "execution_count": 44,
   "id": "e2143cdf",
   "metadata": {},
   "outputs": [
    {
     "data": {
      "text/html": [
       "<div>\n",
       "<style scoped>\n",
       "    .dataframe tbody tr th:only-of-type {\n",
       "        vertical-align: middle;\n",
       "    }\n",
       "\n",
       "    .dataframe tbody tr th {\n",
       "        vertical-align: top;\n",
       "    }\n",
       "\n",
       "    .dataframe thead th {\n",
       "        text-align: right;\n",
       "    }\n",
       "</style>\n",
       "<table border=\"1\" class=\"dataframe\">\n",
       "  <thead>\n",
       "    <tr style=\"text-align: right;\">\n",
       "      <th></th>\n",
       "      <th>letter</th>\n",
       "      <th>number</th>\n",
       "    </tr>\n",
       "  </thead>\n",
       "  <tbody>\n",
       "    <tr>\n",
       "      <th>0</th>\n",
       "      <td>a</td>\n",
       "      <td>1</td>\n",
       "    </tr>\n",
       "    <tr>\n",
       "      <th>1</th>\n",
       "      <td>b</td>\n",
       "      <td>2</td>\n",
       "    </tr>\n",
       "    <tr>\n",
       "      <th>0</th>\n",
       "      <td>c</td>\n",
       "      <td>3</td>\n",
       "    </tr>\n",
       "    <tr>\n",
       "      <th>1</th>\n",
       "      <td>d</td>\n",
       "      <td>4</td>\n",
       "    </tr>\n",
       "  </tbody>\n",
       "</table>\n",
       "</div>"
      ],
      "text/plain": [
       "  letter  number\n",
       "0      a       1\n",
       "1      b       2\n",
       "0      c       3\n",
       "1      d       4"
      ]
     },
     "execution_count": 44,
     "metadata": {},
     "output_type": "execute_result"
    }
   ],
   "source": [
    "df1 = pd.DataFrame([['a', 1], ['b', 2]],\n",
    "                   columns=['letter', 'number'])\n",
    "df2 = pd.DataFrame([['c', 3], ['d', 4]],\n",
    "                   columns=['letter', 'number'])\n",
    "\n",
    "pd.concat([df1, df2])"
   ]
  },
  {
   "cell_type": "markdown",
   "id": "0166c199-df92-48d6-aa9b-cd0f4134bc17",
   "metadata": {},
   "source": [
    "### __Метод `isin()`__ - это один из самых полезных способов создать булевую маску для фильтрации"
   ]
  },
  {
   "cell_type": "code",
   "id": "5ac1b872-ed2e-4b29-a8c1-60f6bedeb068",
   "metadata": {
    "ExecuteTime": {
     "end_time": "2024-09-02T13:39:09.623578Z",
     "start_time": "2024-09-02T13:39:09.605616Z"
    }
   },
   "source": [
    "car2stay = ['g55775125g', 'Y-6420899e', 'z77468044J']\n",
    "mask = rides_info['car_id'].isin(car2stay)"
   ],
   "outputs": [],
   "execution_count": 77
  },
  {
   "cell_type": "code",
   "id": "0f24b29f-c204-4cc2-89f7-8e9579e77096",
   "metadata": {
    "ExecuteTime": {
     "end_time": "2024-09-02T13:39:11.484740Z",
     "start_time": "2024-09-02T13:39:11.479876Z"
    }
   },
   "source": [
    "rides_info[mask].head()"
   ],
   "outputs": [
    {
     "data": {
      "text/plain": [
       "Empty DataFrame\n",
       "Columns: [user_id, car_id, ride_id, ride_date, rating, ride_duration, ride_cost, speed_avg, speed_max, stop_times, distance, refueling, user_ride_quality, deviation_normal, cheap_price]\n",
       "Index: []"
      ],
      "text/html": [
       "<div>\n",
       "<style scoped>\n",
       "    .dataframe tbody tr th:only-of-type {\n",
       "        vertical-align: middle;\n",
       "    }\n",
       "\n",
       "    .dataframe tbody tr th {\n",
       "        vertical-align: top;\n",
       "    }\n",
       "\n",
       "    .dataframe thead th {\n",
       "        text-align: right;\n",
       "    }\n",
       "</style>\n",
       "<table border=\"1\" class=\"dataframe\">\n",
       "  <thead>\n",
       "    <tr style=\"text-align: right;\">\n",
       "      <th></th>\n",
       "      <th>user_id</th>\n",
       "      <th>car_id</th>\n",
       "      <th>ride_id</th>\n",
       "      <th>ride_date</th>\n",
       "      <th>rating</th>\n",
       "      <th>ride_duration</th>\n",
       "      <th>ride_cost</th>\n",
       "      <th>speed_avg</th>\n",
       "      <th>speed_max</th>\n",
       "      <th>stop_times</th>\n",
       "      <th>distance</th>\n",
       "      <th>refueling</th>\n",
       "      <th>user_ride_quality</th>\n",
       "      <th>deviation_normal</th>\n",
       "      <th>cheap_price</th>\n",
       "    </tr>\n",
       "  </thead>\n",
       "  <tbody>\n",
       "  </tbody>\n",
       "</table>\n",
       "</div>"
      ]
     },
     "execution_count": 78,
     "metadata": {},
     "output_type": "execute_result"
    }
   ],
   "execution_count": 78
  },
  {
   "cell_type": "code",
   "id": "5a73dc1e-5f2c-4fe3-815a-c7a46103feb4",
   "metadata": {
    "ExecuteTime": {
     "end_time": "2024-09-02T12:59:17.309316Z",
     "start_time": "2024-09-02T12:59:17.257766Z"
    }
   },
   "source": [
    "rides_info[~mask].head()"
   ],
   "outputs": [
    {
     "data": {
      "text/plain": [
       "      user_id      car_id ride_id   ride_date  rating  ride_duration  \\\n",
       "0  o52317055h  A-1049127W     b1v  2020-01-01    4.95             21   \n",
       "1  H41298704y  A-1049127W     T1U  2020-01-01    6.91              8   \n",
       "2  v88009926E  A-1049127W     g1p  2020-01-02    6.01             20   \n",
       "3  t14229455i  A-1049127W     S1c  2020-01-02    0.26             19   \n",
       "4  W17067612E  A-1049127W     X1b  2020-01-03    1.21             56   \n",
       "\n",
       "   ride_cost  speed_avg   speed_max  stop_times     distance  refueling  \\\n",
       "0        268         36  113.548538           0   514.246920          0   \n",
       "1         59         36   93.000000           1   197.520662          0   \n",
       "2        315         61   81.959675           0  1276.328206          0   \n",
       "3        205         32  128.000000           0   535.680831          0   \n",
       "4        554         38   90.000000           1  1729.143367          0   \n",
       "\n",
       "   user_ride_quality  deviation_normal cheap_price  \n",
       "0           1.115260             2.909         Yes  \n",
       "1           1.650465             4.133         Yes  \n",
       "2           2.599112             2.461         Yes  \n",
       "3           3.216255             0.909         Yes  \n",
       "4           2.716550            -1.822         NaN  "
      ],
      "text/html": [
       "<div>\n",
       "<style scoped>\n",
       "    .dataframe tbody tr th:only-of-type {\n",
       "        vertical-align: middle;\n",
       "    }\n",
       "\n",
       "    .dataframe tbody tr th {\n",
       "        vertical-align: top;\n",
       "    }\n",
       "\n",
       "    .dataframe thead th {\n",
       "        text-align: right;\n",
       "    }\n",
       "</style>\n",
       "<table border=\"1\" class=\"dataframe\">\n",
       "  <thead>\n",
       "    <tr style=\"text-align: right;\">\n",
       "      <th></th>\n",
       "      <th>user_id</th>\n",
       "      <th>car_id</th>\n",
       "      <th>ride_id</th>\n",
       "      <th>ride_date</th>\n",
       "      <th>rating</th>\n",
       "      <th>ride_duration</th>\n",
       "      <th>ride_cost</th>\n",
       "      <th>speed_avg</th>\n",
       "      <th>speed_max</th>\n",
       "      <th>stop_times</th>\n",
       "      <th>distance</th>\n",
       "      <th>refueling</th>\n",
       "      <th>user_ride_quality</th>\n",
       "      <th>deviation_normal</th>\n",
       "      <th>cheap_price</th>\n",
       "    </tr>\n",
       "  </thead>\n",
       "  <tbody>\n",
       "    <tr>\n",
       "      <th>0</th>\n",
       "      <td>o52317055h</td>\n",
       "      <td>A-1049127W</td>\n",
       "      <td>b1v</td>\n",
       "      <td>2020-01-01</td>\n",
       "      <td>4.95</td>\n",
       "      <td>21</td>\n",
       "      <td>268</td>\n",
       "      <td>36</td>\n",
       "      <td>113.548538</td>\n",
       "      <td>0</td>\n",
       "      <td>514.246920</td>\n",
       "      <td>0</td>\n",
       "      <td>1.115260</td>\n",
       "      <td>2.909</td>\n",
       "      <td>Yes</td>\n",
       "    </tr>\n",
       "    <tr>\n",
       "      <th>1</th>\n",
       "      <td>H41298704y</td>\n",
       "      <td>A-1049127W</td>\n",
       "      <td>T1U</td>\n",
       "      <td>2020-01-01</td>\n",
       "      <td>6.91</td>\n",
       "      <td>8</td>\n",
       "      <td>59</td>\n",
       "      <td>36</td>\n",
       "      <td>93.000000</td>\n",
       "      <td>1</td>\n",
       "      <td>197.520662</td>\n",
       "      <td>0</td>\n",
       "      <td>1.650465</td>\n",
       "      <td>4.133</td>\n",
       "      <td>Yes</td>\n",
       "    </tr>\n",
       "    <tr>\n",
       "      <th>2</th>\n",
       "      <td>v88009926E</td>\n",
       "      <td>A-1049127W</td>\n",
       "      <td>g1p</td>\n",
       "      <td>2020-01-02</td>\n",
       "      <td>6.01</td>\n",
       "      <td>20</td>\n",
       "      <td>315</td>\n",
       "      <td>61</td>\n",
       "      <td>81.959675</td>\n",
       "      <td>0</td>\n",
       "      <td>1276.328206</td>\n",
       "      <td>0</td>\n",
       "      <td>2.599112</td>\n",
       "      <td>2.461</td>\n",
       "      <td>Yes</td>\n",
       "    </tr>\n",
       "    <tr>\n",
       "      <th>3</th>\n",
       "      <td>t14229455i</td>\n",
       "      <td>A-1049127W</td>\n",
       "      <td>S1c</td>\n",
       "      <td>2020-01-02</td>\n",
       "      <td>0.26</td>\n",
       "      <td>19</td>\n",
       "      <td>205</td>\n",
       "      <td>32</td>\n",
       "      <td>128.000000</td>\n",
       "      <td>0</td>\n",
       "      <td>535.680831</td>\n",
       "      <td>0</td>\n",
       "      <td>3.216255</td>\n",
       "      <td>0.909</td>\n",
       "      <td>Yes</td>\n",
       "    </tr>\n",
       "    <tr>\n",
       "      <th>4</th>\n",
       "      <td>W17067612E</td>\n",
       "      <td>A-1049127W</td>\n",
       "      <td>X1b</td>\n",
       "      <td>2020-01-03</td>\n",
       "      <td>1.21</td>\n",
       "      <td>56</td>\n",
       "      <td>554</td>\n",
       "      <td>38</td>\n",
       "      <td>90.000000</td>\n",
       "      <td>1</td>\n",
       "      <td>1729.143367</td>\n",
       "      <td>0</td>\n",
       "      <td>2.716550</td>\n",
       "      <td>-1.822</td>\n",
       "      <td>NaN</td>\n",
       "    </tr>\n",
       "  </tbody>\n",
       "</table>\n",
       "</div>"
      ]
     },
     "execution_count": 72,
     "metadata": {},
     "output_type": "execute_result"
    }
   ],
   "execution_count": 72
  },
  {
   "cell_type": "markdown",
   "id": "1ddb2f9e",
   "metadata": {},
   "source": [
    "## Работа с пропущенными значениями\n",
    "\n",
    "<p id=\"9\"></p>\n",
    "\n",
    "Pandas для представления отсутствующих данных использует значение из numpy `np.nan`. По умолчанию оно не включается в вычисления. Где хранятся `np.nan`  показывает `df.isna()` оно же `df.isnull()`\n",
    "\n"
   ]
  },
  {
   "cell_type": "code",
   "id": "848451b4",
   "metadata": {
    "ExecuteTime": {
     "end_time": "2024-09-02T12:59:41.388002Z",
     "start_time": "2024-09-02T12:59:41.382724Z"
    }
   },
   "source": [
    "df.isnull()"
   ],
   "outputs": [
    {
     "data": {
      "text/plain": [
       "   animal    age  visits  priority\n",
       "a   False  False   False     False\n",
       "b   False  False   False     False\n",
       "c   False  False   False     False\n",
       "d   False   True   False     False\n",
       "e   False  False   False     False\n",
       "f   False  False   False     False\n",
       "g   False  False   False     False\n",
       "h   False   True   False     False\n",
       "i   False  False   False     False\n",
       "j   False  False   False     False"
      ],
      "text/html": [
       "<div>\n",
       "<style scoped>\n",
       "    .dataframe tbody tr th:only-of-type {\n",
       "        vertical-align: middle;\n",
       "    }\n",
       "\n",
       "    .dataframe tbody tr th {\n",
       "        vertical-align: top;\n",
       "    }\n",
       "\n",
       "    .dataframe thead th {\n",
       "        text-align: right;\n",
       "    }\n",
       "</style>\n",
       "<table border=\"1\" class=\"dataframe\">\n",
       "  <thead>\n",
       "    <tr style=\"text-align: right;\">\n",
       "      <th></th>\n",
       "      <th>animal</th>\n",
       "      <th>age</th>\n",
       "      <th>visits</th>\n",
       "      <th>priority</th>\n",
       "    </tr>\n",
       "  </thead>\n",
       "  <tbody>\n",
       "    <tr>\n",
       "      <th>a</th>\n",
       "      <td>False</td>\n",
       "      <td>False</td>\n",
       "      <td>False</td>\n",
       "      <td>False</td>\n",
       "    </tr>\n",
       "    <tr>\n",
       "      <th>b</th>\n",
       "      <td>False</td>\n",
       "      <td>False</td>\n",
       "      <td>False</td>\n",
       "      <td>False</td>\n",
       "    </tr>\n",
       "    <tr>\n",
       "      <th>c</th>\n",
       "      <td>False</td>\n",
       "      <td>False</td>\n",
       "      <td>False</td>\n",
       "      <td>False</td>\n",
       "    </tr>\n",
       "    <tr>\n",
       "      <th>d</th>\n",
       "      <td>False</td>\n",
       "      <td>True</td>\n",
       "      <td>False</td>\n",
       "      <td>False</td>\n",
       "    </tr>\n",
       "    <tr>\n",
       "      <th>e</th>\n",
       "      <td>False</td>\n",
       "      <td>False</td>\n",
       "      <td>False</td>\n",
       "      <td>False</td>\n",
       "    </tr>\n",
       "    <tr>\n",
       "      <th>f</th>\n",
       "      <td>False</td>\n",
       "      <td>False</td>\n",
       "      <td>False</td>\n",
       "      <td>False</td>\n",
       "    </tr>\n",
       "    <tr>\n",
       "      <th>g</th>\n",
       "      <td>False</td>\n",
       "      <td>False</td>\n",
       "      <td>False</td>\n",
       "      <td>False</td>\n",
       "    </tr>\n",
       "    <tr>\n",
       "      <th>h</th>\n",
       "      <td>False</td>\n",
       "      <td>True</td>\n",
       "      <td>False</td>\n",
       "      <td>False</td>\n",
       "    </tr>\n",
       "    <tr>\n",
       "      <th>i</th>\n",
       "      <td>False</td>\n",
       "      <td>False</td>\n",
       "      <td>False</td>\n",
       "      <td>False</td>\n",
       "    </tr>\n",
       "    <tr>\n",
       "      <th>j</th>\n",
       "      <td>False</td>\n",
       "      <td>False</td>\n",
       "      <td>False</td>\n",
       "      <td>False</td>\n",
       "    </tr>\n",
       "  </tbody>\n",
       "</table>\n",
       "</div>"
      ]
     },
     "execution_count": 73,
     "metadata": {},
     "output_type": "execute_result"
    }
   ],
   "execution_count": 73
  },
  {
   "cell_type": "markdown",
   "id": "d75b3493-0ad9-45f1-a909-9d037b638cb6",
   "metadata": {},
   "source": [
    "Метод `dropna()` удаляет NaN's из датасета"
   ]
  },
  {
   "cell_type": "code",
   "id": "2a57ba93",
   "metadata": {
    "ExecuteTime": {
     "end_time": "2024-09-02T13:00:04.901301Z",
     "start_time": "2024-09-02T13:00:04.895189Z"
    }
   },
   "source": [
    "df.dropna()"
   ],
   "outputs": [
    {
     "data": {
      "text/plain": [
       "  animal  age  visits priority\n",
       "a    cat  2.5       1      yes\n",
       "b    cat  3.0       3      yes\n",
       "c  snake  0.5       2       no\n",
       "e    dog  5.0       2       no\n",
       "f    cat  2.0       3       no\n",
       "g  snake  4.5       1       no\n",
       "i    dog  7.0       2       no\n",
       "j    dog  3.0       1       no"
      ],
      "text/html": [
       "<div>\n",
       "<style scoped>\n",
       "    .dataframe tbody tr th:only-of-type {\n",
       "        vertical-align: middle;\n",
       "    }\n",
       "\n",
       "    .dataframe tbody tr th {\n",
       "        vertical-align: top;\n",
       "    }\n",
       "\n",
       "    .dataframe thead th {\n",
       "        text-align: right;\n",
       "    }\n",
       "</style>\n",
       "<table border=\"1\" class=\"dataframe\">\n",
       "  <thead>\n",
       "    <tr style=\"text-align: right;\">\n",
       "      <th></th>\n",
       "      <th>animal</th>\n",
       "      <th>age</th>\n",
       "      <th>visits</th>\n",
       "      <th>priority</th>\n",
       "    </tr>\n",
       "  </thead>\n",
       "  <tbody>\n",
       "    <tr>\n",
       "      <th>a</th>\n",
       "      <td>cat</td>\n",
       "      <td>2.5</td>\n",
       "      <td>1</td>\n",
       "      <td>yes</td>\n",
       "    </tr>\n",
       "    <tr>\n",
       "      <th>b</th>\n",
       "      <td>cat</td>\n",
       "      <td>3.0</td>\n",
       "      <td>3</td>\n",
       "      <td>yes</td>\n",
       "    </tr>\n",
       "    <tr>\n",
       "      <th>c</th>\n",
       "      <td>snake</td>\n",
       "      <td>0.5</td>\n",
       "      <td>2</td>\n",
       "      <td>no</td>\n",
       "    </tr>\n",
       "    <tr>\n",
       "      <th>e</th>\n",
       "      <td>dog</td>\n",
       "      <td>5.0</td>\n",
       "      <td>2</td>\n",
       "      <td>no</td>\n",
       "    </tr>\n",
       "    <tr>\n",
       "      <th>f</th>\n",
       "      <td>cat</td>\n",
       "      <td>2.0</td>\n",
       "      <td>3</td>\n",
       "      <td>no</td>\n",
       "    </tr>\n",
       "    <tr>\n",
       "      <th>g</th>\n",
       "      <td>snake</td>\n",
       "      <td>4.5</td>\n",
       "      <td>1</td>\n",
       "      <td>no</td>\n",
       "    </tr>\n",
       "    <tr>\n",
       "      <th>i</th>\n",
       "      <td>dog</td>\n",
       "      <td>7.0</td>\n",
       "      <td>2</td>\n",
       "      <td>no</td>\n",
       "    </tr>\n",
       "    <tr>\n",
       "      <th>j</th>\n",
       "      <td>dog</td>\n",
       "      <td>3.0</td>\n",
       "      <td>1</td>\n",
       "      <td>no</td>\n",
       "    </tr>\n",
       "  </tbody>\n",
       "</table>\n",
       "</div>"
      ]
     },
     "execution_count": 74,
     "metadata": {},
     "output_type": "execute_result"
    }
   ],
   "execution_count": 74
  },
  {
   "cell_type": "markdown",
   "id": "c1a652ce",
   "metadata": {},
   "source": [
    "<div class=\"alert alert-info\">\n",
    "\n",
    "__Замечание__\n",
    "\n",
    "По умолчанию некоторые параметры - этого метода следующие:\n",
    "\n",
    "- `axis=0`  (`0` удаляет строки, содержащие пропущенные значения, `1` удаляет столбцы)\n",
    "- `how='any'` (`'any'` если хотя бы одно `NA`, удаляет эту строку или столбец, `'all'` только если все значения `NA`)\n",
    "- `inplace=False` (`False` выполняет операцию и возвращает копию объекта, True выполняет операцию на месте и возвращает `None`)\n"
   ]
  },
  {
   "cell_type": "markdown",
   "id": "620d0dad",
   "metadata": {},
   "source": [
    "Вжух, и все пропущенные значения исчезли! Однако, не забывайте про параметр `inplace=True`, иначе ваши изменения не сохранятся."
   ]
  },
  {
   "cell_type": "markdown",
   "id": "780e91e2",
   "metadata": {},
   "source": [
    "Заполняет пропущенные значения `df.fillna(n)`, при `n = 5` имеем:"
   ]
  },
  {
   "cell_type": "code",
   "execution_count": 50,
   "id": "c4117061",
   "metadata": {
    "scrolled": true
   },
   "outputs": [
    {
     "data": {
      "text/html": [
       "<div>\n",
       "<style scoped>\n",
       "    .dataframe tbody tr th:only-of-type {\n",
       "        vertical-align: middle;\n",
       "    }\n",
       "\n",
       "    .dataframe tbody tr th {\n",
       "        vertical-align: top;\n",
       "    }\n",
       "\n",
       "    .dataframe thead th {\n",
       "        text-align: right;\n",
       "    }\n",
       "</style>\n",
       "<table border=\"1\" class=\"dataframe\">\n",
       "  <thead>\n",
       "    <tr style=\"text-align: right;\">\n",
       "      <th></th>\n",
       "      <th>animal</th>\n",
       "      <th>age</th>\n",
       "      <th>visits</th>\n",
       "      <th>priority</th>\n",
       "    </tr>\n",
       "  </thead>\n",
       "  <tbody>\n",
       "    <tr>\n",
       "      <th>a</th>\n",
       "      <td>cat</td>\n",
       "      <td>2.5</td>\n",
       "      <td>1</td>\n",
       "      <td>yes</td>\n",
       "    </tr>\n",
       "    <tr>\n",
       "      <th>b</th>\n",
       "      <td>cat</td>\n",
       "      <td>3.0</td>\n",
       "      <td>3</td>\n",
       "      <td>yes</td>\n",
       "    </tr>\n",
       "    <tr>\n",
       "      <th>c</th>\n",
       "      <td>snake</td>\n",
       "      <td>0.5</td>\n",
       "      <td>2</td>\n",
       "      <td>no</td>\n",
       "    </tr>\n",
       "    <tr>\n",
       "      <th>d</th>\n",
       "      <td>dog</td>\n",
       "      <td>5.0</td>\n",
       "      <td>3</td>\n",
       "      <td>yes</td>\n",
       "    </tr>\n",
       "    <tr>\n",
       "      <th>e</th>\n",
       "      <td>dog</td>\n",
       "      <td>5.0</td>\n",
       "      <td>2</td>\n",
       "      <td>no</td>\n",
       "    </tr>\n",
       "    <tr>\n",
       "      <th>f</th>\n",
       "      <td>cat</td>\n",
       "      <td>2.0</td>\n",
       "      <td>3</td>\n",
       "      <td>no</td>\n",
       "    </tr>\n",
       "    <tr>\n",
       "      <th>g</th>\n",
       "      <td>snake</td>\n",
       "      <td>4.5</td>\n",
       "      <td>1</td>\n",
       "      <td>no</td>\n",
       "    </tr>\n",
       "    <tr>\n",
       "      <th>h</th>\n",
       "      <td>cat</td>\n",
       "      <td>5.0</td>\n",
       "      <td>1</td>\n",
       "      <td>yes</td>\n",
       "    </tr>\n",
       "    <tr>\n",
       "      <th>i</th>\n",
       "      <td>dog</td>\n",
       "      <td>7.0</td>\n",
       "      <td>2</td>\n",
       "      <td>no</td>\n",
       "    </tr>\n",
       "    <tr>\n",
       "      <th>j</th>\n",
       "      <td>dog</td>\n",
       "      <td>3.0</td>\n",
       "      <td>1</td>\n",
       "      <td>no</td>\n",
       "    </tr>\n",
       "  </tbody>\n",
       "</table>\n",
       "</div>"
      ],
      "text/plain": [
       "  animal  age  visits priority\n",
       "a    cat  2.5       1      yes\n",
       "b    cat  3.0       3      yes\n",
       "c  snake  0.5       2       no\n",
       "d    dog  5.0       3      yes\n",
       "e    dog  5.0       2       no\n",
       "f    cat  2.0       3       no\n",
       "g  snake  4.5       1       no\n",
       "h    cat  5.0       1      yes\n",
       "i    dog  7.0       2       no\n",
       "j    dog  3.0       1       no"
      ]
     },
     "execution_count": 50,
     "metadata": {},
     "output_type": "execute_result"
    }
   ],
   "source": [
    "df.fillna(5)"
   ]
  },
  {
   "cell_type": "markdown",
   "id": "bbc72bad",
   "metadata": {},
   "source": [
    "<div class=\"alert alert-info\">\n",
    "    \n",
    "По умолчанию некоторые параметры этого метода следующие\n",
    "\n",
    "- `axis=None` (`0` заполняет по строкам, `1` заполняет по столбцам)\n",
    "\n",
    "- `inplace=False` (`False` выполняет операцию и возвращает копию объекта, `True` выполняет операцию на месте и возвращает `None`)"
   ]
  },
  {
   "cell_type": "markdown",
   "id": "513ed6cd",
   "metadata": {},
   "source": [
    "Количество пропусков в каждом столбце"
   ]
  },
  {
   "cell_type": "code",
   "id": "babed913",
   "metadata": {
    "ExecuteTime": {
     "end_time": "2024-09-02T13:22:16.126027Z",
     "start_time": "2024-09-02T13:22:16.122560Z"
    }
   },
   "source": [
    "df.isna().sum()"
   ],
   "outputs": [
    {
     "data": {
      "text/plain": [
       "animal      0\n",
       "age         2\n",
       "visits      0\n",
       "priority    0\n",
       "dtype: int64"
      ]
     },
     "execution_count": 76,
     "metadata": {},
     "output_type": "execute_result"
    }
   ],
   "execution_count": 76
  },
  {
   "cell_type": "markdown",
   "id": "0e715793",
   "metadata": {},
   "source": [
    "`df.fillna()` - Заполняет значения `NA/NaN`. Параметр `inplace=True` заполняет в датафрейме без необходимости копирования. По умолчанию, `inplace=False`."
   ]
  },
  {
   "cell_type": "markdown",
   "id": "bbfa847c",
   "metadata": {},
   "source": [
    "## Основы индексации данных\n"
   ]
  },
  {
   "cell_type": "markdown",
   "id": "5c481e5c",
   "metadata": {},
   "source": [
    "<p id=\"10\"></p>\n",
    "\n",
    "**[df.loc[]](https://pandas.pydata.org/pandas-docs/stable/reference/api/pandas.DataFrame.loc.html)** - Обеспечивает доступ к группе строк и столбцов по меткам (индексам) или логическому массиву. Обратите внимание, что, в отличие от обычных срезов `Python`, включены как начало, так и конец индексов. Через этот метод можно менять значения датафрейма."
   ]
  },
  {
   "cell_type": "markdown",
   "id": "54d8eda6",
   "metadata": {},
   "source": [
    "<img src=\"../images/14rxcddfc9lms2sdubj9h7zgykm.png\"></img>"
   ]
  },
  {
   "cell_type": "markdown",
   "id": "5cb2ef3e",
   "metadata": {},
   "source": [
    "Также, выбрать столбец можно как `df.col`, где `col` - это имя столбца, если имя столбца написано латиницей и не содержит пробелов. На примерах это будет выглядеть так:"
   ]
  },
  {
   "cell_type": "code",
   "execution_count": 52,
   "id": "797c2095",
   "metadata": {},
   "outputs": [
    {
     "data": {
      "text/plain": [
       "a      cat\n",
       "b      cat\n",
       "c    snake\n",
       "d      dog\n",
       "e      dog\n",
       "f      cat\n",
       "g    snake\n",
       "h      cat\n",
       "i      dog\n",
       "j      dog\n",
       "Name: animal, dtype: object"
      ]
     },
     "execution_count": 52,
     "metadata": {},
     "output_type": "execute_result"
    }
   ],
   "source": [
    "df.animal"
   ]
  },
  {
   "cell_type": "code",
   "execution_count": 53,
   "id": "acd0c35d",
   "metadata": {},
   "outputs": [
    {
     "data": {
      "text/plain": [
       "animal    cat\n",
       "visits      1\n",
       "Name: a, dtype: object"
      ]
     },
     "execution_count": 53,
     "metadata": {},
     "output_type": "execute_result"
    }
   ],
   "source": [
    "df.loc['a', ['animal', 'visits']]"
   ]
  },
  {
   "cell_type": "code",
   "execution_count": 54,
   "id": "a8ec0700",
   "metadata": {},
   "outputs": [
    {
     "data": {
      "text/plain": [
       "a      cat\n",
       "b      cat\n",
       "c    snake\n",
       "d      dog\n",
       "e      dog\n",
       "f      cat\n",
       "g    snake\n",
       "h      cat\n",
       "i      dog\n",
       "j      dog\n",
       "Name: animal, dtype: object"
      ]
     },
     "execution_count": 54,
     "metadata": {},
     "output_type": "execute_result"
    }
   ],
   "source": [
    "df.iloc[:,0]"
   ]
  },
  {
   "cell_type": "code",
   "execution_count": 55,
   "id": "230fda55",
   "metadata": {},
   "outputs": [
    {
     "data": {
      "text/html": [
       "<div>\n",
       "<style scoped>\n",
       "    .dataframe tbody tr th:only-of-type {\n",
       "        vertical-align: middle;\n",
       "    }\n",
       "\n",
       "    .dataframe tbody tr th {\n",
       "        vertical-align: top;\n",
       "    }\n",
       "\n",
       "    .dataframe thead th {\n",
       "        text-align: right;\n",
       "    }\n",
       "</style>\n",
       "<table border=\"1\" class=\"dataframe\">\n",
       "  <thead>\n",
       "    <tr style=\"text-align: right;\">\n",
       "      <th></th>\n",
       "      <th>animal</th>\n",
       "    </tr>\n",
       "  </thead>\n",
       "  <tbody>\n",
       "    <tr>\n",
       "      <th>b</th>\n",
       "      <td>cat</td>\n",
       "    </tr>\n",
       "    <tr>\n",
       "      <th>d</th>\n",
       "      <td>dog</td>\n",
       "    </tr>\n",
       "  </tbody>\n",
       "</table>\n",
       "</div>"
      ],
      "text/plain": [
       "  animal\n",
       "b    cat\n",
       "d    dog"
      ]
     },
     "execution_count": 55,
     "metadata": {},
     "output_type": "execute_result"
    }
   ],
   "source": [
    "df.iloc[[1, 3], [0]]"
   ]
  },
  {
   "cell_type": "markdown",
   "id": "a17b7fda",
   "metadata": {},
   "source": [
    "<div class=\"alert alert-info\">\n",
    "\n",
    "Наглядно это выглядит так\n",
    "\n",
    "<img src=\"https://sun9-79.userapi.com/impg/p0NrZ2Owypd4NbKQV4--0kZYi4PfNqk3E31URQ/7NTTharc5XA.jpg?size=301x129&quality=96&sign=36a4edc1d86f1b6618a80545f36cf4ef&type=album\"></img>\n",
    "\n",
    "__Разница между `iloc` и `loc` простая!__   `.loc`- возвращает строку по номеру, `.iloc` по индексу. <br>\n",
    "**Важно:** Ещё одно различие состоит в том, что при наличии числового индекса `.iloc()` не будет включать правую границу в срез, а `.loc()` будет.\n",
    "\n",
    "Посмотрим на примере:"
   ]
  },
  {
   "cell_type": "code",
   "execution_count": 56,
   "id": "b8a3a348-75bc-44eb-bc7c-2ee11f63b204",
   "metadata": {},
   "outputs": [
    {
     "data": {
      "text/html": [
       "<div>\n",
       "<style scoped>\n",
       "    .dataframe tbody tr th:only-of-type {\n",
       "        vertical-align: middle;\n",
       "    }\n",
       "\n",
       "    .dataframe tbody tr th {\n",
       "        vertical-align: top;\n",
       "    }\n",
       "\n",
       "    .dataframe thead th {\n",
       "        text-align: right;\n",
       "    }\n",
       "</style>\n",
       "<table border=\"1\" class=\"dataframe\">\n",
       "  <thead>\n",
       "    <tr style=\"text-align: right;\">\n",
       "      <th></th>\n",
       "      <th>animal</th>\n",
       "      <th>age</th>\n",
       "    </tr>\n",
       "  </thead>\n",
       "  <tbody>\n",
       "    <tr>\n",
       "      <th>b</th>\n",
       "      <td>cat</td>\n",
       "      <td>3.0</td>\n",
       "    </tr>\n",
       "    <tr>\n",
       "      <th>c</th>\n",
       "      <td>snake</td>\n",
       "      <td>0.5</td>\n",
       "    </tr>\n",
       "  </tbody>\n",
       "</table>\n",
       "</div>"
      ],
      "text/plain": [
       "  animal  age\n",
       "b    cat  3.0\n",
       "c  snake  0.5"
      ]
     },
     "execution_count": 56,
     "metadata": {},
     "output_type": "execute_result"
    }
   ],
   "source": [
    "# Строка с индексом 3 и колонка 2 не включены в срез\n",
    "df.iloc[1:3, 0:2]"
   ]
  },
  {
   "cell_type": "code",
   "execution_count": 57,
   "id": "2fa4d32a-649e-4184-9c2e-95a9f316065e",
   "metadata": {},
   "outputs": [
    {
     "data": {
      "text/html": [
       "<div>\n",
       "<style scoped>\n",
       "    .dataframe tbody tr th:only-of-type {\n",
       "        vertical-align: middle;\n",
       "    }\n",
       "\n",
       "    .dataframe tbody tr th {\n",
       "        vertical-align: top;\n",
       "    }\n",
       "\n",
       "    .dataframe thead th {\n",
       "        text-align: right;\n",
       "    }\n",
       "</style>\n",
       "<table border=\"1\" class=\"dataframe\">\n",
       "  <thead>\n",
       "    <tr style=\"text-align: right;\">\n",
       "      <th></th>\n",
       "      <th>animal</th>\n",
       "      <th>age</th>\n",
       "      <th>visits</th>\n",
       "    </tr>\n",
       "  </thead>\n",
       "  <tbody>\n",
       "    <tr>\n",
       "      <th>1</th>\n",
       "      <td>cat</td>\n",
       "      <td>3.0</td>\n",
       "      <td>3</td>\n",
       "    </tr>\n",
       "    <tr>\n",
       "      <th>2</th>\n",
       "      <td>snake</td>\n",
       "      <td>0.5</td>\n",
       "      <td>2</td>\n",
       "    </tr>\n",
       "    <tr>\n",
       "      <th>3</th>\n",
       "      <td>dog</td>\n",
       "      <td>NaN</td>\n",
       "      <td>3</td>\n",
       "    </tr>\n",
       "  </tbody>\n",
       "</table>\n",
       "</div>"
      ],
      "text/plain": [
       "  animal  age  visits\n",
       "1    cat  3.0       3\n",
       "2  snake  0.5       2\n",
       "3    dog  NaN       3"
      ]
     },
     "execution_count": 57,
     "metadata": {},
     "output_type": "execute_result"
    }
   ],
   "source": [
    "# А здесь правые границы включены в срез\n",
    "df.reset_index().loc[1:3, 'animal':'visits']"
   ]
  },
  {
   "cell_type": "markdown",
   "id": "a1b008c1",
   "metadata": {},
   "source": [
    "### Фокусы с индексами\n"
   ]
  },
  {
   "cell_type": "markdown",
   "id": "e0a4916e",
   "metadata": {},
   "source": [
    "Сбрасывает индекс `df.reset_index()`, причем предыдущий индекс не удаляется, а сохраняется в новой колонке. <br>"
   ]
  },
  {
   "cell_type": "code",
   "execution_count": 58,
   "id": "c02635e0",
   "metadata": {},
   "outputs": [
    {
     "data": {
      "text/html": [
       "<div>\n",
       "<style scoped>\n",
       "    .dataframe tbody tr th:only-of-type {\n",
       "        vertical-align: middle;\n",
       "    }\n",
       "\n",
       "    .dataframe tbody tr th {\n",
       "        vertical-align: top;\n",
       "    }\n",
       "\n",
       "    .dataframe thead th {\n",
       "        text-align: right;\n",
       "    }\n",
       "</style>\n",
       "<table border=\"1\" class=\"dataframe\">\n",
       "  <thead>\n",
       "    <tr style=\"text-align: right;\">\n",
       "      <th></th>\n",
       "      <th>index</th>\n",
       "      <th>animal</th>\n",
       "      <th>age</th>\n",
       "      <th>visits</th>\n",
       "      <th>priority</th>\n",
       "    </tr>\n",
       "  </thead>\n",
       "  <tbody>\n",
       "    <tr>\n",
       "      <th>0</th>\n",
       "      <td>a</td>\n",
       "      <td>cat</td>\n",
       "      <td>2.5</td>\n",
       "      <td>1</td>\n",
       "      <td>yes</td>\n",
       "    </tr>\n",
       "    <tr>\n",
       "      <th>1</th>\n",
       "      <td>b</td>\n",
       "      <td>cat</td>\n",
       "      <td>3.0</td>\n",
       "      <td>3</td>\n",
       "      <td>yes</td>\n",
       "    </tr>\n",
       "    <tr>\n",
       "      <th>2</th>\n",
       "      <td>c</td>\n",
       "      <td>snake</td>\n",
       "      <td>0.5</td>\n",
       "      <td>2</td>\n",
       "      <td>no</td>\n",
       "    </tr>\n",
       "    <tr>\n",
       "      <th>3</th>\n",
       "      <td>d</td>\n",
       "      <td>dog</td>\n",
       "      <td>NaN</td>\n",
       "      <td>3</td>\n",
       "      <td>yes</td>\n",
       "    </tr>\n",
       "    <tr>\n",
       "      <th>4</th>\n",
       "      <td>e</td>\n",
       "      <td>dog</td>\n",
       "      <td>5.0</td>\n",
       "      <td>2</td>\n",
       "      <td>no</td>\n",
       "    </tr>\n",
       "    <tr>\n",
       "      <th>5</th>\n",
       "      <td>f</td>\n",
       "      <td>cat</td>\n",
       "      <td>2.0</td>\n",
       "      <td>3</td>\n",
       "      <td>no</td>\n",
       "    </tr>\n",
       "    <tr>\n",
       "      <th>6</th>\n",
       "      <td>g</td>\n",
       "      <td>snake</td>\n",
       "      <td>4.5</td>\n",
       "      <td>1</td>\n",
       "      <td>no</td>\n",
       "    </tr>\n",
       "    <tr>\n",
       "      <th>7</th>\n",
       "      <td>h</td>\n",
       "      <td>cat</td>\n",
       "      <td>NaN</td>\n",
       "      <td>1</td>\n",
       "      <td>yes</td>\n",
       "    </tr>\n",
       "    <tr>\n",
       "      <th>8</th>\n",
       "      <td>i</td>\n",
       "      <td>dog</td>\n",
       "      <td>7.0</td>\n",
       "      <td>2</td>\n",
       "      <td>no</td>\n",
       "    </tr>\n",
       "    <tr>\n",
       "      <th>9</th>\n",
       "      <td>j</td>\n",
       "      <td>dog</td>\n",
       "      <td>3.0</td>\n",
       "      <td>1</td>\n",
       "      <td>no</td>\n",
       "    </tr>\n",
       "  </tbody>\n",
       "</table>\n",
       "</div>"
      ],
      "text/plain": [
       "  index animal  age  visits priority\n",
       "0     a    cat  2.5       1      yes\n",
       "1     b    cat  3.0       3      yes\n",
       "2     c  snake  0.5       2       no\n",
       "3     d    dog  NaN       3      yes\n",
       "4     e    dog  5.0       2       no\n",
       "5     f    cat  2.0       3       no\n",
       "6     g  snake  4.5       1       no\n",
       "7     h    cat  NaN       1      yes\n",
       "8     i    dog  7.0       2       no\n",
       "9     j    dog  3.0       1       no"
      ]
     },
     "execution_count": 58,
     "metadata": {},
     "output_type": "execute_result"
    }
   ],
   "source": [
    "df.reset_index()"
   ]
  },
  {
   "cell_type": "markdown",
   "id": "5a744843-c8e9-46a2-af02-54328d1673f1",
   "metadata": {},
   "source": [
    "Чтобы удалить предыдущий индекс и сохранить изменения, нужно указать параметры `drop=True, inplace=True`. "
   ]
  },
  {
   "cell_type": "code",
   "execution_count": 59,
   "id": "f74c87cf-6e7d-4633-9909-03d75dbdc806",
   "metadata": {},
   "outputs": [
    {
     "data": {
      "text/html": [
       "<div>\n",
       "<style scoped>\n",
       "    .dataframe tbody tr th:only-of-type {\n",
       "        vertical-align: middle;\n",
       "    }\n",
       "\n",
       "    .dataframe tbody tr th {\n",
       "        vertical-align: top;\n",
       "    }\n",
       "\n",
       "    .dataframe thead th {\n",
       "        text-align: right;\n",
       "    }\n",
       "</style>\n",
       "<table border=\"1\" class=\"dataframe\">\n",
       "  <thead>\n",
       "    <tr style=\"text-align: right;\">\n",
       "      <th></th>\n",
       "      <th>animal</th>\n",
       "      <th>age</th>\n",
       "      <th>visits</th>\n",
       "      <th>priority</th>\n",
       "    </tr>\n",
       "  </thead>\n",
       "  <tbody>\n",
       "    <tr>\n",
       "      <th>0</th>\n",
       "      <td>cat</td>\n",
       "      <td>2.5</td>\n",
       "      <td>1</td>\n",
       "      <td>yes</td>\n",
       "    </tr>\n",
       "    <tr>\n",
       "      <th>1</th>\n",
       "      <td>cat</td>\n",
       "      <td>3.0</td>\n",
       "      <td>3</td>\n",
       "      <td>yes</td>\n",
       "    </tr>\n",
       "    <tr>\n",
       "      <th>2</th>\n",
       "      <td>snake</td>\n",
       "      <td>0.5</td>\n",
       "      <td>2</td>\n",
       "      <td>no</td>\n",
       "    </tr>\n",
       "    <tr>\n",
       "      <th>3</th>\n",
       "      <td>dog</td>\n",
       "      <td>NaN</td>\n",
       "      <td>3</td>\n",
       "      <td>yes</td>\n",
       "    </tr>\n",
       "    <tr>\n",
       "      <th>4</th>\n",
       "      <td>dog</td>\n",
       "      <td>5.0</td>\n",
       "      <td>2</td>\n",
       "      <td>no</td>\n",
       "    </tr>\n",
       "  </tbody>\n",
       "</table>\n",
       "</div>"
      ],
      "text/plain": [
       "  animal  age  visits priority\n",
       "0    cat  2.5       1      yes\n",
       "1    cat  3.0       3      yes\n",
       "2  snake  0.5       2       no\n",
       "3    dog  NaN       3      yes\n",
       "4    dog  5.0       2       no"
      ]
     },
     "execution_count": 59,
     "metadata": {},
     "output_type": "execute_result"
    }
   ],
   "source": [
    "df2 = df.reset_index(drop=True)\n",
    "df2.head()"
   ]
  },
  {
   "cell_type": "markdown",
   "id": "55f007d7",
   "metadata": {},
   "source": [
    "Устанавливает индекс `df.set_index()`. Соответственно, берет существующий столбец и переводит его в индекс.\n",
    "\n"
   ]
  },
  {
   "cell_type": "markdown",
   "id": "c9711754",
   "metadata": {},
   "source": [
    "Заменяет индекс `df.reindex()`\n",
    "\n"
   ]
  },
  {
   "cell_type": "code",
   "execution_count": 60,
   "id": "1bc1d4aa",
   "metadata": {},
   "outputs": [
    {
     "data": {
      "text/html": [
       "<div>\n",
       "<style scoped>\n",
       "    .dataframe tbody tr th:only-of-type {\n",
       "        vertical-align: middle;\n",
       "    }\n",
       "\n",
       "    .dataframe tbody tr th {\n",
       "        vertical-align: top;\n",
       "    }\n",
       "\n",
       "    .dataframe thead th {\n",
       "        text-align: right;\n",
       "    }\n",
       "</style>\n",
       "<table border=\"1\" class=\"dataframe\">\n",
       "  <thead>\n",
       "    <tr style=\"text-align: right;\">\n",
       "      <th></th>\n",
       "      <th>animal</th>\n",
       "      <th>age</th>\n",
       "      <th>visits</th>\n",
       "      <th>priority</th>\n",
       "    </tr>\n",
       "  </thead>\n",
       "  <tbody>\n",
       "    <tr>\n",
       "      <th>j</th>\n",
       "      <td>dog</td>\n",
       "      <td>3.0</td>\n",
       "      <td>1</td>\n",
       "      <td>no</td>\n",
       "    </tr>\n",
       "    <tr>\n",
       "      <th>i</th>\n",
       "      <td>dog</td>\n",
       "      <td>7.0</td>\n",
       "      <td>2</td>\n",
       "      <td>no</td>\n",
       "    </tr>\n",
       "    <tr>\n",
       "      <th>h</th>\n",
       "      <td>cat</td>\n",
       "      <td>NaN</td>\n",
       "      <td>1</td>\n",
       "      <td>yes</td>\n",
       "    </tr>\n",
       "    <tr>\n",
       "      <th>0</th>\n",
       "      <td>5</td>\n",
       "      <td>5.0</td>\n",
       "      <td>5</td>\n",
       "      <td>5</td>\n",
       "    </tr>\n",
       "    <tr>\n",
       "      <th>1</th>\n",
       "      <td>5</td>\n",
       "      <td>5.0</td>\n",
       "      <td>5</td>\n",
       "      <td>5</td>\n",
       "    </tr>\n",
       "    <tr>\n",
       "      <th>2</th>\n",
       "      <td>5</td>\n",
       "      <td>5.0</td>\n",
       "      <td>5</td>\n",
       "      <td>5</td>\n",
       "    </tr>\n",
       "  </tbody>\n",
       "</table>\n",
       "</div>"
      ],
      "text/plain": [
       "  animal  age  visits priority\n",
       "j    dog  3.0       1       no\n",
       "i    dog  7.0       2       no\n",
       "h    cat  NaN       1      yes\n",
       "0      5  5.0       5        5\n",
       "1      5  5.0       5        5\n",
       "2      5  5.0       5        5"
      ]
     },
     "execution_count": 60,
     "metadata": {},
     "output_type": "execute_result"
    }
   ],
   "source": [
    "df.reindex(['j', 'i', 'h', 0, 1, 2], axis=0, fill_value=5)"
   ]
  },
  {
   "cell_type": "markdown",
   "id": "a4561299",
   "metadata": {},
   "source": [
    "<p id=\"11\"></p>\n",
    "\n",
    "## Функции\n",
    "Применение функции к данным по строкам/столбцам реализуется как `df.apply(func, axis=0)`\n",
    "\n",
    "<img src=\"https://sun9-70.userapi.com/impg/SfdR2m0D2E02P1xeDa8XJTr2DopfykEufD7Kcw/rQkknfzl800.jpg?size=216x398&quality=96&sign=b395742fb9db51dbeb0e124d17f82901&type=album\"></img>"
   ]
  },
  {
   "cell_type": "markdown",
   "id": "f75fca9f-efc2-4143-b470-2b5213f32576",
   "metadata": {},
   "source": [
    "В примере методу `apply()` передается функция, которая будет применяться к данным. Стоит заметить, что значения типа `str` тоже суммируются."
   ]
  },
  {
   "cell_type": "code",
   "execution_count": 61,
   "id": "001818bb",
   "metadata": {},
   "outputs": [
    {
     "data": {
      "text/plain": [
       "animal      catcatsnakedogdogcatsnakecatdogdog\n",
       "age                                       27.5\n",
       "visits                                      19\n",
       "priority              yesyesnoyesnononoyesnono\n",
       "dtype: object"
      ]
     },
     "execution_count": 61,
     "metadata": {},
     "output_type": "execute_result"
    }
   ],
   "source": [
    "df.apply(np.sum, axis=0)"
   ]
  },
  {
   "cell_type": "markdown",
   "id": "153414fb",
   "metadata": {},
   "source": [
    "Применение функции к данным поэлементно реализуется как `df.applymap(lambda x: func)`\n",
    "\n",
    "В примере методу `applymap()`  передается `lambda`-функция, которая будет применяться к элементу."
   ]
  },
  {
   "cell_type": "code",
   "execution_count": 62,
   "id": "45093bf5",
   "metadata": {},
   "outputs": [
    {
     "data": {
      "text/html": [
       "<div>\n",
       "<style scoped>\n",
       "    .dataframe tbody tr th:only-of-type {\n",
       "        vertical-align: middle;\n",
       "    }\n",
       "\n",
       "    .dataframe tbody tr th {\n",
       "        vertical-align: top;\n",
       "    }\n",
       "\n",
       "    .dataframe thead th {\n",
       "        text-align: right;\n",
       "    }\n",
       "</style>\n",
       "<table border=\"1\" class=\"dataframe\">\n",
       "  <thead>\n",
       "    <tr style=\"text-align: right;\">\n",
       "      <th></th>\n",
       "      <th>animal</th>\n",
       "      <th>age</th>\n",
       "      <th>visits</th>\n",
       "      <th>priority</th>\n",
       "    </tr>\n",
       "  </thead>\n",
       "  <tbody>\n",
       "    <tr>\n",
       "      <th>a</th>\n",
       "      <td>3</td>\n",
       "      <td>3</td>\n",
       "      <td>1</td>\n",
       "      <td>3</td>\n",
       "    </tr>\n",
       "    <tr>\n",
       "      <th>b</th>\n",
       "      <td>3</td>\n",
       "      <td>3</td>\n",
       "      <td>1</td>\n",
       "      <td>3</td>\n",
       "    </tr>\n",
       "    <tr>\n",
       "      <th>c</th>\n",
       "      <td>5</td>\n",
       "      <td>3</td>\n",
       "      <td>1</td>\n",
       "      <td>2</td>\n",
       "    </tr>\n",
       "    <tr>\n",
       "      <th>d</th>\n",
       "      <td>3</td>\n",
       "      <td>3</td>\n",
       "      <td>1</td>\n",
       "      <td>3</td>\n",
       "    </tr>\n",
       "    <tr>\n",
       "      <th>e</th>\n",
       "      <td>3</td>\n",
       "      <td>3</td>\n",
       "      <td>1</td>\n",
       "      <td>2</td>\n",
       "    </tr>\n",
       "    <tr>\n",
       "      <th>f</th>\n",
       "      <td>3</td>\n",
       "      <td>3</td>\n",
       "      <td>1</td>\n",
       "      <td>2</td>\n",
       "    </tr>\n",
       "    <tr>\n",
       "      <th>g</th>\n",
       "      <td>5</td>\n",
       "      <td>3</td>\n",
       "      <td>1</td>\n",
       "      <td>2</td>\n",
       "    </tr>\n",
       "    <tr>\n",
       "      <th>h</th>\n",
       "      <td>3</td>\n",
       "      <td>3</td>\n",
       "      <td>1</td>\n",
       "      <td>3</td>\n",
       "    </tr>\n",
       "    <tr>\n",
       "      <th>i</th>\n",
       "      <td>3</td>\n",
       "      <td>3</td>\n",
       "      <td>1</td>\n",
       "      <td>2</td>\n",
       "    </tr>\n",
       "    <tr>\n",
       "      <th>j</th>\n",
       "      <td>3</td>\n",
       "      <td>3</td>\n",
       "      <td>1</td>\n",
       "      <td>2</td>\n",
       "    </tr>\n",
       "  </tbody>\n",
       "</table>\n",
       "</div>"
      ],
      "text/plain": [
       "   animal  age  visits  priority\n",
       "a       3    3       1         3\n",
       "b       3    3       1         3\n",
       "c       5    3       1         2\n",
       "d       3    3       1         3\n",
       "e       3    3       1         2\n",
       "f       3    3       1         2\n",
       "g       5    3       1         2\n",
       "h       3    3       1         3\n",
       "i       3    3       1         2\n",
       "j       3    3       1         2"
      ]
     },
     "execution_count": 62,
     "metadata": {},
     "output_type": "execute_result"
    }
   ],
   "source": [
    "df.applymap(lambda x: len(str(x)))"
   ]
  },
  {
   "cell_type": "markdown",
   "id": "46998b8f-ad3b-4293-81dc-e440a0a09d1b",
   "metadata": {},
   "source": [
    "<div class=\"alert alert-info\">\n",
    "\n",
    "Также функцию `apply()` можно применять для создания новых колонок на основе уже существующей или на основе всего датафрейма. <br>\n",
    "При этом есть существенная разница при обращении к одной колонке или ко всему датасету.<br>\n",
    "Разберём на примере:"
   ]
  },
  {
   "cell_type": "code",
   "execution_count": 63,
   "id": "9a7bd8d2-420c-48ee-81e2-aace48f3542e",
   "metadata": {},
   "outputs": [
    {
     "data": {
      "text/html": [
       "<div>\n",
       "<style scoped>\n",
       "    .dataframe tbody tr th:only-of-type {\n",
       "        vertical-align: middle;\n",
       "    }\n",
       "\n",
       "    .dataframe tbody tr th {\n",
       "        vertical-align: top;\n",
       "    }\n",
       "\n",
       "    .dataframe thead th {\n",
       "        text-align: right;\n",
       "    }\n",
       "</style>\n",
       "<table border=\"1\" class=\"dataframe\">\n",
       "  <thead>\n",
       "    <tr style=\"text-align: right;\">\n",
       "      <th></th>\n",
       "      <th>animal</th>\n",
       "      <th>age</th>\n",
       "      <th>visits</th>\n",
       "      <th>priority</th>\n",
       "    </tr>\n",
       "  </thead>\n",
       "  <tbody>\n",
       "    <tr>\n",
       "      <th>a</th>\n",
       "      <td>cat</td>\n",
       "      <td>2.5</td>\n",
       "      <td>1</td>\n",
       "      <td>yes</td>\n",
       "    </tr>\n",
       "    <tr>\n",
       "      <th>b</th>\n",
       "      <td>cat</td>\n",
       "      <td>3.0</td>\n",
       "      <td>3</td>\n",
       "      <td>yes</td>\n",
       "    </tr>\n",
       "    <tr>\n",
       "      <th>c</th>\n",
       "      <td>snake</td>\n",
       "      <td>0.5</td>\n",
       "      <td>2</td>\n",
       "      <td>no</td>\n",
       "    </tr>\n",
       "    <tr>\n",
       "      <th>d</th>\n",
       "      <td>dog</td>\n",
       "      <td>NaN</td>\n",
       "      <td>3</td>\n",
       "      <td>yes</td>\n",
       "    </tr>\n",
       "    <tr>\n",
       "      <th>e</th>\n",
       "      <td>dog</td>\n",
       "      <td>5.0</td>\n",
       "      <td>2</td>\n",
       "      <td>no</td>\n",
       "    </tr>\n",
       "  </tbody>\n",
       "</table>\n",
       "</div>"
      ],
      "text/plain": [
       "  animal  age  visits priority\n",
       "a    cat  2.5       1      yes\n",
       "b    cat  3.0       3      yes\n",
       "c  snake  0.5       2       no\n",
       "d    dog  NaN       3      yes\n",
       "e    dog  5.0       2       no"
      ]
     },
     "execution_count": 63,
     "metadata": {},
     "output_type": "execute_result"
    }
   ],
   "source": [
    "df.head()"
   ]
  },
  {
   "cell_type": "code",
   "execution_count": 64,
   "id": "b894a7cb-0d9c-4f63-ba29-281d7b733065",
   "metadata": {},
   "outputs": [
    {
     "data": {
      "text/html": [
       "<div>\n",
       "<style scoped>\n",
       "    .dataframe tbody tr th:only-of-type {\n",
       "        vertical-align: middle;\n",
       "    }\n",
       "\n",
       "    .dataframe tbody tr th {\n",
       "        vertical-align: top;\n",
       "    }\n",
       "\n",
       "    .dataframe thead th {\n",
       "        text-align: right;\n",
       "    }\n",
       "</style>\n",
       "<table border=\"1\" class=\"dataframe\">\n",
       "  <thead>\n",
       "    <tr style=\"text-align: right;\">\n",
       "      <th></th>\n",
       "      <th>animal</th>\n",
       "      <th>age</th>\n",
       "      <th>visits</th>\n",
       "      <th>priority</th>\n",
       "      <th>more_2</th>\n",
       "    </tr>\n",
       "  </thead>\n",
       "  <tbody>\n",
       "    <tr>\n",
       "      <th>a</th>\n",
       "      <td>cat</td>\n",
       "      <td>2.5</td>\n",
       "      <td>1</td>\n",
       "      <td>yes</td>\n",
       "      <td>0</td>\n",
       "    </tr>\n",
       "    <tr>\n",
       "      <th>b</th>\n",
       "      <td>cat</td>\n",
       "      <td>3.0</td>\n",
       "      <td>3</td>\n",
       "      <td>yes</td>\n",
       "      <td>1</td>\n",
       "    </tr>\n",
       "    <tr>\n",
       "      <th>c</th>\n",
       "      <td>snake</td>\n",
       "      <td>0.5</td>\n",
       "      <td>2</td>\n",
       "      <td>no</td>\n",
       "      <td>0</td>\n",
       "    </tr>\n",
       "    <tr>\n",
       "      <th>d</th>\n",
       "      <td>dog</td>\n",
       "      <td>NaN</td>\n",
       "      <td>3</td>\n",
       "      <td>yes</td>\n",
       "      <td>1</td>\n",
       "    </tr>\n",
       "    <tr>\n",
       "      <th>e</th>\n",
       "      <td>dog</td>\n",
       "      <td>5.0</td>\n",
       "      <td>2</td>\n",
       "      <td>no</td>\n",
       "      <td>0</td>\n",
       "    </tr>\n",
       "  </tbody>\n",
       "</table>\n",
       "</div>"
      ],
      "text/plain": [
       "  animal  age  visits priority  more_2\n",
       "a    cat  2.5       1      yes       0\n",
       "b    cat  3.0       3      yes       1\n",
       "c  snake  0.5       2       no       0\n",
       "d    dog  NaN       3      yes       1\n",
       "e    dog  5.0       2       no       0"
      ]
     },
     "execution_count": 64,
     "metadata": {},
     "output_type": "execute_result"
    }
   ],
   "source": [
    "# Создадим бинарную колонку 'more_2', если было больше 2-х визитов на основе колонки 'visits'\n",
    "df['more_2'] = df['visits'].apply(lambda x: 1 if x > 2 else 0)\n",
    "df.head()"
   ]
  },
  {
   "cell_type": "code",
   "execution_count": 65,
   "id": "c3312241-ae3f-4d71-b244-993f0348f5c6",
   "metadata": {},
   "outputs": [
    {
     "data": {
      "text/html": [
       "<div>\n",
       "<style scoped>\n",
       "    .dataframe tbody tr th:only-of-type {\n",
       "        vertical-align: middle;\n",
       "    }\n",
       "\n",
       "    .dataframe tbody tr th {\n",
       "        vertical-align: top;\n",
       "    }\n",
       "\n",
       "    .dataframe thead th {\n",
       "        text-align: right;\n",
       "    }\n",
       "</style>\n",
       "<table border=\"1\" class=\"dataframe\">\n",
       "  <thead>\n",
       "    <tr style=\"text-align: right;\">\n",
       "      <th></th>\n",
       "      <th>animal</th>\n",
       "      <th>age</th>\n",
       "      <th>visits</th>\n",
       "      <th>priority</th>\n",
       "      <th>more_2</th>\n",
       "      <th>more_2v2</th>\n",
       "    </tr>\n",
       "  </thead>\n",
       "  <tbody>\n",
       "    <tr>\n",
       "      <th>a</th>\n",
       "      <td>cat</td>\n",
       "      <td>2.5</td>\n",
       "      <td>1</td>\n",
       "      <td>yes</td>\n",
       "      <td>0</td>\n",
       "      <td>0</td>\n",
       "    </tr>\n",
       "    <tr>\n",
       "      <th>b</th>\n",
       "      <td>cat</td>\n",
       "      <td>3.0</td>\n",
       "      <td>3</td>\n",
       "      <td>yes</td>\n",
       "      <td>1</td>\n",
       "      <td>1</td>\n",
       "    </tr>\n",
       "    <tr>\n",
       "      <th>c</th>\n",
       "      <td>snake</td>\n",
       "      <td>0.5</td>\n",
       "      <td>2</td>\n",
       "      <td>no</td>\n",
       "      <td>0</td>\n",
       "      <td>0</td>\n",
       "    </tr>\n",
       "    <tr>\n",
       "      <th>d</th>\n",
       "      <td>dog</td>\n",
       "      <td>NaN</td>\n",
       "      <td>3</td>\n",
       "      <td>yes</td>\n",
       "      <td>1</td>\n",
       "      <td>1</td>\n",
       "    </tr>\n",
       "    <tr>\n",
       "      <th>e</th>\n",
       "      <td>dog</td>\n",
       "      <td>5.0</td>\n",
       "      <td>2</td>\n",
       "      <td>no</td>\n",
       "      <td>0</td>\n",
       "      <td>0</td>\n",
       "    </tr>\n",
       "  </tbody>\n",
       "</table>\n",
       "</div>"
      ],
      "text/plain": [
       "  animal  age  visits priority  more_2  more_2v2\n",
       "a    cat  2.5       1      yes       0         0\n",
       "b    cat  3.0       3      yes       1         1\n",
       "c  snake  0.5       2       no       0         0\n",
       "d    dog  NaN       3      yes       1         1\n",
       "e    dog  5.0       2       no       0         0"
      ]
     },
     "execution_count": 65,
     "metadata": {},
     "output_type": "execute_result"
    }
   ],
   "source": [
    "# Теперь создадим такую же колонку с названием 'more_2v2' на основе всего df\n",
    "df['more_2v2'] = df.apply(lambda x: 1 if x.visits > 2 else 0, axis=1)\n",
    "df.head()"
   ]
  },
  {
   "cell_type": "markdown",
   "id": "45250253-fccf-4ae4-8ad9-9d2349dec909",
   "metadata": {},
   "source": [
    "Отметим, что при использовании `apply()` к датасету - надо указывать название колонки через точку и параметр `axis`."
   ]
  },
  {
   "cell_type": "markdown",
   "id": "6f30ab8a",
   "metadata": {},
   "source": [
    "### Встроенные функции\n",
    "\n",
    "Здесь перечислены некоторые полезные методы, применимые к `Series`\n",
    "\n",
    "<img src=\"https://sun9-17.userapi.com/impg/QIvfQYVUFnOii25XfA6yL9HSsnVaMSI71Ccqow/BROCketQrDw.jpg?size=1302x1068&quality=96&sign=ffe48fa08279d37d7e023cce818f888c&type=album\" width=700></img>"
   ]
  },
  {
   "cell_type": "markdown",
   "id": "d2a4cb70-f07b-4a0f-96d7-09a06f508a1d",
   "metadata": {},
   "source": [
    "Например, посчитаем количество уникальных животных:"
   ]
  },
  {
   "cell_type": "code",
   "execution_count": 66,
   "id": "79bfd7df-34db-485d-8c6c-2a877779074d",
   "metadata": {},
   "outputs": [
    {
     "data": {
      "text/plain": [
       "3"
      ]
     },
     "execution_count": 66,
     "metadata": {},
     "output_type": "execute_result"
    }
   ],
   "source": [
    "df.animal.nunique()"
   ]
  },
  {
   "cell_type": "markdown",
   "id": "2bcb18de-3216-4297-9266-da80af590910",
   "metadata": {},
   "source": [
    "<div class=\"alert alert-info\">\n",
    "    \n",
    "<b> Заключение: </b>\n",
    "В этом уроке мы познакомились с основными возможностями библиотеки `Pandas`, для закрепления материала рекомендуем прорешать задачи в степах.<br>\n",
    "С более продвинутыми функциями библиотеки и их применением для решения практических задач будем разбираться в следующих уроках."
   ]
  }
 ],
 "metadata": {
  "kernelspec": {
   "display_name": "Python 3 (ipykernel)",
   "language": "python",
   "name": "python3"
  },
  "language_info": {
   "codemirror_mode": {
    "name": "ipython",
    "version": 3
   },
   "file_extension": ".py",
   "mimetype": "text/x-python",
   "name": "python",
   "nbconvert_exporter": "python",
   "pygments_lexer": "ipython3",
   "version": "3.11.4"
  },
  "vscode": {
   "interpreter": {
    "hash": "31f2aee4e71d21fbe5cf8b01ff0e069b9275f58929596ceb00d14d90e3e16cd6"
   }
  }
 },
 "nbformat": 4,
 "nbformat_minor": 5
}
